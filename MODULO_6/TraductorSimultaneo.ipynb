{
  "nbformat": 4,
  "nbformat_minor": 0,
  "metadata": {
    "colab": {
      "provenance": []
    },
    "kernelspec": {
      "name": "python3",
      "display_name": "Python 3"
    },
    "language_info": {
      "name": "python"
    }
  },
  "cells": [
    {
      "cell_type": "markdown",
      "source": [
        "Para este ejercicio, utilizaremos la biblioteca transformers de Hugging Face, que proporciona acceso a modelos de traducción preentrenados como el modelo Helsinki-NLP para traducción automática. Primero, deberás instalar la biblioteca transformers y sentencepiece que se necesita para el procesamiento del texto."
      ],
      "metadata": {
        "id": "03s3ulyT8y6D"
      }
    },
    {
      "cell_type": "code",
      "execution_count": null,
      "metadata": {
        "colab": {
          "base_uri": "https://localhost:8080/"
        },
        "id": "cCYPuDbp8eQO",
        "outputId": "da74afe8-ef74-4485-b23d-b3ed7ade57e8"
      },
      "outputs": [
        {
          "output_type": "stream",
          "name": "stdout",
          "text": [
            "Requirement already satisfied: transformers in /usr/local/lib/python3.10/dist-packages (4.35.2)\n",
            "Collecting sentencepiece\n",
            "  Downloading sentencepiece-0.1.99-cp310-cp310-manylinux_2_17_x86_64.manylinux2014_x86_64.whl (1.3 MB)\n",
            "\u001b[2K     \u001b[90m━━━━━━━━━━━━━━━━━━━━━━━━━━━━━━━━━━━━━━━━\u001b[0m \u001b[32m1.3/1.3 MB\u001b[0m \u001b[31m12.8 MB/s\u001b[0m eta \u001b[36m0:00:00\u001b[0m\n",
            "\u001b[?25hRequirement already satisfied: filelock in /usr/local/lib/python3.10/dist-packages (from transformers) (3.13.1)\n",
            "Requirement already satisfied: huggingface-hub<1.0,>=0.16.4 in /usr/local/lib/python3.10/dist-packages (from transformers) (0.19.4)\n",
            "Requirement already satisfied: numpy>=1.17 in /usr/local/lib/python3.10/dist-packages (from transformers) (1.23.5)\n",
            "Requirement already satisfied: packaging>=20.0 in /usr/local/lib/python3.10/dist-packages (from transformers) (23.2)\n",
            "Requirement already satisfied: pyyaml>=5.1 in /usr/local/lib/python3.10/dist-packages (from transformers) (6.0.1)\n",
            "Requirement already satisfied: regex!=2019.12.17 in /usr/local/lib/python3.10/dist-packages (from transformers) (2023.6.3)\n",
            "Requirement already satisfied: requests in /usr/local/lib/python3.10/dist-packages (from transformers) (2.31.0)\n",
            "Requirement already satisfied: tokenizers<0.19,>=0.14 in /usr/local/lib/python3.10/dist-packages (from transformers) (0.15.0)\n",
            "Requirement already satisfied: safetensors>=0.3.1 in /usr/local/lib/python3.10/dist-packages (from transformers) (0.4.1)\n",
            "Requirement already satisfied: tqdm>=4.27 in /usr/local/lib/python3.10/dist-packages (from transformers) (4.66.1)\n",
            "Requirement already satisfied: fsspec>=2023.5.0 in /usr/local/lib/python3.10/dist-packages (from huggingface-hub<1.0,>=0.16.4->transformers) (2023.6.0)\n",
            "Requirement already satisfied: typing-extensions>=3.7.4.3 in /usr/local/lib/python3.10/dist-packages (from huggingface-hub<1.0,>=0.16.4->transformers) (4.5.0)\n",
            "Requirement already satisfied: charset-normalizer<4,>=2 in /usr/local/lib/python3.10/dist-packages (from requests->transformers) (3.3.2)\n",
            "Requirement already satisfied: idna<4,>=2.5 in /usr/local/lib/python3.10/dist-packages (from requests->transformers) (3.6)\n",
            "Requirement already satisfied: urllib3<3,>=1.21.1 in /usr/local/lib/python3.10/dist-packages (from requests->transformers) (2.0.7)\n",
            "Requirement already satisfied: certifi>=2017.4.17 in /usr/local/lib/python3.10/dist-packages (from requests->transformers) (2023.11.17)\n",
            "Installing collected packages: sentencepiece\n",
            "Successfully installed sentencepiece-0.1.99\n"
          ]
        }
      ],
      "source": [
        "pip install transformers sentencepiece"
      ]
    },
    {
      "cell_type": "markdown",
      "source": [
        "Este código usa un modelo preentrenado de Hugging Face para traducir texto del inglés al español. La función simple_translator recibe una entrada de texto del usuario, la procesa con el tokenizer del modelo y luego genera la traducción utilizando el modelo."
      ],
      "metadata": {
        "id": "R_8rh0Qm9ReU"
      }
    },
    {
      "cell_type": "code",
      "source": [
        "from transformers import MarianMTModel, MarianTokenizer\n",
        "\n",
        "def simple_translator():\n",
        "    # Seleccionar el modelo de traducción. Aquí usamos un modelo para traducir del inglés al español.\n",
        "    model_name = 'Helsinki-NLP/opus-mt-en-es'\n",
        "    model = MarianMTModel.from_pretrained(model_name)\n",
        "    tokenizer = MarianTokenizer.from_pretrained(model_name)\n",
        "\n",
        "    while True:\n",
        "        # Recibir texto en inglés del usuario\n",
        "        text = input(\"Ingresa el texto en inglés a traducir (o 'salir' para terminar): \")\n",
        "        if text.lower() == 'salir':\n",
        "            break\n",
        "\n",
        "        # Preprocesar y traducir el texto\n",
        "        translated = model.generate(**tokenizer(text, return_tensors=\"pt\", padding=True))\n",
        "\n",
        "        # Mostrar el texto traducido\n",
        "        translated_text = tokenizer.decode(translated[0], skip_special_tokens=True)\n",
        "        print(f\"Traducción al español: {translated_text}\\n\")\n",
        "\n",
        "if __name__ == \"__main__\":\n",
        "    simple_translator()"
      ],
      "metadata": {
        "colab": {
          "base_uri": "https://localhost:8080/"
        },
        "id": "8X-_OuQv9D_3",
        "outputId": "02d1123f-29fc-404c-aaf5-6928cb216689"
      },
      "execution_count": null,
      "outputs": [
        {
          "output_type": "stream",
          "name": "stderr",
          "text": [
            "/usr/local/lib/python3.10/dist-packages/transformers/models/marian/tokenization_marian.py:197: UserWarning: Recommended: pip install sacremoses.\n",
            "  warnings.warn(\"Recommended: pip install sacremoses.\")\n"
          ]
        },
        {
          "name": "stdout",
          "output_type": "stream",
          "text": [
            "Ingresa el texto en inglés a traducir (o 'salir' para terminar): I was born in Spain\n",
            "Traducción al español: Nací en España\n",
            "\n",
            "Ingresa el texto en inglés a traducir (o 'salir' para terminar): salir\n"
          ]
        }
      ]
    }
  ]
}