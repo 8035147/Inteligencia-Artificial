{
  "nbformat": 4,
  "nbformat_minor": 0,
  "metadata": {
    "colab": {
      "provenance": []
    },
    "kernelspec": {
      "name": "python3",
      "display_name": "Python 3"
    },
    "language_info": {
      "name": "python"
    }
  },
  "cells": [
    {
      "cell_type": "markdown",
      "source": [
        "**Creamos un ChatBot en Google Colab**"
      ],
      "metadata": {
        "id": "gKNGnjesItea"
      }
    },
    {
      "cell_type": "markdown",
      "source": [
        "Este bloque de código está diseñado para instalar y configurar Python 3.7 en tu entorno de Google Colab, debes ejecutar los siguientes comandos para desinstalar la version actual de python que es la 3.10.12 e instalar python 3.7"
      ],
      "metadata": {
        "id": "PmYQlZ70Ii5j"
      }
    },
    {
      "cell_type": "code",
      "execution_count": null,
      "metadata": {
        "id": "6DHFykJrIic0"
      },
      "outputs": [],
      "source": [
        "# Muestra la versión actual de Python\n",
        "!python --version\n",
        "# Python 3.10.12\n",
        "\n",
        "# Instala y actualiza a Python 3.7\n",
        "!sudo apt-get update -y\n",
        "!sudo apt-get install python3.7\n",
        "\n",
        "# Cambia las alternativas de Python\n",
        "!sudo update-alternatives --install /usr/bin/python3 python3 /usr/bin/python3.10 1\n",
        "!sudo update-alternatives --install /usr/bin/python3 python3 /usr/bin/python3.7 2\n",
        "\n",
        "# Configura la versión predeterminada de Python\n",
        "!sudo update-alternatives --config python3\n",
        "\n",
        "# Verifica la versión de Python después de la instalación\n",
        "!python --version"
      ]
    },
    {
      "cell_type": "markdown",
      "source": [
        "En el siguiente bloque de código se realizan varias acciones para configurar un entorno de ejecución en Google Colab con Python 3.7 y las dependencias necesarias para Google Colab, ejecutalo"
      ],
      "metadata": {
        "id": "d5udMwltJUQS"
      }
    },
    {
      "cell_type": "code",
      "source": [
        "# Muestra la versión actual de Python\n",
        "!python --version\n",
        "# Python 3.7.17\n",
        "\n",
        "# Instala pip para la nueva versión de Python (3.7)\n",
        "!sudo apt-get install python3.7-distutils\n",
        "!wget https://bootstrap.pypa.io/get-pip.py\n",
        "!python3.7 get-pip.py\n",
        "\n",
        "# Instala las dependencias de Colab para la nueva versión de Python\n",
        "!python3.7 -m pip install ipython ipython_genutils ipykernel jupyter_console prompt_toolkit httplib2 astor\n",
        "\n",
        "# Enlace al paquete antiguo de Google\n",
        "!ln -s /usr/local/lib/python3.10/dist-packages/google /usr/local/lib/python3.7/dist-packages/google\n",
        "\n",
        "# Verifica la versión de Python después de la instalación\n",
        "!python --version"
      ],
      "metadata": {
        "id": "9cVtap1DI5fS"
      },
      "execution_count": null,
      "outputs": []
    },
    {
      "cell_type": "markdown",
      "source": [
        "Posteriormente, ejecutamos el siguiente código para evitar posibles inconvenientes al reiniciar el entorno de ejecución."
      ],
      "metadata": {
        "id": "hjfdOHUwJ486"
      }
    },
    {
      "cell_type": "code",
      "source": [
        "# Instala google-colab y sus dependencias para Python 3.7\n",
        "!python3.7 -m pip install google-colab==1.0.0\n",
        "\n",
        "# Instala las dependencias específicas de Colab para Python 3.7\n",
        "!python3.7 -m pip install ipython==7.9.0 ipython_genutils==0.2.0 ipykernel==5.3.4 jupyter_console==6.1.0 prompt_toolkit==2.0.10 httplib2==0.17.4 astor==0.8.1 traitlets==5.7.1 google==2.0.3\n"
      ],
      "metadata": {
        "id": "oQqRiN1-QGH6"
      },
      "execution_count": null,
      "outputs": []
    },
    {
      "cell_type": "markdown",
      "source": [
        "Ahora, reiniciamos el entorno de ejecución y esperamos a que estemos conectados.\n",
        "\n",
        "Pasos para reiniciar el entorno de ejecucion en Google Colab:\n",
        "\n",
        "1. **Ir al Menú:**\n",
        "   - Dirígete al menú \"Entorno de ejecución\" en la parte superior del entorno de Colab.\n",
        "\n",
        "2. **Seleccionar Reiniciar Entorno de Ejecución:**\n",
        "   - Haz clic en \"Reiniciar sesión\". Se abrirá una ventana emergente para confirmar el reinicio.\n",
        "\n",
        "3. **Confirmar Reinicio:**\n",
        "   - Haz clic en \"Sí\" en la ventana emergente para confirmar el reinicio del entorno de ejecución.\n",
        "\n",
        "4. **Esperar a que se Reinicie:**\n",
        "   - Colab reiniciará el entorno. Puedes seguir el progreso en la barra de estado en la parte superior de la página. Una vez completado, deberías ver un mensaje que indica que el reinicio se ha realizado con éxito.\n"
      ],
      "metadata": {
        "id": "Z-IKf_rVKzoR"
      }
    },
    {
      "cell_type": "markdown",
      "source": [
        "Luego, estas líneas de código instalan las versiones específicas de las bibliotecas chatterbot y chatterbot_corpus utilizando Python 3.7. La primera línea instala la versión 1.0.5 de chatterbot, una biblioteca de Python para la creación de chatbots. La segunda línea instala la versión 1.2.0 de chatterbot_corpus, que proporciona conjuntos de datos de entrenamiento para chatterbot, tambien las ejecutamos."
      ],
      "metadata": {
        "id": "Jv5ykDGEK_xq"
      }
    },
    {
      "cell_type": "code",
      "source": [
        "!python3.7 -m pip install chatterbot==1.0.5\n",
        "!python3.7 -m pip install chatterbot_corpus==1.2.0"
      ],
      "metadata": {
        "id": "0jiV8p8uLBU6"
      },
      "execution_count": null,
      "outputs": []
    },
    {
      "cell_type": "markdown",
      "source": [
        "Este código utiliza la biblioteca chatterbot para crear un chatbot en español. Se instancia un objeto ChatBot llamado 'MiBot' y se crea un entrenador (ChatterBotCorpusTrainer) para entrenar al bot con el corpus de datos en español proporcionado por chatterbot. Luego, se inicia un bucle interactivo donde el bot espera la entrada del usuario. Si el usuario escribe 'salir', el bucle se rompe y el bot se despide; de lo contrario, procesa la entrada del usuario y devuelve una respuesta. El chatbot está diseñado para responder a diversas consultas y proporciona una interfaz sencilla de interacción en español, ofreciendo así una introducción práctica al desarrollo de chatbots utilizando la biblioteca chatterbot."
      ],
      "metadata": {
        "id": "yy_6cJ7JLr-y"
      }
    },
    {
      "cell_type": "code",
      "source": [
        "from chatterbot import ChatBot\n",
        "from chatterbot.trainers import ChatterBotCorpusTrainer\n",
        "\n",
        "# Crea una instancia de ChatBot\n",
        "chatbot = ChatBot('MiBot')\n",
        "\n",
        "# Crea un entrenador y entrena al bot con el corpus en español\n",
        "trainer = ChatterBotCorpusTrainer(chatbot)\n",
        "trainer.train('chatterbot.corpus.spanish')\n",
        "\n",
        "# Bucle de interacción con el usuario\n",
        "print(\"Hola, soy tu bot en español. Puedes preguntarme lo que quieras. Para salir, escribe 'salir'.\")\n",
        "\n",
        "while True:\n",
        "    # Obtiene la entrada del usuario\n",
        "    user_input = input(\"Tú: \")\n",
        "\n",
        "    # Verifica si el usuario quiere salir\n",
        "    if user_input.lower() == 'salir':\n",
        "        print(\"Adiós. ¡Hasta luego!\")\n",
        "        break\n",
        "\n",
        "    # Obtiene la respuesta del bot\n",
        "    response = chatbot.get_response(user_input)\n",
        "    print(f\"Bot: {response}\")"
      ],
      "metadata": {
        "id": "sVgE8wSGLSTk"
      },
      "execution_count": null,
      "outputs": []
    },
    {
      "cell_type": "code",
      "source": [
        "import sys ; sys.version\n",
        "#Con este comando se obtiene la información sobre la versión de Python que estás utilizando. Al ejecutar este código, obtendrás\n",
        "#una cadena de texto que representa la versión del intérprete de Python en tu sistema.\n",
        "#Debería salir algo como esto: '3.7.17 (default, Jun  6 2023, 20:10:09) \\n[GCC 11.3.0]'"
      ],
      "metadata": {
        "id": "kHJgV38cL0Nq"
      },
      "execution_count": null,
      "outputs": []
    }
  ]
}