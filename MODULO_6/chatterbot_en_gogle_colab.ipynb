{
  "nbformat": 4,
  "nbformat_minor": 0,
  "metadata": {
    "colab": {
      "provenance": []
    },
    "kernelspec": {
      "name": "python3",
      "display_name": "Python 3"
    },
    "language_info": {
      "name": "python"
    }
  },
  "cells": [
    {
      "cell_type": "markdown",
      "source": [
        "ejecutar los siguientes comandos para desinstalar la version actual de python que es la 3.10.12 e instalar python 3.7"
      ],
      "metadata": {
        "id": "RQR9LozwHlyQ"
      }
    },
    {
      "cell_type": "code",
      "execution_count": null,
      "metadata": {
        "id": "wkXztynub8l3"
      },
      "outputs": [],
      "source": [
        "# Muestra la versión actual de Python\n",
        "!python --version\n",
        "# Python 3.10.12\n",
        "\n",
        "# Instala y actualiza a Python 3.7\n",
        "!sudo apt-get update -y\n",
        "!sudo apt-get install python3.7\n",
        "\n",
        "# Cambia las alternativas de Python\n",
        "!sudo update-alternatives --install /usr/bin/python3 python3 /usr/bin/python3.10 1\n",
        "!sudo update-alternatives --install /usr/bin/python3 python3 /usr/bin/python3.7 2\n",
        "\n",
        "# Configura la versión predeterminada de Python\n",
        "!sudo update-alternatives --config python3\n",
        "\n",
        "# Verifica la versión de Python después de la instalación\n",
        "!python --version"
      ]
    },
    {
      "cell_type": "code",
      "source": [
        "# Muestra la versión actual de Python\n",
        "!python --version\n",
        "# Python 3.10.12\n",
        "\n",
        "# Instala pip para la nueva versión de Python (3.7)\n",
        "!sudo apt-get install python3.7-distutils\n",
        "!wget https://bootstrap.pypa.io/get-pip.py\n",
        "!python3.7 get-pip.py\n",
        "\n",
        "# Instala las dependencias de Colab para la nueva versión de Python\n",
        "!python3.7 -m pip install ipython ipython_genutils ipykernel jupyter_console prompt_toolkit httplib2 astor\n",
        "\n",
        "# Enlace al paquete antiguo de Google\n",
        "!ln -s /usr/local/lib/python3.10/dist-packages/google /usr/local/lib/python3.7/dist-packages/google\n",
        "\n",
        "# Verifica la versión de Python después de la instalación\n",
        "!python --version"
      ],
      "metadata": {
        "id": "MdP-t5-scWC2"
      },
      "execution_count": null,
      "outputs": []
    },
    {
      "cell_type": "code",
      "source": [
        "# Instala google-colab y dependencias en Python 3.7\n",
        "!python3.7 -m pip install google-colab==1.0.0\n",
        "\n",
        "# Instala dependencias específicas de Colab en Python 3.7\n",
        "!python3.7 -m pip install ipython==7.9.0 ipython_genutils==0.2.0 ipykernel==5.3.4 jupyter_console==6.1.0 prompt_toolkit==2.0.10 httplib2==0.17.4 astor==0.8.1 traitlets==5.7.1 google==2.0.3"
      ],
      "metadata": {
        "id": "l2ewx5knccti"
      },
      "execution_count": null,
      "outputs": []
    },
    {
      "cell_type": "markdown",
      "source": [
        "Despues reiniciar el entorno de ejecucion y luejo ejecutar lo siguiente"
      ],
      "metadata": {
        "id": "gXwlOnFRFWyP"
      }
    },
    {
      "cell_type": "code",
      "source": [
        "!python3.7 -m pip install chatterbot==1.0.5\n",
        "!python3.7 -m pip install chatterbot_corpus==1.2.0"
      ],
      "metadata": {
        "id": "U0SzJWaId6pi"
      },
      "execution_count": null,
      "outputs": []
    },
    {
      "cell_type": "code",
      "source": [
        "from chatterbot import ChatBot\n",
        "from chatterbot.trainers import ChatterBotCorpusTrainer\n",
        "\n",
        "# Crea una instancia de ChatBot\n",
        "chatbot = ChatBot('MiBot')\n",
        "\n",
        "# Crea un entrenador y entrena al bot con el corpus en español\n",
        "trainer = ChatterBotCorpusTrainer(chatbot)\n",
        "trainer.train('chatterbot.corpus.spanish')\n",
        "\n",
        "# Bucle de interacción con el usuario\n",
        "print(\"Hola, soy tu bot en español. Puedes preguntarme lo que quieras. Para salir, escribe 'salir'.\")\n",
        "\n",
        "while True:\n",
        "    # Obtiene la entrada del usuario\n",
        "    user_input = input(\"Tú: \")\n",
        "\n",
        "    # Verifica si el usuario quiere salir\n",
        "    if user_input.lower() == 'salir':\n",
        "        print(\"Adiós. ¡Hasta luego!\")\n",
        "        break\n",
        "\n",
        "    # Obtiene la respuesta del bot\n",
        "    response = chatbot.get_response(user_input)\n",
        "    print(f\"Bot: {response}\")\n"
      ],
      "metadata": {
        "id": "edtX1zACeXhS",
        "colab": {
          "base_uri": "https://localhost:8080/"
        },
        "outputId": "63b31f99-4b9a-44d0-fc4d-194708ed15a4"
      },
      "execution_count": null,
      "outputs": [
        {
          "output_type": "stream",
          "name": "stdout",
          "text": [
            "Training conversations.yml: [####################] 100%"
          ]
        },
        {
          "output_type": "stream",
          "name": "stderr",
          "text": [
            "[nltk_data] Downloading package stopwords to /root/nltk_data...\n",
            "[nltk_data]   Package stopwords is already up-to-date!\n",
            "[nltk_data] Downloading package averaged_perceptron_tagger to\n",
            "[nltk_data]     /root/nltk_data...\n",
            "[nltk_data]   Package averaged_perceptron_tagger is already up-to-\n",
            "[nltk_data]       date!\n"
          ]
        },
        {
          "output_type": "stream",
          "name": "stdout",
          "text": [
            "\n",
            "Training greetings.yml: [####################] 100%\n",
            "Training trivia.yml: [####################] 100%\n",
            "Hola, soy tu bot en español. Puedes preguntarme lo que quieras. Para salir, escribe 'salir'.\n",
            "Tú: 10\n",
            "Bot: r\n",
            "Tú: salir\n",
            "Adiós. ¡Hasta luego!\n"
          ]
        }
      ]
    },
    {
      "cell_type": "code",
      "source": [
        "import sys ; sys.version\n",
        "#Con este comando se obtiene la información sobre la versión de Python que estás utilizando. Al ejecutar este código, obtendrás\n",
        "#una cadena de texto que representa la versión del intérprete de Python en tu sistema.\n",
        "#-Debería salir algo como esto: '3.7.17 (default, Jun  6 2023, 20:10:09) \\n[GCC 11.3.0]'"
      ],
      "metadata": {
        "id": "MR6kCaoqdTo0"
      },
      "execution_count": null,
      "outputs": []
    },
    {
      "cell_type": "code",
      "source": [
        "!pip list #Esto te muestra todo lo instalado"
      ],
      "metadata": {
        "id": "-XQmbk1xIpXK"
      },
      "execution_count": null,
      "outputs": []
    }
  ]
}