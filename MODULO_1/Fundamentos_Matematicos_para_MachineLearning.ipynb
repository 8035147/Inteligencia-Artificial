{
  "nbformat": 4,
  "nbformat_minor": 0,
  "metadata": {
    "colab": {
      "provenance": []
    },
    "kernelspec": {
      "name": "python3",
      "display_name": "Python 3"
    },
    "language_info": {
      "name": "python"
    }
  },
  "cells": [
    {
      "cell_type": "markdown",
      "source": [
        "TUTORIAL DE FUNDAMENTOS DE MATEMATICAS PARA MACHINE LEARNING\n",
        "\n",
        ". - Módulo 1: Álgebra Lineal\n",
        "- Lección 1: Conceptos básicos: Vectores y matrices.\n",
        "- Lección 2: Operaciones con matrices y vectores.\n",
        "\n",
        ". - Módulo 2: Cálculo\n",
        "- Lección 1: Conceptos de cálculo diferencial e integral.\n",
        "- Lección 2: Derivadas y gradientes.\n",
        "- Lección 3: Regla de la cadena y derivadas parciales.\n",
        "- Lección 4: Optimización: gradiente descendente.\n",
        "\n",
        ". - Módulo 3: Estadística y Probabilidad\n",
        "- Lección 1: Conceptos básicos de probabilidad.\n",
        "- Lección 2: Variables aleatorias y distribuciones.\n",
        "- Lección 3: Estadística descriptiva.\n",
        "- Lección 4: Inferencia estadística."
      ],
      "metadata": {
        "id": "2x3pyvH18_FG"
      }
    },
    {
      "cell_type": "markdown",
      "source": [
        "MODULO 1. ALGEBRA LINEAL\n",
        "- Lección 1: Conceptos básicos: Vectores y matrices.\n",
        "\n",
        "Introduccion a vectores\n",
        "\n",
        "- Definición: Un vector es una secuencia ordenada de números, que pueden representar magnitudes y direcciones en el espacio. En aprendizaje automático, los vectores se utilizan a menudo para representar datos y características.\n",
        "\n",
        "Ejemplo en Python:"
      ],
      "metadata": {
        "id": "qzm8jcdW-H7b"
      }
    },
    {
      "cell_type": "code",
      "execution_count": null,
      "metadata": {
        "colab": {
          "base_uri": "https://localhost:8080/"
        },
        "id": "8g1Y2ef18uQe",
        "outputId": "cb0f7907-8d8c-47e7-a8b7-0c837a424b45"
      },
      "outputs": [
        {
          "output_type": "execute_result",
          "data": {
            "text/plain": [
              "array([5, 7, 9])"
            ]
          },
          "metadata": {},
          "execution_count": 3
        }
      ],
      "source": [
        "import numpy as np\n",
        "\n",
        "vector_a = np.array([1, 2, 3])\n",
        "vector_b = np.array([4, 5, 6])\n",
        "\n",
        "# Suma de vectores\n",
        "suma = vector_a + vector_b\n",
        "\n",
        "suma"
      ]
    },
    {
      "cell_type": "markdown",
      "source": [
        "Introducción a Matrices\n",
        "- Definición: Una matriz es una disposición rectangular de números, dispuestos en filas y columnas. En ML, las matrices se utilizan para representar conjuntos de datos, donde cada fila puede ser una muestra y cada columna una característica."
      ],
      "metadata": {
        "id": "SbLdyVWw-kfa"
      }
    },
    {
      "cell_type": "code",
      "source": [
        "matriz_a = np.array([[1, 2, 3], [4, 5, 6]])\n",
        "matriz_b = np.array([[7, 8, 9], [10, 11, 12]])\n",
        "\n",
        "# Multiplicación de matrices\n",
        "producto = np.dot(matriz_a, matriz_b.T)  # .T para transponer matriz_b\n",
        "\n",
        "producto"
      ],
      "metadata": {
        "colab": {
          "base_uri": "https://localhost:8080/"
        },
        "id": "WaI9Pa_Z-whP",
        "outputId": "aa6422d3-d407-4d99-9767-8a76f124a670"
      },
      "execution_count": null,
      "outputs": [
        {
          "output_type": "execute_result",
          "data": {
            "text/plain": [
              "array([[ 50,  68],\n",
              "       [122, 167]])"
            ]
          },
          "metadata": {},
          "execution_count": 5
        }
      ]
    },
    {
      "cell_type": "markdown",
      "source": [
        "Leccion 2.- Operaciones Básicas con Vectores y Matrices\n",
        "- Suma y Resta de Vectores: La suma o resta de dos vectores se realiza elemento a elemento.\n",
        "- Producto Escalar: El producto escalar de dos vectores es la suma de los productos de sus elementos correspondientes.\n",
        "- Multiplicación de Matrices: El producto de dos matrices es una nueva matriz donde cada elemento se calcula como el producto escalar de las filas de la primera matriz y las columnas de la segunda."
      ],
      "metadata": {
        "id": "ILeT-5_u_FhK"
      }
    },
    {
      "cell_type": "code",
      "source": [
        "# Suma de vectores\n",
        "suma_vectores = vector_a + vector_b\n",
        "\n",
        "# Producto escalar\n",
        "producto_escalar = np.dot(vector_a, vector_b)\n",
        "\n",
        "# Multiplicación de matrices\n",
        "producto_matrices = np.dot(matriz_a, matriz_b.T)\n",
        "\n",
        "print(suma_vectores)\n",
        "print(producto_escalar)\n",
        "print(producto_matrices)"
      ],
      "metadata": {
        "colab": {
          "base_uri": "https://localhost:8080/"
        },
        "id": "BzrcTz27_Kii",
        "outputId": "60cfce81-2afc-428a-9030-8bb1b8cabc15"
      },
      "execution_count": null,
      "outputs": [
        {
          "output_type": "stream",
          "name": "stdout",
          "text": [
            "[5 7 9]\n",
            "32\n",
            "[[ 50  68]\n",
            " [122 167]]\n"
          ]
        }
      ]
    },
    {
      "cell_type": "markdown",
      "source": [
        "Aplicaciones Prácticas de Vectores y Matrices\n",
        "- Ejemplo de aplicación: Resolver un sistema de ecuaciones lineales, que es fundamental en muchos algoritmos de aprendizaje automático."
      ],
      "metadata": {
        "id": "ccCO6B-G_Vry"
      }
    },
    {
      "cell_type": "code",
      "source": [
        "# Sistema de ecuaciones: Ax = b\n",
        "A = np.array([[3, 1], [1, 2]])\n",
        "b = np.array([9, 8])\n",
        "\n",
        "# Resolviendo para x\n",
        "x = np.linalg.solve(A, b)\n",
        "\n",
        "x"
      ],
      "metadata": {
        "colab": {
          "base_uri": "https://localhost:8080/"
        },
        "id": "FUXka-eg_ZLu",
        "outputId": "f002549c-93a6-4c00-b07f-1c167432ba45"
      },
      "execution_count": null,
      "outputs": [
        {
          "output_type": "execute_result",
          "data": {
            "text/plain": [
              "array([2., 3.])"
            ]
          },
          "metadata": {},
          "execution_count": 9
        }
      ]
    },
    {
      "cell_type": "markdown",
      "source": [
        "Módulo 2: Cálculo\n",
        "\n",
        "- Lección 1: Conceptos de cálculo diferencial e integral."
      ],
      "metadata": {
        "id": "5XEXCDW-CguM"
      }
    },
    {
      "cell_type": "markdown",
      "source": [
        "El cálculo, tanto diferencial como integral, desempeña un papel crucial en el aprendizaje automático (ML). Aquí están los conceptos clave de cada uno:\n",
        "\n",
        ". - Cálculo Diferencial en Machine Learning\n",
        "Derivadas: Indican cómo cambia una función con respecto a sus variables. En ML, se usan para encontrar la tasa de cambio de la función de pérdida o error en relación con los parámetros del modelo.\n",
        "\n",
        "- Regla de la Cadena: Permite calcular la derivada de funciones compuestas. Es fundamental para algoritmos como la retropropagación en redes neuronales, donde se calcula el gradiente de la función de error a través de varias capas.\n",
        "\n",
        "- Gradiente: Es un vector que contiene todas las derivadas parciales de una función multivariable. En ML, se utiliza para guiar el proceso de optimización, especialmente en la técnica del descenso del gradiente.\n",
        "\n",
        "- Optimización: Usando las derivadas, los algoritmos de ML buscan minimizar o maximizar alguna función objetivo, como la función de coste o pérdida."
      ],
      "metadata": {
        "id": "Q_D1PDDjDQI7"
      }
    },
    {
      "cell_type": "markdown",
      "source": [
        ".- Cálculo Integral en Machine Learning\n",
        "\n",
        "- Integración: Aunque menos prominente en ML que el cálculo diferencial, la integración se utiliza en algunas áreas, como en la normalización de probabilidades en modelos probabilísticos y en algunos métodos de regularización.\n",
        "\n",
        "- Teorema Fundamental del Cálculo: Relaciona la integración y la diferenciación. En ML, aunque indirectamente, este concepto subyace en la comprensión de cómo los cambios en las funciones (obtenidos a través de la diferenciación) se acumulan.\n",
        "\n",
        "- Integrales en Modelos Probabilísticos: En estadísticas y ML, las integrales se usan para calcular cosas como distribuciones de probabilidad y expectativas, fundamentales en modelos como los procesos gaussianos y en métodos de inferencia bayesiana.\n",
        "\n",
        "- Conclusión\n",
        "Mientras que el cálculo diferencial es central para el entrenamiento y la optimización de modelos en ML, el cálculo integral aporta principalmente en el ámbito teórico y en ciertos modelos estadísticos y probabilísticos avanzados. Ambos forman la base matemática que sustenta muchos de los conceptos y algoritmos en ML.\n",
        "\n",
        "\n",
        "\n",
        "\n",
        "\n"
      ],
      "metadata": {
        "id": "Y6QrfeZlDh0b"
      }
    },
    {
      "cell_type": "code",
      "source": [
        "# He calculado la integral indefinida de la funcion\n",
        "# f(x)=x²\n",
        "# utilizando Python con SymPy. La integral es x³ +C, donde\n",
        "# C es la constante de integración. Esta función representa el área acumulada bajo\n",
        "# la curva de x² desde un punto de referencia hasta x. ​\n",
        "import sympy as sp\n",
        "\n",
        "f=x**2\n",
        "\n",
        "f_integral = sp.integrate(f, x)\n",
        "\n",
        "f_integral"
      ],
      "metadata": {
        "id": "pC-pts8dldAX",
        "colab": {
          "base_uri": "https://localhost:8080/",
          "height": 54
        },
        "outputId": "6cce2af5-5f3d-4a45-aa2d-d17740d3a9c0"
      },
      "execution_count": null,
      "outputs": [
        {
          "output_type": "execute_result",
          "data": {
            "text/plain": [
              "x**3/3"
            ],
            "text/latex": "$\\displaystyle \\frac{x^{3}}{3}$"
          },
          "metadata": {},
          "execution_count": 9
        }
      ]
    },
    {
      "cell_type": "markdown",
      "source": [
        "Lección 2: Derivadas y gradientes\n",
        "\n",
        ".- Derivadas\n",
        "Las derivadas son un concepto fundamental del cálculo que se refieren a la tasa de cambio de una función respecto a una de sus variables. La derivada de una función en un punto específico es la pendiente de la recta tangente a la función en ese punto. En términos más simples, te dice qué tan rápido está cambiando el valorde la funcion en relacion  con un cambio en su variable\n",
        "\n",
        "Considera la función f(x) = x². La derivada de f con respecto a x se denota como f'(x) y es 2x. Esto significa que, en cualquier punto x, la tasa de cambio de x² es 2x. Por ejemplo, en x=3, la tasa de cambio es 2 x 3 = 6.\n",
        "\n",
        "\n",
        ".-Gradientes\n",
        "El gradiente es una generalización de la derivada para funciones de múltiples variables. Se representa como un vector que contiene todas las derivadas parciales de la función. Cada componente del gradiente indica la tasa de cambio de la función en relación con una de sus variables independientes. En el contexto del aprendizaje automático, el gradiente es crucial porque indica la dirección en la que una función está aumentando más rápidamente.\n",
        "\n",
        "\n",
        "\n",
        "Estos conceptos son cruciales en optimización y aprendizaje automático, especialmente en técnicas como el descenso de gradiente, donde se utilizan los gradientes para iterativamente ajustar los parámetros de un modelo con el fin de minimizar una función de coste o pérdida."
      ],
      "metadata": {
        "id": "eyKkAkHfD7dc"
      }
    },
    {
      "cell_type": "code",
      "source": [
        "# He calculado la derivada de la función\n",
        "# f(x)=x² utilizando Python con la librería simpy\n",
        "\n",
        "import sympy as sp\n",
        "\n",
        "# Definir una variable simbólica\n",
        "x = sp.symbols('x')\n",
        "\n",
        "# Definir una función, por ejemplo f(x) = x^3\n",
        "f = x**3\n",
        "\n",
        "# Calcular la derivada de f respecto a x\n",
        "f_prime = sp.diff(f, x)\n",
        "\n",
        "f_prime"
      ],
      "metadata": {
        "colab": {
          "base_uri": "https://localhost:8080/",
          "height": 38
        },
        "id": "60lwVd5GkXVJ",
        "outputId": "8d1bbeac-6c9d-450c-c97c-6437f617f346"
      },
      "execution_count": null,
      "outputs": [
        {
          "output_type": "execute_result",
          "data": {
            "text/plain": [
              "3*x**2"
            ],
            "text/latex": "$\\displaystyle 3 x^{2}$"
          },
          "metadata": {},
          "execution_count": 4
        }
      ]
    },
    {
      "cell_type": "markdown",
      "source": [
        "Lección 3: Regla de la cadena y derivadas parciales\n",
        "\n",
        ".-La regla de la cadena es una fórmula para calcular la derivada de una función compuesta. En el contexto del aprendizaje automático, a menudo trabajamos con modelos que involucran varias funciones anidadas o compuestas, como en las redes neuronales.\n",
        "\n",
        "Aplicación en Redes Neuronales: En una red neuronal, la salida de una capa se convierte en la entrada de la siguiente. Durante el entrenamiento, necesitamos calcular las derivadas de la función de pérdida respecto a los parámetros de cada capa. La regla de la cadena permite descomponer estas derivadas complejas en una serie de derivadas más simples que se pueden calcular de manera secuencial, un proceso conocido como retropropagación.\n",
        "\n",
        ".-Derivadas Parciales\n",
        "Las derivadas parciales se refieren a la tasa de cambio de una función multivariable con respecto a una de sus variables, manteniendo constantes las otras variables. Son cruciales en el aprendizaje automático para entender cómo cambia la función de pérdida o costo en relación con cada parámetro del modelo.\n",
        "\n",
        ".- Optimización y Descenso del Gradiente: La mayoría de los algoritmos de aprendizaje automático involucran la optimización de una función de costo o pérdida respecto a los parámetros del modelo. Las derivadas parciales se utilizan para calcular el gradiente de la función de costo, un vector que indica la dirección en la que la función aumenta más rápidamente. En el descenso del gradiente, nos movemos en la dirección opuesta al gradiente para encontrar el conjunto de parámetros que minimiza la función de costo.\n",
        "\n",
        ".- Ejemplo en Machine Learning\n",
        "Considera una función de costo simple\n",
        "C(w,b), donde w y b son parámetros del modelo. Las derivadas parciales\n",
        "∂C/∂w y ∂C/∂b nos indican cómo el cambio en\n",
        "w  y  b, respectivamente, afecta el costo. Utilizando la regla de la cadena, podemos descomponer derivadas complejas (como las que encontramos en las redes neuronales con múltiples capas) en derivadas más simples, facilitando el cálculo del gradiente y la actualización de los parámetros mediante el descenso del gradiente.\n",
        "\n",
        "Estos conceptos son esenciales para desarrollar una comprensión profunda de cómo funcionan los algoritmos de aprendizaje automático y cómo se entrenan los modelos para realizar tareas como clasificación, regresión y más.\n",
        "\n",
        "\n",
        "\n",
        "\n",
        "\n",
        "\n"
      ],
      "metadata": {
        "id": "ilGyIGbEZLjI"
      }
    },
    {
      "cell_type": "markdown",
      "source": [],
      "metadata": {
        "id": "0lYTGZFXOzQg"
      }
    },
    {
      "cell_type": "markdown",
      "source": [
        "Lección 4: Optimización: gradiente descendente.\n",
        "\n",
        "La optimización mediante el gradiente descendente es un método algorítmico utilizado en aprendizaje automático y estadística para minimizar una función. Especialmente útil en el entrenamiento de modelos, el objetivo es ajustar los parámetros de un modelo para minimizar el error o la función de costo.\n",
        "\n",
        "Concepto de Gradiente Descendente\n",
        "El gradiente de una función en un punto dado es un vector que señala en la dirección del mayor incremento de la función en ese punto. El gradiente descendente toma lo contrario del gradiente, moviéndose así en la dirección que más reduce la función.\n",
        "\n",
        "El algoritmo sigue estos pasos básicos:\n",
        "\n",
        "- Inicialización: Comienza con una estimación inicial para los parámetros del modelo.\n",
        "- Cálculo del Gradiente: Calcula el gradiente de la función de costo con respecto a cada parámetro.\n",
        "- Actualización de Parámetros: Ajusta los parámetros en la dirección opuesta al gradiente.\n",
        "-Repetición: Repite los pasos 2 y 3 hasta alcanzar un criterio de convergencia (como un número de iteraciones o un cambio mínimo en la función de costo).\n",
        "\n",
        "- La \"tasa de aprendizaje\" es un hiperparámetro clave que determina el tamaño de los pasos con los que se actualizan los parámetros. Si es demasiado grande, el algoritmo puede sobrepasar el mínimo; si es demasiado pequeño, la convergencia puede ser muy lenta."
      ],
      "metadata": {
        "id": "fY3QTpDsU3Ie"
      }
    },
    {
      "cell_type": "markdown",
      "source": [
        "Ejemplo Sencillo\n",
        "Imagina que tienes una función de costo simple:\n",
        "\n",
        "f(x)=x²\n",
        "Quieres minimizar esta función, es decir, encontrar el valor de x que hace que f(x) sea lo más pequeño posible.\n",
        "\n",
        "- Inicialización: Supón que inicializas\n",
        "x en 10.\n",
        "- Cálculo del Gradiente: El gradiente de\n",
        "f(x) es 2x. En x=10, el gradiente es\n",
        "2×10=20\n",
        "\n",
        "- Actualización de Parámetros: Escoge una tasa de aprendizaje, digamos 0.1, y actualiza x restando la tasa de aprendizaje multiplicada por el gradiente: x=10−0.1×20=8.\n",
        "\n",
        "- Repetición: Repite los pasos 2 y 3. En la siguiente iteración, x será 8, el gradiente será 16\n",
        "16, y x se actualizará a\n",
        "8- 0.1 x 16= 6.4\n",
        "y así sucesivamente.\n",
        "El proceso se repite hasta que el cambio en x es lo suficientemente pequeño, indicando que se ha alcanzado el mínimo de la función, que en este caso es x=0."
      ],
      "metadata": {
        "id": "bA8WaV_PVxi4"
      }
    },
    {
      "cell_type": "code",
      "source": [],
      "metadata": {
        "id": "NDDw52ToVncm"
      },
      "execution_count": null,
      "outputs": []
    },
    {
      "cell_type": "markdown",
      "source": [
        "Módulo 3: Estadística y Probabilidad\n",
        "\n",
        ".- Lección 1: Conceptos básicos de probabilidad.\n",
        "\n",
        "1.- Probabilidad: Mide la posibilidad de que ocurra un evento. En ML, se usa para estimar la probabilidad de resultados específicos, como la clasificación de una entrada en una categoría.\n",
        "\n",
        "2.- Variables Aleatorias: Son cantidades que toman valores según el resultado de un evento aleatorio. En ML, pueden representar características de los datos o resultados de un modelo.\n",
        "\n",
        "3.- Distribuciones de Probabilidad:\n",
        "\n",
        "- Discretas: Como la distribución binomial o de Poisson, usadas en modelos donde los resultados son valores discretos (e.g., número de veces que ocurre un evento).\n",
        "\n",
        "- Continuas: Como la distribución normal (Gaussiana), importante en muchos aspectos de ML y especialmente en deep learning, donde las entradas y salidas suelen ser continuas.\n",
        "\n",
        "4.- Función de Densidad de Probabilidad (FDP): Describe la probabilidad relativa de una variable aleatoria tomar un valor dado. En ML, se utiliza para describir la distribución de los datos o de los errores de un modelo.\n",
        "\n",
        "5.- Teorema de Bayes: Fundamental para entender la probabilidad condicional, es decir, cómo cambia la probabilidad de un evento dado el conocimiento previo. Es la base de los modelos de ML bayesianos.\n",
        "\n",
        "6.- Valor Esperado y Varianza:\n",
        "\n",
        "Valor Esperado (Media): Representa el valor promedio que se espera de una variable aleatoria.\n",
        "Varianza: Mide cuánto se dispersan los valores alrededor de la media. En ML, estos conceptos ayudan a comprender las características centrales de los datos y su dispersión.\n",
        "\n",
        "7.- Independencia y Correlación: La independencia implica que el conocimiento de un evento no proporciona información sobre otro. La correlación, por otro lado, mide la relación lineal entre variables. Ambos son clave en la selección de características y en la comprensión de la estructura de los datos.\n",
        "\n",
        "8.- Modelos Probabilísticos: Incluyen algoritmos que utilizan probabilidades para modelar relaciones en los datos, como los modelos ocultos de Markov o las redes bayesianas.\n",
        "\n",
        "En el deep learning, estos conceptos se aplican a menudo en el contexto de redes neuronales, donde la interpretación de las neuronas como unidades que procesan señales de manera probabilística es fundamental. Además, conceptos como la función de activación softmax en las capas de salida se relacionan directamente con la probabilidad, asignando una probabilidad a cada clase en tareas de clasificación.\n"
      ],
      "metadata": {
        "id": "1WUAC7PAaqDP"
      }
    },
    {
      "cell_type": "code",
      "source": [
        "# En este caso, se ha generado un conjunto de 1000 puntos de datos que siguen una\n",
        "# distribución normal con media 0 y desviación estándar 1. Luego, estos datos se\n",
        "# han graficado en un histograma, donde cada barra representa la frecuencia de los\n",
        "# valores dentro de un rango específico. Este tipo de gráfica es una forma común y\n",
        "# sencilla de visualizar la distribución de los datos normalmente distribuidos. ​\n",
        "\n",
        "\n",
        "import matplotlib.pyplot as plt\n",
        "import numpy as np\n",
        "\n",
        "# Crear un conjunto de datos siguiendo una distribución normal\n",
        "datos = np.random.normal(0, 1, 1000)  # Media 0, desviación estándar 1, 1000 puntos\n",
        "\n",
        "# Graficar los datos usando un histograma\n",
        "plt.hist(datos, bins=30, density=True, alpha=0.6, color='g')\n",
        "\n",
        "# Añadir títulos y etiquetas\n",
        "plt.title('Histograma de una Distribución Normal')\n",
        "plt.xlabel('Valor')\n",
        "plt.ylabel('Frecuencia')\n",
        "\n",
        "# Mostrar la gráfica\n",
        "plt.show()"
      ],
      "metadata": {
        "id": "LizU4Odn0Sae"
      },
      "execution_count": null,
      "outputs": []
    },
    {
      "cell_type": "code",
      "source": [
        "# Aquí tienes un ejemplo de la distribución de Bernoulli junto con su gráfica\n",
        "# realizada mediante Matplotlib. En este ejemplo, se ha asumido una probabilidad\n",
        "# de éxito p=0.7 (o 70%). La distribución de Bernoulli es una distribución de probabilidad\n",
        "# discreta, que solo toma dos valores: 0 (fracaso) y 1 (éxito). En la gráfica, se\n",
        "# muestra la probabilidad de cada uno de estos resultados: la probabilidad de\n",
        "# fracaso (1 - p) es de 0.3 (o 30%) y la probabilidad de éxito (p) es de 0.7 (o 70%).\n",
        "# Esta distribución es útil en situaciones donde hay un resultado binario,\n",
        "# como sí/no, verdadero/falso, éxito/fracaso.\n",
        "\n",
        "\n",
        "import matplotlib.pyplot as plt\n",
        "\n",
        "# Datos para la Distribución Bernoulli\n",
        "# En una distribución de Bernoulli, los valores solo pueden ser 0 o 1.\n",
        "p = 0.7  # Probabilidad de éxito (por ejemplo, 70%)\n",
        "bernoulli_data = [0, 1]\n",
        "\n",
        "# Probabilidades\n",
        "probabilidades = [(1-p), p]  # Probabilidad de fracaso (1-p) y éxito (p)\n",
        "\n",
        "# Crear la gráfica de barras\n",
        "plt.bar(bernoulli_data, probabilidades, color = 'skyblue')\n",
        "plt.title('Distribución de Bernoulli')\n",
        "plt.xlabel('Resultados')\n",
        "plt.ylabel('Probabilidad')\n",
        "plt.xticks(bernoulli_data, ['Fracaso (0)', 'Éxito (1)'])\n",
        "plt.ylim(0, 1)  # Limitar el eje y para enfatizar la naturaleza de probabilidad\n",
        "plt.show()"
      ],
      "metadata": {
        "id": "iKlbxHWk0paZ"
      },
      "execution_count": null,
      "outputs": []
    },
    {
      "cell_type": "markdown",
      "source": [
        "- Lección 2: Variables aleatorias y distribuciones.\n",
        "\n",
        "Ejemplo: Encuesta de Satisfacción del Cliente\n",
        "Imagina que eres un científico de datos trabajando para una empresa y se te encarga analizar los resultados de una encuesta de satisfacción del cliente. La encuesta pide a los clientes que califiquen su satisfacción en una escala del 1 al 5, donde 1 es \"Muy insatisfecho\" y 5 es \"Muy satisfecho\".\n",
        "\n",
        ".- Variable Aleatoria\n",
        "En este contexto, la variable aleatoria podría ser X, que representa la calificación de satisfacción de un cliente seleccionado al azar. Cada vez que se selecciona un cliente y se registra su calificación, se observa un valor de X.\n",
        "\n",
        ".- Distribuciones de Probabilidad\n",
        "La distribución de probabilidad de\n",
        "X describe la probabilidad de cada posible calificación. Supongamos que después de analizar los datos, encuentras que las calificaciones tienen la siguiente distribución:\n",
        "\n",
        "1 (Muy insatisfecho): 10%\n",
        "2 (Insatisfecho): 15%\n",
        "3 (Neutral): 25%\n",
        "4 (Satisfecho): 30%\n",
        "5 (Muy satisfecho): 20%\n",
        "Esta distribución te da la probabilidad de cada resultado de la variable aleatoria\n",
        "X.\n",
        "\n",
        "Aplicación en Machine Learning\n",
        "En un escenario de machine learning, podrías utilizar estos datos para entrenar un modelo predictivo. Por ejemplo, si tienes características adicionales de los clientes (como edad, frecuencia de compra, etc.), podrías usar un modelo de clasificación para predecir la calificación de satisfacción de un cliente basándote en estas características.\n",
        "\n",
        "Interpretación\n",
        "La variable aleatoria X representa un concepto que se puede observar y medir en un experimento o estudio.\n",
        "La distribución de probabilidad muestra cómo se distribuyen las probabilidades entre los diferentes valores posibles de X.\n",
        "Este tipo de análisis es fundamental en áreas como la investigación de mercado, donde comprender la distribución de las opiniones o comportamientos de los clientes puede ayudar a tomar decisiones informadas sobre estrategias de producto o servicio.\n"
      ],
      "metadata": {
        "id": "_WPx_dFhcg4P"
      }
    },
    {
      "cell_type": "markdown",
      "source": [
        "Lección 3: Estadística descriptiva.\n",
        "\n",
        "La estadística descriptiva en el campo del machine learning y el deep learning se refiere al proceso de resumir, organizar y describir las características fundamentales de un conjunto de datos. Este análisis es crucial tanto en la fase de exploración de datos como en la interpretación de los resultados de los modelos. Aquí están los elementos clave:\n",
        "\n",
        "1.- Medidas de Tendencia Central:\n",
        "\n",
        "- Media (Promedio): El valor promedio de un conjunto de números.\n",
        "- Mediana: El valor medio que divide el conjunto de datos en dos mitades iguales.\n",
        "- Moda: El valor que aparece con mayor frecuencia en el conjunto de datos.\n",
        "\n",
        "2.- Medidas de Dispersión:\n",
        "\n",
        "- Rango: La diferencia entre el valor más alto y el más bajo.\n",
        "- Varianza: El promedio de las diferencias al cuadrado entre cada valor y la media.\n",
        "- Desviación Estándar: La raíz cuadrada de la varianza, representa la dispersión de los datos en relación a la media.\n",
        "- Cuartiles y Percentiles: Indican la distribución de los datos en intervalos regulares.\n",
        "\n",
        "3.- Análisis de Forma:\n",
        "\n",
        "Asimetría (Skewness): Mide la simetría o la falta de simetría de la distribución de los datos.\n",
        "Curtosis: Mide si los datos están concentrados o dispersos en relación con una distribución normal."
      ],
      "metadata": {
        "id": "sUUQkQ5zewgf"
      }
    },
    {
      "cell_type": "markdown",
      "source": [
        "Leccion 4.- Inferencia estadistica\n",
        "\n",
        "La inferencia estadística es un área de la estadística que se ocupa de sacar conclusiones y hacer predicciones sobre una población a partir de una muestra observada. Es fundamental en el campo del machine learning y la ciencia de datos para tomar decisiones basadas en datos. Aquí está un resumen de sus conceptos clave y algunos ejemplos:\n",
        "\n",
        "Conceptos Clave de la Inferencia Estadística\n",
        "\n",
        "\n",
        "1.- Población y Muestra:\n",
        "\n",
        "Población: El conjunto completo de elementos o eventos que estás estudiando.\n",
        "Muestra: Un subconjunto de la población utilizado para hacer inferencias sobre la población completa.\n",
        "\n",
        "2.- Estimación de Parámetros:\n",
        "\n",
        "Incluye estimar valores de población desconocidos, como la media o la varianza, a partir de datos de muestra.\n",
        "\n",
        "3.- Pruebas de Hipótesis:\n",
        "\n",
        "Se utiliza para evaluar afirmaciones o hipótesis sobre la población, basándose en la evidencia de la muestra.\n",
        "Ejemplo: Probar si la media de una nueva técnica de producción es diferente de la media de la técnica actual.\n",
        "\n",
        "4.- Intervalos de Confianza:\n",
        "\n",
        "Proporcionan un rango estimado de valores dentro del cual se espera que se encuentre el verdadero valor de un parámetro de población, con un cierto nivel de confianza.\n",
        "Ejemplo: Un intervalo de confianza del 95% para la media de ingresos de una población.\n",
        "\n",
        "- Ejemplos de Aplicación\n",
        "1.- Ensayos Clínicos:\n",
        "\n",
        "Utilizar inferencia estadística para determinar si un nuevo medicamento es más efectivo que un placebo.\n",
        "\n",
        "2.-Investigación de Mercado:\n",
        "\n",
        "Realizar encuestas en una muestra de consumidores para inferir las preferencias o comportamientos de todos los consumidores.\n",
        "\n",
        "3.-Control de Calidad:\n",
        "\n",
        "Usar muestras de productos para hacer inferencias sobre la calidad de toda la producción.\n",
        "\n",
        "4.-Machine Learning:\n",
        "\n",
        "En el aprendizaje automático, la inferencia estadística se utiliza para validar modelos, como determinar si las diferencias en el rendimiento entre dos algoritmos son estadísticamente significativas.\n",
        "\n",
        "\n",
        "La inferencia estadística es esencial para interpretar correctamente los datos y tomar decisiones informadas en la ciencia de datos, la investigación, la economía, la ingeniería, y muchas otras áreas.\n",
        "\n",
        "\n",
        "\n",
        "\n",
        "\n"
      ],
      "metadata": {
        "id": "FH7NwnUDf-xH"
      }
    },
    {
      "cell_type": "markdown",
      "source": [],
      "metadata": {
        "id": "KNVf7I9_fRbq"
      }
    },
    {
      "cell_type": "code",
      "source": [],
      "metadata": {
        "id": "jlsxfy98g2ew"
      },
      "execution_count": null,
      "outputs": []
    }
  ]
}