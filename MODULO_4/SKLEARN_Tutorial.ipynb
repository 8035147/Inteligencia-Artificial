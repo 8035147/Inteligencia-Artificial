{
  "nbformat": 4,
  "nbformat_minor": 0,
  "metadata": {
    "colab": {
      "provenance": [],
      "collapsed_sections": [
        "Yf3LdI_HJbuV",
        "pln3agp4ciU_",
        "5p2MW---4C-I",
        "Bh6SevJQMFCK",
        "o2eYZ5z6TQ1g"
      ]
    },
    "kernelspec": {
      "name": "python3",
      "display_name": "Python 3"
    },
    "language_info": {
      "name": "python"
    }
  },
  "cells": [
    {
      "cell_type": "markdown",
      "source": [
        "#***SHALLOW LEARNING***#\n",
        "\n",
        "HAY DOS GRANDES GRUPOS; SUPERVISED O UNSUPERVISED.\n",
        "\n",
        "##1.- **SUPERVISED LEARNING.**\n",
        "NECESITAN DATOS ETIQUETADOS. SI POR EJEMPLO ESTAMOS CLASIFICANDO IMAGENES\n",
        "NECESITAMOS EJEMPLOS DE LAS IMAGENES Y LA CLASE QUE TENEMOS QUE DARLE A CADA\n",
        "IMAGEN, ESTO LLEVA TIEMPO, ES DIFICIL, NECESITAS GENTE QUE HAGA ESO\n",
        "\n",
        "###1.1 REGRESION.\n",
        "####1.1.1. REGRESION LINEAL (PROYECTO 1)\n",
        "\n",
        "###1.2 CLASIFICACION.\n",
        "####1.2.1. REGRESION LOGISTICA (PROYECTO 2)\n",
        "####1.2.2 KNN (PROYECTO 3)\n",
        "####1.2.3. RANDOM FOREST (PROYECTO 4)\n",
        "\n",
        "##2.- **UNSUPERVISED LEARNING.**\n",
        "NO NECESITA DATOS ETIQUETADOS, SOLO CON DATOS NO ETIQUETADOS DE FORMA NO SUPERVISADA, ALGO APRENDEN TAMBIEN LOS ALGORITMOS.\n",
        "\n",
        "###2.1 CLUSTERING. AGRUPAR DATOS EN DIFERENTES GRUPOS QUE PUEDAN SERVIR PARA RESOLVER UNA TAREA\n",
        "####2.1.1. K-MEANS (PROYECTO 5)"
      ],
      "metadata": {
        "id": "iARYnM3GOy-M"
      }
    },
    {
      "cell_type": "markdown",
      "source": [
        "#Proyecto 1: Regresion lineal.#"
      ],
      "metadata": {
        "id": "Yf3LdI_HJbuV"
      }
    },
    {
      "cell_type": "markdown",
      "source": [
        "La regresión se utiliza para predecir un valor continuo en función de uno o más\n",
        "valores de entrada. Un ejemplo de esto sería predecir el precio de una casa basado en características como su ubicación, el número de habitaciones, el tamaño del lote, etc. Los algoritmos de regresión intentan trazar una línea (o una superficie, en el caso de múltiples variables de entrada) que modela la relación entre las entradas y la salida. Los modelos de regresión más comunes incluyen la regresión lineal."
      ],
      "metadata": {
        "id": "eVfILChRawzg"
      }
    },
    {
      "cell_type": "code",
      "source": [
        "# Importamos las librerías\n",
        "\n",
        "import pandas as pd\n",
        "import matplotlib.pyplot as plt"
      ],
      "metadata": {
        "id": "Pc1xcf_PAWkh"
      },
      "execution_count": 2,
      "outputs": []
    },
    {
      "cell_type": "code",
      "source": [
        "!wget -O country_stats.csv https://raw.githubusercontent.com/CharlieScot/Inteligencia-Artificial/main/MODULO_4/country_stats.csv"
      ],
      "metadata": {
        "id": "bZykfmcOAZ2g",
        "colab": {
          "base_uri": "https://localhost:8080/"
        },
        "outputId": "7dcb230b-eb0d-4c9e-a305-3b5a533cc11a"
      },
      "execution_count": null,
      "outputs": [
        {
          "output_type": "stream",
          "name": "stdout",
          "text": [
            "--2024-01-02 13:44:04--  https://raw.githubusercontent.com/CharlieScot/Inteligencia-Artificial/main/MODULO_4/country_stats.csv\n",
            "Resolving raw.githubusercontent.com (raw.githubusercontent.com)... 185.199.109.133, 185.199.111.133, 185.199.110.133, ...\n",
            "Connecting to raw.githubusercontent.com (raw.githubusercontent.com)|185.199.109.133|:443... connected.\n",
            "HTTP request sent, awaiting response... 200 OK\n",
            "Length: 715 [text/plain]\n",
            "Saving to: ‘country_stats.csv’\n",
            "\n",
            "country_stats.csv   100%[===================>]     715  --.-KB/s    in 0s      \n",
            "\n",
            "2024-01-02 13:44:04 (38.0 MB/s) - ‘country_stats.csv’ saved [715/715]\n",
            "\n"
          ]
        }
      ]
    },
    {
      "cell_type": "code",
      "source": [
        "# Creamos Dataframe com Pandas leyendo del archivo csv\n",
        "\n",
        "df=pd.read_csv('country_stats.csv')\n",
        "\n",
        "df"
      ],
      "metadata": {
        "colab": {
          "base_uri": "https://localhost:8080/",
          "height": 959
        },
        "id": "q551uKPuT30C",
        "outputId": "318327dd-a347-45bc-f5e7-3aec5b428be1"
      },
      "execution_count": null,
      "outputs": [
        {
          "output_type": "execute_result",
          "data": {
            "text/plain": [
              "               Pais  PIB per capita  Indice de felicidad\n",
              "0            Russia        9054.914                  6.0\n",
              "1            Turkey        9437.372                  5.6\n",
              "2           Hungary       12239.893                  4.9\n",
              "3            Poland       12495.333                  5.8\n",
              "4   Slovak Republic       15991.736                  6.1\n",
              "5           Estonia       17288.083                  5.6\n",
              "6            Greece       18064.288                  4.8\n",
              "7          Portugal       19121.592                  5.1\n",
              "8          Slovenia       20732.482                  5.7\n",
              "9             Spain       25864.721                  6.5\n",
              "10            Korea       27195.197                  5.8\n",
              "11            Italy       29866.581                  6.0\n",
              "12            Japan       32485.545                  5.9\n",
              "13           Israel       35343.336                  7.4\n",
              "14      New Zealand       37044.891                  7.3\n",
              "15           France       37675.006                  6.5\n",
              "16          Belgium       40106.632                  6.9\n",
              "17          Germany       40996.511                  7.0\n",
              "18          Finland       41973.988                  7.4\n",
              "19           Canada       43331.960                  7.3\n",
              "20      Netherlands       43603.115                  7.3\n",
              "21          Austria       43724.030                  6.9\n",
              "22   United Kingdom       43770.687                  6.8\n",
              "23           Sweden       49866.265                  7.2\n",
              "24          Iceland       50854.583                  7.5\n",
              "25        Australia       50961.865                  7.3\n",
              "26          Ireland       51350.744                  7.0\n",
              "27          Denmark       52114.165                  7.5\n",
              "28    United States       55805.204                  7.2"
            ],
            "text/html": [
              "\n",
              "  <div id=\"df-85139550-c5ab-4fb9-993a-a17c548249db\" class=\"colab-df-container\">\n",
              "    <div>\n",
              "<style scoped>\n",
              "    .dataframe tbody tr th:only-of-type {\n",
              "        vertical-align: middle;\n",
              "    }\n",
              "\n",
              "    .dataframe tbody tr th {\n",
              "        vertical-align: top;\n",
              "    }\n",
              "\n",
              "    .dataframe thead th {\n",
              "        text-align: right;\n",
              "    }\n",
              "</style>\n",
              "<table border=\"1\" class=\"dataframe\">\n",
              "  <thead>\n",
              "    <tr style=\"text-align: right;\">\n",
              "      <th></th>\n",
              "      <th>Pais</th>\n",
              "      <th>PIB per capita</th>\n",
              "      <th>Indice de felicidad</th>\n",
              "    </tr>\n",
              "  </thead>\n",
              "  <tbody>\n",
              "    <tr>\n",
              "      <th>0</th>\n",
              "      <td>Russia</td>\n",
              "      <td>9054.914</td>\n",
              "      <td>6.0</td>\n",
              "    </tr>\n",
              "    <tr>\n",
              "      <th>1</th>\n",
              "      <td>Turkey</td>\n",
              "      <td>9437.372</td>\n",
              "      <td>5.6</td>\n",
              "    </tr>\n",
              "    <tr>\n",
              "      <th>2</th>\n",
              "      <td>Hungary</td>\n",
              "      <td>12239.893</td>\n",
              "      <td>4.9</td>\n",
              "    </tr>\n",
              "    <tr>\n",
              "      <th>3</th>\n",
              "      <td>Poland</td>\n",
              "      <td>12495.333</td>\n",
              "      <td>5.8</td>\n",
              "    </tr>\n",
              "    <tr>\n",
              "      <th>4</th>\n",
              "      <td>Slovak Republic</td>\n",
              "      <td>15991.736</td>\n",
              "      <td>6.1</td>\n",
              "    </tr>\n",
              "    <tr>\n",
              "      <th>5</th>\n",
              "      <td>Estonia</td>\n",
              "      <td>17288.083</td>\n",
              "      <td>5.6</td>\n",
              "    </tr>\n",
              "    <tr>\n",
              "      <th>6</th>\n",
              "      <td>Greece</td>\n",
              "      <td>18064.288</td>\n",
              "      <td>4.8</td>\n",
              "    </tr>\n",
              "    <tr>\n",
              "      <th>7</th>\n",
              "      <td>Portugal</td>\n",
              "      <td>19121.592</td>\n",
              "      <td>5.1</td>\n",
              "    </tr>\n",
              "    <tr>\n",
              "      <th>8</th>\n",
              "      <td>Slovenia</td>\n",
              "      <td>20732.482</td>\n",
              "      <td>5.7</td>\n",
              "    </tr>\n",
              "    <tr>\n",
              "      <th>9</th>\n",
              "      <td>Spain</td>\n",
              "      <td>25864.721</td>\n",
              "      <td>6.5</td>\n",
              "    </tr>\n",
              "    <tr>\n",
              "      <th>10</th>\n",
              "      <td>Korea</td>\n",
              "      <td>27195.197</td>\n",
              "      <td>5.8</td>\n",
              "    </tr>\n",
              "    <tr>\n",
              "      <th>11</th>\n",
              "      <td>Italy</td>\n",
              "      <td>29866.581</td>\n",
              "      <td>6.0</td>\n",
              "    </tr>\n",
              "    <tr>\n",
              "      <th>12</th>\n",
              "      <td>Japan</td>\n",
              "      <td>32485.545</td>\n",
              "      <td>5.9</td>\n",
              "    </tr>\n",
              "    <tr>\n",
              "      <th>13</th>\n",
              "      <td>Israel</td>\n",
              "      <td>35343.336</td>\n",
              "      <td>7.4</td>\n",
              "    </tr>\n",
              "    <tr>\n",
              "      <th>14</th>\n",
              "      <td>New Zealand</td>\n",
              "      <td>37044.891</td>\n",
              "      <td>7.3</td>\n",
              "    </tr>\n",
              "    <tr>\n",
              "      <th>15</th>\n",
              "      <td>France</td>\n",
              "      <td>37675.006</td>\n",
              "      <td>6.5</td>\n",
              "    </tr>\n",
              "    <tr>\n",
              "      <th>16</th>\n",
              "      <td>Belgium</td>\n",
              "      <td>40106.632</td>\n",
              "      <td>6.9</td>\n",
              "    </tr>\n",
              "    <tr>\n",
              "      <th>17</th>\n",
              "      <td>Germany</td>\n",
              "      <td>40996.511</td>\n",
              "      <td>7.0</td>\n",
              "    </tr>\n",
              "    <tr>\n",
              "      <th>18</th>\n",
              "      <td>Finland</td>\n",
              "      <td>41973.988</td>\n",
              "      <td>7.4</td>\n",
              "    </tr>\n",
              "    <tr>\n",
              "      <th>19</th>\n",
              "      <td>Canada</td>\n",
              "      <td>43331.960</td>\n",
              "      <td>7.3</td>\n",
              "    </tr>\n",
              "    <tr>\n",
              "      <th>20</th>\n",
              "      <td>Netherlands</td>\n",
              "      <td>43603.115</td>\n",
              "      <td>7.3</td>\n",
              "    </tr>\n",
              "    <tr>\n",
              "      <th>21</th>\n",
              "      <td>Austria</td>\n",
              "      <td>43724.030</td>\n",
              "      <td>6.9</td>\n",
              "    </tr>\n",
              "    <tr>\n",
              "      <th>22</th>\n",
              "      <td>United Kingdom</td>\n",
              "      <td>43770.687</td>\n",
              "      <td>6.8</td>\n",
              "    </tr>\n",
              "    <tr>\n",
              "      <th>23</th>\n",
              "      <td>Sweden</td>\n",
              "      <td>49866.265</td>\n",
              "      <td>7.2</td>\n",
              "    </tr>\n",
              "    <tr>\n",
              "      <th>24</th>\n",
              "      <td>Iceland</td>\n",
              "      <td>50854.583</td>\n",
              "      <td>7.5</td>\n",
              "    </tr>\n",
              "    <tr>\n",
              "      <th>25</th>\n",
              "      <td>Australia</td>\n",
              "      <td>50961.865</td>\n",
              "      <td>7.3</td>\n",
              "    </tr>\n",
              "    <tr>\n",
              "      <th>26</th>\n",
              "      <td>Ireland</td>\n",
              "      <td>51350.744</td>\n",
              "      <td>7.0</td>\n",
              "    </tr>\n",
              "    <tr>\n",
              "      <th>27</th>\n",
              "      <td>Denmark</td>\n",
              "      <td>52114.165</td>\n",
              "      <td>7.5</td>\n",
              "    </tr>\n",
              "    <tr>\n",
              "      <th>28</th>\n",
              "      <td>United States</td>\n",
              "      <td>55805.204</td>\n",
              "      <td>7.2</td>\n",
              "    </tr>\n",
              "  </tbody>\n",
              "</table>\n",
              "</div>\n",
              "    <div class=\"colab-df-buttons\">\n",
              "\n",
              "  <div class=\"colab-df-container\">\n",
              "    <button class=\"colab-df-convert\" onclick=\"convertToInteractive('df-85139550-c5ab-4fb9-993a-a17c548249db')\"\n",
              "            title=\"Convert this dataframe to an interactive table.\"\n",
              "            style=\"display:none;\">\n",
              "\n",
              "  <svg xmlns=\"http://www.w3.org/2000/svg\" height=\"24px\" viewBox=\"0 -960 960 960\">\n",
              "    <path d=\"M120-120v-720h720v720H120Zm60-500h600v-160H180v160Zm220 220h160v-160H400v160Zm0 220h160v-160H400v160ZM180-400h160v-160H180v160Zm440 0h160v-160H620v160ZM180-180h160v-160H180v160Zm440 0h160v-160H620v160Z\"/>\n",
              "  </svg>\n",
              "    </button>\n",
              "\n",
              "  <style>\n",
              "    .colab-df-container {\n",
              "      display:flex;\n",
              "      gap: 12px;\n",
              "    }\n",
              "\n",
              "    .colab-df-convert {\n",
              "      background-color: #E8F0FE;\n",
              "      border: none;\n",
              "      border-radius: 50%;\n",
              "      cursor: pointer;\n",
              "      display: none;\n",
              "      fill: #1967D2;\n",
              "      height: 32px;\n",
              "      padding: 0 0 0 0;\n",
              "      width: 32px;\n",
              "    }\n",
              "\n",
              "    .colab-df-convert:hover {\n",
              "      background-color: #E2EBFA;\n",
              "      box-shadow: 0px 1px 2px rgba(60, 64, 67, 0.3), 0px 1px 3px 1px rgba(60, 64, 67, 0.15);\n",
              "      fill: #174EA6;\n",
              "    }\n",
              "\n",
              "    .colab-df-buttons div {\n",
              "      margin-bottom: 4px;\n",
              "    }\n",
              "\n",
              "    [theme=dark] .colab-df-convert {\n",
              "      background-color: #3B4455;\n",
              "      fill: #D2E3FC;\n",
              "    }\n",
              "\n",
              "    [theme=dark] .colab-df-convert:hover {\n",
              "      background-color: #434B5C;\n",
              "      box-shadow: 0px 1px 3px 1px rgba(0, 0, 0, 0.15);\n",
              "      filter: drop-shadow(0px 1px 2px rgba(0, 0, 0, 0.3));\n",
              "      fill: #FFFFFF;\n",
              "    }\n",
              "  </style>\n",
              "\n",
              "    <script>\n",
              "      const buttonEl =\n",
              "        document.querySelector('#df-85139550-c5ab-4fb9-993a-a17c548249db button.colab-df-convert');\n",
              "      buttonEl.style.display =\n",
              "        google.colab.kernel.accessAllowed ? 'block' : 'none';\n",
              "\n",
              "      async function convertToInteractive(key) {\n",
              "        const element = document.querySelector('#df-85139550-c5ab-4fb9-993a-a17c548249db');\n",
              "        const dataTable =\n",
              "          await google.colab.kernel.invokeFunction('convertToInteractive',\n",
              "                                                    [key], {});\n",
              "        if (!dataTable) return;\n",
              "\n",
              "        const docLinkHtml = 'Like what you see? Visit the ' +\n",
              "          '<a target=\"_blank\" href=https://colab.research.google.com/notebooks/data_table.ipynb>data table notebook</a>'\n",
              "          + ' to learn more about interactive tables.';\n",
              "        element.innerHTML = '';\n",
              "        dataTable['output_type'] = 'display_data';\n",
              "        await google.colab.output.renderOutput(dataTable, element);\n",
              "        const docLink = document.createElement('div');\n",
              "        docLink.innerHTML = docLinkHtml;\n",
              "        element.appendChild(docLink);\n",
              "      }\n",
              "    </script>\n",
              "  </div>\n",
              "\n",
              "\n",
              "<div id=\"df-061da8c2-7a1c-4669-9b4b-812cf015bc20\">\n",
              "  <button class=\"colab-df-quickchart\" onclick=\"quickchart('df-061da8c2-7a1c-4669-9b4b-812cf015bc20')\"\n",
              "            title=\"Suggest charts\"\n",
              "            style=\"display:none;\">\n",
              "\n",
              "<svg xmlns=\"http://www.w3.org/2000/svg\" height=\"24px\"viewBox=\"0 0 24 24\"\n",
              "     width=\"24px\">\n",
              "    <g>\n",
              "        <path d=\"M19 3H5c-1.1 0-2 .9-2 2v14c0 1.1.9 2 2 2h14c1.1 0 2-.9 2-2V5c0-1.1-.9-2-2-2zM9 17H7v-7h2v7zm4 0h-2V7h2v10zm4 0h-2v-4h2v4z\"/>\n",
              "    </g>\n",
              "</svg>\n",
              "  </button>\n",
              "\n",
              "<style>\n",
              "  .colab-df-quickchart {\n",
              "      --bg-color: #E8F0FE;\n",
              "      --fill-color: #1967D2;\n",
              "      --hover-bg-color: #E2EBFA;\n",
              "      --hover-fill-color: #174EA6;\n",
              "      --disabled-fill-color: #AAA;\n",
              "      --disabled-bg-color: #DDD;\n",
              "  }\n",
              "\n",
              "  [theme=dark] .colab-df-quickchart {\n",
              "      --bg-color: #3B4455;\n",
              "      --fill-color: #D2E3FC;\n",
              "      --hover-bg-color: #434B5C;\n",
              "      --hover-fill-color: #FFFFFF;\n",
              "      --disabled-bg-color: #3B4455;\n",
              "      --disabled-fill-color: #666;\n",
              "  }\n",
              "\n",
              "  .colab-df-quickchart {\n",
              "    background-color: var(--bg-color);\n",
              "    border: none;\n",
              "    border-radius: 50%;\n",
              "    cursor: pointer;\n",
              "    display: none;\n",
              "    fill: var(--fill-color);\n",
              "    height: 32px;\n",
              "    padding: 0;\n",
              "    width: 32px;\n",
              "  }\n",
              "\n",
              "  .colab-df-quickchart:hover {\n",
              "    background-color: var(--hover-bg-color);\n",
              "    box-shadow: 0 1px 2px rgba(60, 64, 67, 0.3), 0 1px 3px 1px rgba(60, 64, 67, 0.15);\n",
              "    fill: var(--button-hover-fill-color);\n",
              "  }\n",
              "\n",
              "  .colab-df-quickchart-complete:disabled,\n",
              "  .colab-df-quickchart-complete:disabled:hover {\n",
              "    background-color: var(--disabled-bg-color);\n",
              "    fill: var(--disabled-fill-color);\n",
              "    box-shadow: none;\n",
              "  }\n",
              "\n",
              "  .colab-df-spinner {\n",
              "    border: 2px solid var(--fill-color);\n",
              "    border-color: transparent;\n",
              "    border-bottom-color: var(--fill-color);\n",
              "    animation:\n",
              "      spin 1s steps(1) infinite;\n",
              "  }\n",
              "\n",
              "  @keyframes spin {\n",
              "    0% {\n",
              "      border-color: transparent;\n",
              "      border-bottom-color: var(--fill-color);\n",
              "      border-left-color: var(--fill-color);\n",
              "    }\n",
              "    20% {\n",
              "      border-color: transparent;\n",
              "      border-left-color: var(--fill-color);\n",
              "      border-top-color: var(--fill-color);\n",
              "    }\n",
              "    30% {\n",
              "      border-color: transparent;\n",
              "      border-left-color: var(--fill-color);\n",
              "      border-top-color: var(--fill-color);\n",
              "      border-right-color: var(--fill-color);\n",
              "    }\n",
              "    40% {\n",
              "      border-color: transparent;\n",
              "      border-right-color: var(--fill-color);\n",
              "      border-top-color: var(--fill-color);\n",
              "    }\n",
              "    60% {\n",
              "      border-color: transparent;\n",
              "      border-right-color: var(--fill-color);\n",
              "    }\n",
              "    80% {\n",
              "      border-color: transparent;\n",
              "      border-right-color: var(--fill-color);\n",
              "      border-bottom-color: var(--fill-color);\n",
              "    }\n",
              "    90% {\n",
              "      border-color: transparent;\n",
              "      border-bottom-color: var(--fill-color);\n",
              "    }\n",
              "  }\n",
              "</style>\n",
              "\n",
              "  <script>\n",
              "    async function quickchart(key) {\n",
              "      const quickchartButtonEl =\n",
              "        document.querySelector('#' + key + ' button');\n",
              "      quickchartButtonEl.disabled = true;  // To prevent multiple clicks.\n",
              "      quickchartButtonEl.classList.add('colab-df-spinner');\n",
              "      try {\n",
              "        const charts = await google.colab.kernel.invokeFunction(\n",
              "            'suggestCharts', [key], {});\n",
              "      } catch (error) {\n",
              "        console.error('Error during call to suggestCharts:', error);\n",
              "      }\n",
              "      quickchartButtonEl.classList.remove('colab-df-spinner');\n",
              "      quickchartButtonEl.classList.add('colab-df-quickchart-complete');\n",
              "    }\n",
              "    (() => {\n",
              "      let quickchartButtonEl =\n",
              "        document.querySelector('#df-061da8c2-7a1c-4669-9b4b-812cf015bc20 button');\n",
              "      quickchartButtonEl.style.display =\n",
              "        google.colab.kernel.accessAllowed ? 'block' : 'none';\n",
              "    })();\n",
              "  </script>\n",
              "</div>\n",
              "    </div>\n",
              "  </div>\n"
            ]
          },
          "metadata": {},
          "execution_count": 4
        }
      ]
    },
    {
      "cell_type": "code",
      "source": [
        "# Visualización de la data usando la librería Matplotlib\n",
        "\n",
        "df.plot(kind= 'scatter', x='PIB per capita', y='Indice de felicidad')\n",
        "\n",
        "plt.show()"
      ],
      "metadata": {
        "id": "ufooZEUGUm2i",
        "colab": {
          "base_uri": "https://localhost:8080/",
          "height": 449
        },
        "outputId": "cb255e0c-c222-41cd-dc73-75dc97911eb4"
      },
      "execution_count": null,
      "outputs": [
        {
          "output_type": "display_data",
          "data": {
            "text/plain": [
              "<Figure size 640x480 with 1 Axes>"
            ],
            "image/png": "[encoded data removed]"
          },
          "metadata": {}
        }
      ]
    },
    {
      "cell_type": "code",
      "source": [
        "# Parece que se ve una tendencia que indica que cuanto mayor es el PIB de un pais\n",
        "# mas satisfecha esta la gente\n",
        "# vamos a desarrollar un modelo que en base a estos datos nos permita saber para\n",
        "# cualquier pais su nivel de satisfaccion, es una tarea de regresion\n",
        "# vamos a usar un algoritmo muy simple que se basa en una regresion lineal, es\n",
        "# una recta\n",
        "# y= m*x + b\n",
        "\n",
        "# y    variable que queremos predecir\n",
        "# m\n",
        "# x     PIB\n",
        "# b\n",
        "\n",
        "# tenemos que entrenar a este modelo para darle unos valores a los parametros\n",
        "# que son la m y la b, que se ajusten a la tendencia que vemos en la grafica\n",
        "\n",
        "# usamos la libreria de Scikit Learn"
      ],
      "metadata": {
        "id": "HOgsu4dUVzDO"
      },
      "execution_count": null,
      "outputs": []
    },
    {
      "cell_type": "markdown",
      "source": [
        "La ecuación general de una regresión lineal simple es:\n",
        "\n",
        "$y = mx + b$\n",
        "\n",
        "donde:\n",
        "\n",
        "+   $y$ es la variable dependiente,\n",
        "+   $x$ es la variable independiente,\n",
        "+   $m$ es la pendiente de la línea (coeficiente de la variable independiente),\n",
        "+   $b$ es el intercepto.\n",
        "\n",
        "En términos prácticos, el intercepto indica el valor de $y$ cuando $x$ es igual a cero.\n",
        "\n",
        "El intercepto en una regresión lineal es el valor en el eje vertical (eje y) donde la línea de regresión cruza o intercepta dicho eje."
      ],
      "metadata": {
        "id": "0XMKi__PXPLq"
      }
    },
    {
      "cell_type": "code",
      "source": [
        "# Creación del modelo de Regresion Lineal usando la librería Sklearn y numpy\n",
        "\n",
        "from sklearn import linear_model\n",
        "import numpy as np\n",
        "\n",
        "lin1 = linear_model.LinearRegression()\n",
        "\n",
        "# A continuación, np.c_ se utiliza para concatenar las columnas del DataFrame\n",
        "# df[\"PIB per capita\"] y df[\"Indice de felicidad\"] a lo largo del segundo eje.\n",
        "# Esto es necesario porque lin1.fit espera que Xsample y ysample sean arreglos\n",
        "# bidimensionales, y np.c_ se utiliza para realizar esta concatenación de\n",
        "# manera conveniente.\n",
        "\n",
        "Xsample = np.c_[df[\"PIB per capita\"]]\n",
        "ysample = np.c_[df[\"Indice de felicidad\"]]\n",
        "lin1.fit(Xsample, ysample)\n",
        "\n",
        "# Se obtienen los coeficientes de la ecuación de regresión lineal. b representa\n",
        "# la ordenada al origen (intercepto), y m representa la pendiente de la línea.\n",
        "\n",
        "b, m= lin1.intercept_[0], lin1.coef_[0][0]\n",
        "\n",
        "# En el caso de una regresión simple, el uso del índice 0 en la función\n",
        "# intercept_ es simplemente una convención para obtener el único valor de\n",
        "# intercepto presente en el arreglo.\n",
        "\n",
        "b, m\n",
        "\n",
        "# Esto significa que el modelo predice el Índice de felicidad en función del PIB\n",
        "# per cápita con estas constantes resultantes. El intercepto representa el valor\n",
        "# estimado del Índice de felicidad cuando el PIB per cápita es cero, y el\n",
        "# coeficiente indica el cambio en el Índice de felicidad por cada unidad de\n",
        "# aumento en el PIB per cápita."
      ],
      "metadata": {
        "id": "zsnP5nHYXgNs",
        "colab": {
          "base_uri": "https://localhost:8080/"
        },
        "outputId": "605dfc00-17cd-4263-df43-1a8d337c4fe1"
      },
      "execution_count": null,
      "outputs": [
        {
          "output_type": "execute_result",
          "data": {
            "text/plain": [
              "(4.8530528073310295, 4.911544598433898e-05)"
            ]
          },
          "metadata": {},
          "execution_count": 7
        }
      ]
    },
    {
      "cell_type": "code",
      "source": [
        "df.plot(kind='scatter', x=\"PIB per capita\", y='Indice de felicidad', figsize=(5,3))\n",
        "plt.xlabel(\"GDP per capita (USD)\")\n",
        "plt.axis([0, 60000, 4, 8])\n",
        "X=np.linspace(0, 60000, 1000)\n",
        "plt.plot(X, b + m*X, \"r\")\n",
        "plt.text(5000, 3.1, r\"$b = 4.85$\", fontsize=14, color=\"g\")\n",
        "plt.text(5000, 2.2, r\"$w = 4.91 \\times 10^{-5}$\", fontsize=14, color=\"b\")\n",
        "plt.show()"
      ],
      "metadata": {
        "id": "cZq8OuxdYRZL",
        "colab": {
          "base_uri": "https://localhost:8080/",
          "height": 381
        },
        "outputId": "6e3e5d3f-44c3-41d1-cf79-2fe309379fef"
      },
      "execution_count": null,
      "outputs": [
        {
          "output_type": "display_data",
          "data": {
            "text/plain": [
              "<Figure size 500x300 with 1 Axes>"
            ],
            "image/png": "[encoded data removed]"
          },
          "metadata": {}
        }
      ]
    },
    {
      "cell_type": "code",
      "source": [
        "#vamos a usar nuestro algoritmo para predecir el nivel de satisfaccion de\n",
        "#cualquier pais del que sepamos su PIB\n",
        "\n",
        "cyprus_pib_per_capita = 22587\n",
        "cyprus_predicted_indice_felicidad = lin1.predict([[cyprus_pib_per_capita]])[0][0]\n",
        "cyprus_predicted_indice_felicidad"
      ],
      "metadata": {
        "id": "lZ92OY_OYj5U",
        "colab": {
          "base_uri": "https://localhost:8080/"
        },
        "outputId": "ab08762c-487c-4be3-8ab0-59115dbdc749"
      },
      "execution_count": null,
      "outputs": [
        {
          "output_type": "execute_result",
          "data": {
            "text/plain": [
              "5.962423385779294"
            ]
          },
          "metadata": {},
          "execution_count": 9
        }
      ]
    },
    {
      "cell_type": "code",
      "source": [
        "df.plot(kind='scatter', x=\"PIB per capita\", y='Indice de felicidad', figsize=(5,3), s=1)\n",
        "plt.xlabel(\"PIB per capita (USD)\")\n",
        "X=np.linspace(0, 60000, 1000)\n",
        "plt.plot(X, b + m*X, \"b\")\n",
        "plt.axis([0, 60000, 0, 10])\n",
        "plt.text(5000, 7.5, r\"$b = 4.85$\", fontsize=14, color=\"b\")\n",
        "plt.text(5000, 6.6, r\"$w = 4.91 \\times 10^{-5}$\", fontsize=14, color=\"b\")\n",
        "plt.plot([cyprus_pib_per_capita, cyprus_pib_per_capita], [0, cyprus_predicted_indice_felicidad], \"r-.\")\n",
        "plt.text(25000, 5.0, r\"Prediction = 5.96\", fontsize=14, color=\"b\")\n",
        "plt.plot(cyprus_pib_per_capita, cyprus_predicted_indice_felicidad, \"ro\")\n",
        "plt.show()"
      ],
      "metadata": {
        "id": "MHz8_8xGY_ZP",
        "colab": {
          "base_uri": "https://localhost:8080/",
          "height": 316
        },
        "outputId": "75c49208-3f27-4200-9ad5-35fa2950423b"
      },
      "execution_count": null,
      "outputs": [
        {
          "output_type": "display_data",
          "data": {
            "text/plain": [
              "<Figure size 500x300 with 1 Axes>"
            ],
            "image/png": "[encoded data removed]"
          },
          "metadata": {}
        }
      ]
    },
    {
      "cell_type": "code",
      "source": [
        "#Queremos predecir el precio de una casa basado en varias caracteristicas como\n",
        "#ubicacion, metros cuadrados de parcela, numero de habitaciones, piscina, etc\n",
        "\n",
        "#Ya vimos la formula tipica de regresion lineal\n",
        "# Y= Wo + W1X1 + W2X2 + W3X3....\n",
        "# Donde Y es el precio de la casa a predecir\n",
        "# X son las caracteristicas(habitaciones, metros cuadrados, etc)\n",
        "# W son los pesos(weights) o parametros del modelo\n",
        "\n",
        "# Una metrica comun sobre la calidad de nuestro modelo es el SME (squared mean\n",
        "# error), valores predichos menos el valor reales lo elevamos al cuadrado y los\n",
        "#sumamos para todas las muestras que tengamos, dividimos por el numero total de\n",
        "#muestras\n",
        "\n",
        "import numpy as np\n",
        "import matplotlib.pyplot as plt\n",
        "\n",
        "X = 2 * np.random.rand(100, 1)\n",
        "y = 3 * X + np.random.randn(100, 1)\n",
        "\n",
        "plt.plot(X, y, \"b.\")\n",
        "plt.xlabel(\"$x_1$\", fontsize=18)\n",
        "plt.ylabel(\"$y$\", rotation=0, fontsize=18)\n",
        "plt.axis([0, 2, -3, 10])\n",
        "plt.show()\n",
        "\n",
        "\n",
        "#Y seria el precio de la casa\n",
        "#X1 seria la unica variable o caracteristica de la casa (metros cuadrados, por\n",
        "#ejemplo)"
      ],
      "metadata": {
        "id": "Q2sacM7UHz6f"
      },
      "execution_count": null,
      "outputs": []
    },
    {
      "cell_type": "code",
      "source": [
        "#vamos a entrenar un modelo de regresion lineal con sklearn\n",
        "from sklearn.linear_model import LinearRegression\n",
        "\n",
        "lin_reg= LinearRegression()\n",
        "lin_reg.fit(X,y)\n",
        "lin_reg.intercept_, lin_reg.coef_\n",
        "\n",
        "#En el coef tenemos todos los pesos (w) que se multiplican por las\n",
        "#caracteristicas (X), en este caso solo hay el W1 porque solo hay una variable\n",
        "#o caracteristica (X1)\n",
        "#En el intercept tenemos el Wo o bias"
      ],
      "metadata": {
        "id": "5gQSRU3GMRev"
      },
      "execution_count": null,
      "outputs": []
    },
    {
      "cell_type": "code",
      "source": [
        "#llamamos a la funcion predict con datos nuevos para sacar prediccione\n",
        "#en este caso vamos a sacar predicciones para los puntos 0 y 2\n",
        "\n",
        "X_new = np.array([[0], [2]])\n",
        "y_predict = lin_reg.predict(X_new)\n",
        "plt.plot(X_new, y_predict, \"r-\", linewidth=2, label=\"Predictions\")\n",
        "plt.plot(X, y, \"b.\")\n",
        "plt.xlabel(\"$x_1$\", fontsize=18)\n",
        "plt.ylabel(\"$y$\", rotation=0, fontsize=18)\n",
        "plt.legend(loc=\"upper left\", fontsize=14)\n",
        "plt.axis([0, 2, -3, 10])\n",
        "plt.show()"
      ],
      "metadata": {
        "id": "jkQR9-mgO40Z"
      },
      "execution_count": null,
      "outputs": []
    },
    {
      "cell_type": "code",
      "source": [
        "#la linea intenta ajustarse lo maximo posible a los datos e intenta minimizar\n",
        "#el SME"
      ],
      "metadata": {
        "id": "PXImiZyOPjqW"
      },
      "execution_count": null,
      "outputs": []
    },
    {
      "cell_type": "code",
      "source": [
        "#que sucede si los datos NO siguen una tendencia lineal tan sencilla como\n",
        "#la de arriba\n",
        "\n",
        "import numpy.random as rnd\n",
        "\n",
        "np.random.seed(42)\n",
        "\n",
        "m = 100\n",
        "X = 6 * np.random.rand(m, 1) - 3\n",
        "y = 0.5 * X**2 + X + 2 + np.random.randn(m, 1)\n",
        "\n",
        "plt.plot(X, y, \"b.\")\n",
        "plt.xlabel(\"$x_1$\", fontsize=18)\n",
        "plt.ylabel(\"$y$\", rotation=0, fontsize=18)\n",
        "plt.axis([-3, 3, 0, 10])\n",
        "plt.show()"
      ],
      "metadata": {
        "id": "3ybk9mmFP6Ko"
      },
      "execution_count": null,
      "outputs": []
    },
    {
      "cell_type": "code",
      "source": [
        "lin_reg = LinearRegression()\n",
        "lin_reg.fit(X, y)\n",
        "\n",
        "X_new = np.array([[-3], [3]])\n",
        "y_predict = lin_reg.predict(X_new)\n",
        "plt.plot(X_new, y_predict, \"r-\", linewidth=2, label=\"Predictions\")\n",
        "plt.plot(X, y, \"b.\")\n",
        "plt.xlabel(\"$x_1$\", fontsize=18)\n",
        "plt.ylabel(\"$y$\", rotation=0, fontsize=18)\n",
        "plt.legend(loc=\"upper left\", fontsize=14)\n",
        "plt.axis([-3, 3, 0, 10])\n",
        "plt.show()"
      ],
      "metadata": {
        "id": "YYV1EEksRsb4"
      },
      "execution_count": null,
      "outputs": []
    },
    {
      "cell_type": "code",
      "source": [
        "#en SKLEARN podemos usar modelos de regresion polinomial para que se ajuste\n",
        "#mas a la realidad de estos nuevos datos, usariamos curvas en vez de rectas\n",
        "\n",
        "#lo que vamos a hacer es procesar nuestros datos para transformarlos en un\n",
        "#espacio de representacion con mas variables x1 x2 x3 etc. de forma que en\n",
        "#este nuevo espacio transformado nuestros datos sigan una tendencia lineal\n",
        "from sklearn.preprocessing import PolynomialFeatures\n",
        "\n",
        "poly_features = PolynomialFeatures(degree=2, include_bias=False)\n",
        "X_poly = poly_features.fit_transform(X)\n",
        "X[0], X_poly[0]  #compara la primera fila de la matriz original X y la\n",
        "#primera fila de la matriz transformada\n",
        "\n",
        "#la funcion transform cambia una variable a dos variables como vemos abajo\n",
        "#estas dos variables representan lo mismo que la variable unica pero en\n",
        "#otro espacio\n"
      ],
      "metadata": {
        "id": "YxQ1T8RhQUyO"
      },
      "execution_count": null,
      "outputs": []
    },
    {
      "cell_type": "code",
      "source": [
        "#si ahora entrenamos el modelo usando los nuevos datos procesados veamos\n",
        "#que tenemos otro modelo que nos da mejores resultados\n",
        "\n",
        "lin_reg = LinearRegression()\n",
        "lin_reg.fit(X_poly, y)\n",
        "lin_reg.intercept_, lin_reg.coef_"
      ],
      "metadata": {
        "id": "Lm0WDvTMTUwR"
      },
      "execution_count": null,
      "outputs": []
    },
    {
      "cell_type": "code",
      "source": [
        "X_new=np.linspace(-3, 3, 100).reshape(100, 1)\n",
        "X_new_poly = poly_features.transform(X_new)\n",
        "y_new = lin_reg.predict(X_new_poly)\n",
        "plt.plot(X, y, \"b.\")\n",
        "plt.plot(X_new, y_new, \"r-\", linewidth=2, label=\"Predictions\")\n",
        "plt.xlabel(\"$x_1$\", fontsize=18)\n",
        "plt.ylabel(\"$y$\", rotation=0, fontsize=18)\n",
        "plt.legend(loc=\"upper left\", fontsize=14)\n",
        "plt.axis([-3, 3, 0, 10])\n",
        "plt.show()"
      ],
      "metadata": {
        "id": "e_2yk_iqUDUR"
      },
      "execution_count": null,
      "outputs": []
    },
    {
      "cell_type": "code",
      "source": [
        "#como se yo el grado del polinomio?, con tantas variables que afectan al precio\n",
        "#de la casa, prueba un monton de valores y quedate con el que mejor funcione\n",
        "#hiperoptimizacion de parametroS\n",
        "#probaremos varios grados diferentes 1, 2, 40 o mas\n",
        "#para cada uno de ellos calculamos su metrica , su SME y veremos cual funciona\n",
        "#mejor\n",
        "#cuando usamos el grado 1 tenemos un problema de underfitting (poco ajustado)\n",
        "#cuando usamos el grado 40 tenemos un problema de overfitting (demasiado\n",
        "#ajustado)\n",
        "#Para evaluar estos modelos lo tenemos que hacer con datos nuevos, problamente\n",
        "#el modelo grado 2 nos de mejor resultados, pero si no evaluaramos con datos\n",
        "#nuevos el grado 40 nos daria mejores resultado (no GENERALIZA bien a los datos\n",
        "#nuevos)\n",
        "\n",
        "\n",
        "from sklearn.preprocessing import StandardScaler\n",
        "from sklearn.pipeline import Pipeline\n",
        "\n",
        "for style, width, degree in ((\"g-\", 1, 40), (\"b--\", 2, 2), (\"r-+\", 2, 1)):\n",
        "    polybig_features = PolynomialFeatures(degree=degree, include_bias=False)\n",
        "    std_scaler = StandardScaler()\n",
        "    lin_reg = LinearRegression()\n",
        "    polynomial_regression = Pipeline([\n",
        "            (\"poly_features\", polybig_features),\n",
        "            (\"std_scaler\", std_scaler),\n",
        "            (\"lin_reg\", lin_reg),\n",
        "        ])\n",
        "    polynomial_regression.fit(X, y)\n",
        "    y_newbig = polynomial_regression.predict(X_new)\n",
        "    plt.plot(X_new, y_newbig, style, label=str(degree), linewidth=width)\n",
        "\n",
        "plt.plot(X, y, \"b.\", linewidth=3)\n",
        "plt.legend(loc=\"upper left\")\n",
        "plt.xlabel(\"$x_1$\", fontsize=18)\n",
        "plt.ylabel(\"$y$\", rotation=0, fontsize=18)\n",
        "plt.axis([-3, 3, 0, 10])\n",
        "plt.show()"
      ],
      "metadata": {
        "id": "Lu4QDpl9UZNA"
      },
      "execution_count": null,
      "outputs": []
    },
    {
      "cell_type": "markdown",
      "source": [
        "# Proyecto 2: Clasificación - Regresión Logística."
      ],
      "metadata": {
        "id": "pln3agp4ciU_"
      }
    },
    {
      "cell_type": "markdown",
      "source": [
        "La clasificación es un tipo de problema en el que el objetivo es predecir una\n",
        "categoría o clase a partir de uno o más valores de entrada. Un ejemplo común es el filtro de spam de un proveedor de correo electrónico, que clasifica los correos electrónicos como \"spam\" o \"no spam\" basándose en una serie de características del correo electrónico. Algunos de los algoritmos más comunes para los problemas de clasificación incluyen las máquinas de vectores de soporte, los árboles de decisión y las redes neuronales."
      ],
      "metadata": {
        "id": "3Ep8AWarJzmb"
      }
    },
    {
      "cell_type": "code",
      "source": [
        "# La regresión logística en scikit-learn se considera un modelo de clasificación.\n",
        "# Aunque el término \"regresión\" está presente en su nombre, la regresión logística\n",
        "# se utiliza principalmente para problemas de clasificación binaria o multiclase.\n",
        "\n",
        "# La regresión logística estima la probabilidad de que una instancia pertenezca a\n",
        "# una clase específica utilizando una función logística o sigmoide.\n",
        "# A partir de esta probabilidad estimada, se toma una decisión de clasificación\n",
        "# asignando la instancia a la clase con la probabilidad más alta.\n",
        "\n",
        "# En el caso del dataset Iris en scikit-learn, la regresión logística se puede\n",
        "# utilizar para clasificar las flores en diferentes especies utilizando las\n",
        "# características disponibles en el conjunto de datos.\n",
        "\n",
        "# El dataset Iris contiene mediciones de características de tres especies de\n",
        "# flores: setosa, versicolor y virginica. Cada muestra del dataset tiene cuatro\n",
        "# características: longitud y ancho del sépalo, y longitud y ancho del pétalo.\n"
      ],
      "metadata": {
        "id": "9679Jx3_cmBn"
      },
      "execution_count": null,
      "outputs": []
    },
    {
      "cell_type": "code",
      "source": [
        "from sklearn.datasets import load_iris\n",
        "from sklearn.linear_model import LogisticRegression\n",
        "from sklearn.model_selection import train_test_split\n",
        "from sklearn.metrics import accuracy_score\n",
        "from sklearn.metrics import precision_score\n",
        "from sklearn.metrics import recall_score\n",
        "from sklearn.metrics import f1_score\n",
        "from sklearn.metrics import confusion_matrix\n",
        "\n",
        "#cargamos el dataset Iris\n",
        "iris = load_iris()\n",
        "X = iris.data\n",
        "y = iris.target\n",
        "\n"
      ],
      "metadata": {
        "id": "nCUWZRgydYvi"
      },
      "execution_count": null,
      "outputs": []
    },
    {
      "cell_type": "code",
      "source": [
        "# dividimos los datos en conjuntos de entrenamiento y prueba\n",
        "\n",
        "X_train, X_test, y_train, y_test = train_test_split(X, y, test_size=0.2, random_state=42)"
      ],
      "metadata": {
        "id": "F3JOR7RadxUq"
      },
      "execution_count": null,
      "outputs": []
    },
    {
      "cell_type": "code",
      "source": [
        "#creamos una instancia del modelo de regresion logistica y entrenarlo\n",
        "\n",
        "logreg=LogisticRegression()\n",
        "logreg.fit(X_train, y_train)"
      ],
      "metadata": {
        "id": "O-cKmrHKd8QT",
        "colab": {
          "base_uri": "https://localhost:8080/",
          "height": 216
        },
        "outputId": "3d398a2a-0201-4cb3-8c6a-a9c872f68905"
      },
      "execution_count": null,
      "outputs": [
        {
          "output_type": "stream",
          "name": "stderr",
          "text": [
            "/usr/local/lib/python3.10/dist-packages/sklearn/linear_model/_logistic.py:458: ConvergenceWarning: lbfgs failed to converge (status=1):\n",
            "STOP: TOTAL NO. of ITERATIONS REACHED LIMIT.\n",
            "\n",
            "Increase the number of iterations (max_iter) or scale the data as shown in:\n",
            "    https://scikit-learn.org/stable/modules/preprocessing.html\n",
            "Please also refer to the documentation for alternative solver options:\n",
            "    https://scikit-learn.org/stable/modules/linear_model.html#logistic-regression\n",
            "  n_iter_i = _check_optimize_result(\n"
          ]
        },
        {
          "output_type": "execute_result",
          "data": {
            "text/plain": [
              "LogisticRegression()"
            ],
            "text/html": [
              "<style>#sk-container-id-1 {color: black;background-color: white;}#sk-container-id-1 pre{padding: 0;}#sk-container-id-1 div.sk-toggleable {background-color: white;}#sk-container-id-1 label.sk-toggleable__label {cursor: pointer;display: block;width: 100%;margin-bottom: 0;padding: 0.3em;box-sizing: border-box;text-align: center;}#sk-container-id-1 label.sk-toggleable__label-arrow:before {content: \"▸\";float: left;margin-right: 0.25em;color: #696969;}#sk-container-id-1 label.sk-toggleable__label-arrow:hover:before {color: black;}#sk-container-id-1 div.sk-estimator:hover label.sk-toggleable__label-arrow:before {color: black;}#sk-container-id-1 div.sk-toggleable__content {max-height: 0;max-width: 0;overflow: hidden;text-align: left;background-color: #f0f8ff;}#sk-container-id-1 div.sk-toggleable__content pre {margin: 0.2em;color: black;border-radius: 0.25em;background-color: #f0f8ff;}#sk-container-id-1 input.sk-toggleable__control:checked~div.sk-toggleable__content {max-height: 200px;max-width: 100%;overflow: auto;}#sk-container-id-1 input.sk-toggleable__control:checked~label.sk-toggleable__label-arrow:before {content: \"▾\";}#sk-container-id-1 div.sk-estimator input.sk-toggleable__control:checked~label.sk-toggleable__label {background-color: #d4ebff;}#sk-container-id-1 div.sk-label input.sk-toggleable__control:checked~label.sk-toggleable__label {background-color: #d4ebff;}#sk-container-id-1 input.sk-hidden--visually {border: 0;clip: rect(1px 1px 1px 1px);clip: rect(1px, 1px, 1px, 1px);height: 1px;margin: -1px;overflow: hidden;padding: 0;position: absolute;width: 1px;}#sk-container-id-1 div.sk-estimator {font-family: monospace;background-color: #f0f8ff;border: 1px dotted black;border-radius: 0.25em;box-sizing: border-box;margin-bottom: 0.5em;}#sk-container-id-1 div.sk-estimator:hover {background-color: #d4ebff;}#sk-container-id-1 div.sk-parallel-item::after {content: \"\";width: 100%;border-bottom: 1px solid gray;flex-grow: 1;}#sk-container-id-1 div.sk-label:hover label.sk-toggleable__label {background-color: #d4ebff;}#sk-container-id-1 div.sk-serial::before {content: \"\";position: absolute;border-left: 1px solid gray;box-sizing: border-box;top: 0;bottom: 0;left: 50%;z-index: 0;}#sk-container-id-1 div.sk-serial {display: flex;flex-direction: column;align-items: center;background-color: white;padding-right: 0.2em;padding-left: 0.2em;position: relative;}#sk-container-id-1 div.sk-item {position: relative;z-index: 1;}#sk-container-id-1 div.sk-parallel {display: flex;align-items: stretch;justify-content: center;background-color: white;position: relative;}#sk-container-id-1 div.sk-item::before, #sk-container-id-1 div.sk-parallel-item::before {content: \"\";position: absolute;border-left: 1px solid gray;box-sizing: border-box;top: 0;bottom: 0;left: 50%;z-index: -1;}#sk-container-id-1 div.sk-parallel-item {display: flex;flex-direction: column;z-index: 1;position: relative;background-color: white;}#sk-container-id-1 div.sk-parallel-item:first-child::after {align-self: flex-end;width: 50%;}#sk-container-id-1 div.sk-parallel-item:last-child::after {align-self: flex-start;width: 50%;}#sk-container-id-1 div.sk-parallel-item:only-child::after {width: 0;}#sk-container-id-1 div.sk-dashed-wrapped {border: 1px dashed gray;margin: 0 0.4em 0.5em 0.4em;box-sizing: border-box;padding-bottom: 0.4em;background-color: white;}#sk-container-id-1 div.sk-label label {font-family: monospace;font-weight: bold;display: inline-block;line-height: 1.2em;}#sk-container-id-1 div.sk-label-container {text-align: center;}#sk-container-id-1 div.sk-container {/* jupyter's `normalize.less` sets `[hidden] { display: none; }` but bootstrap.min.css set `[hidden] { display: none !important; }` so we also need the `!important` here to be able to override the default hidden behavior on the sphinx rendered scikit-learn.org. See: https://github.com/scikit-learn/scikit-learn/issues/21755 */display: inline-block !important;position: relative;}#sk-container-id-1 div.sk-text-repr-fallback {display: none;}</style><div id=\"sk-container-id-1\" class=\"sk-top-container\"><div class=\"sk-text-repr-fallback\"><pre>LogisticRegression()</pre><b>In a Jupyter environment, please rerun this cell to show the HTML representation or trust the notebook. <br />On GitHub, the HTML representation is unable to render, please try loading this page with nbviewer.org.</b></div><div class=\"sk-container\" hidden><div class=\"sk-item\"><div class=\"sk-estimator sk-toggleable\"><input class=\"sk-toggleable__control sk-hidden--visually\" id=\"sk-estimator-id-1\" type=\"checkbox\" checked><label for=\"sk-estimator-id-1\" class=\"sk-toggleable__label sk-toggleable__label-arrow\">LogisticRegression</label><div class=\"sk-toggleable__content\"><pre>LogisticRegression()</pre></div></div></div></div></div>"
            ]
          },
          "metadata": {},
          "execution_count": 4
        }
      ]
    },
    {
      "cell_type": "code",
      "source": [
        "#realizamos prediccion en el conjunto de prueba\n",
        "\n",
        "y_pred=logreg.predict(X_test)"
      ],
      "metadata": {
        "id": "lqJVaOZ6eMXx"
      },
      "execution_count": null,
      "outputs": []
    },
    {
      "cell_type": "markdown",
      "source": [
        "La evaluación de un modelo de machine learning es un paso esencial para entender\n",
        "cómo de bien está funcionando. Dependiendo de si tu modelo es de clasificación,\n",
        "regresión o algún otro tipo de modelo, hay diferentes métricas que puedes usar.\n",
        "\n",
        "\n",
        "\n",
        "*   ***Precisión (Accuracy)***: Es la proporción de predicciones correctas sobre\n",
        "el total de predicciones. Es una métrica útil cuando las clases están\n",
        "bien balanceadas.\n",
        "*   ***Recall (Sensitivity o True Positive Rate)***: Es la proporción de verdaderos\n",
        "positivos que se identificaron correctamente. Es útil en situaciones\n",
        "donde los falsos negativos son más preocupantes que los falsos\n",
        "positivos.\n",
        "*   ***Precision***: Es la proporción de verdaderos positivos entre todas las\n",
        "predicciones positivas. Es útil en situaciones donde los falsos\n",
        "positivos son más preocupantes que los falsos negativos.\n",
        "*   ***F1 Score***: Es la media armónica de Precision y Recall. Intenta equilibrar\n",
        "ambas métricas y es más útil que la precisión cuando tienes una\n",
        "distribución de clases desequilibrada.\n",
        "\n"
      ],
      "metadata": {
        "id": "3ZJuEvggL_v-"
      }
    },
    {
      "cell_type": "markdown",
      "source": [
        "Una matriz de confusión es una tabla que se utiliza para evaluar el rendimiento de un modelo de clasificación en problemas de aprendizaje supervisado. Es especialmente útil cuando se trata de problemas de clasificación binaria, aunque también se puede extender a problemas de clasificación multiclase.\n",
        "\n",
        "La matriz de confusión muestra la cantidad de predicciones correctas e incorrectas realizadas por un modelo en cada clase. La estructura básica de la matriz de confusión es la siguiente:\n",
        "\n",
        "**Verdaderos Positivos (TP) ⇒\n",
        "Falsos Negativos (FN) ⇒\n",
        "Falsos Positivos (FP) ⇒\n",
        "Verdaderos Negativos (TN)**\n",
        "\n",
        "\n",
        "*   ***Verdaderos Positivos (TP)***: Son las instancias que el modelo ha clasificado correctamente como positivas.\n",
        "*   ***Falsos Negativos (FN)***: Son las instancias que el modelo ha clasificado incorrectamente como negativas cuando son positivas.\n",
        "*   ***Falsos Positivos (FP)***: Son las instancias que el modelo ha clasificado incorrectamente como positivas cuando son negativas.\n",
        "*   ***Verdaderos Negativos (TN)***: Son las instancias que el modelo ha clasificado correctamente como negativas.\n"
      ],
      "metadata": {
        "id": "lOxpJF95NJFN"
      }
    },
    {
      "cell_type": "code",
      "source": [
        "#evaluamos el rendimiento del modelo mediante alguna metrica como\n",
        "#por ejemplo la precision (accuracy)\n",
        "\n",
        "accuracy = accuracy_score(y_test, y_pred)\n",
        "print(\"Accuracy:\", accuracy)\n"
      ],
      "metadata": {
        "id": "DSDFTr8tecXa",
        "colab": {
          "base_uri": "https://localhost:8080/"
        },
        "outputId": "8d9a9e33-58d2-4c35-816a-7f2c9ea32fdf"
      },
      "execution_count": null,
      "outputs": [
        {
          "output_type": "stream",
          "name": "stdout",
          "text": [
            "Accuracy: 1.0\n"
          ]
        }
      ]
    },
    {
      "cell_type": "code",
      "source": [
        "# Creamos la matriz de confusión.\n",
        "\n",
        "matriz_confusion=confusion_matrix(y_test, y_pred)\n",
        "print(matriz_confusion)"
      ],
      "metadata": {
        "id": "7GYL-s5Ve99j",
        "colab": {
          "base_uri": "https://localhost:8080/"
        },
        "outputId": "1698d4a8-299f-4a37-d68c-a985daf82096"
      },
      "execution_count": null,
      "outputs": [
        {
          "output_type": "stream",
          "name": "stdout",
          "text": [
            "[[10  0  0]\n",
            " [ 0  9  0]\n",
            " [ 0  0 11]]\n"
          ]
        }
      ]
    },
    {
      "cell_type": "markdown",
      "source": [
        "En scikit-learn, el método ***score*** de un modelo de regresión logística se utiliza para calcular la precisión del modelo en un conjunto de datos dado. Este método está disponible en los estimadores de clasificación, incluida la regresión logística.\n",
        "\n",
        "La precisión se define como la fracción de muestras correctamente clasificadas sobre el total de muestras. Para modelos de clasificación, el método ***score*** devuelve la precisión por defecto."
      ],
      "metadata": {
        "id": "sAH_gqOUO599"
      }
    },
    {
      "cell_type": "code",
      "source": [
        "logreg.score(X_test, y_test)"
      ],
      "metadata": {
        "id": "lAxB2tK0fbru",
        "colab": {
          "base_uri": "https://localhost:8080/"
        },
        "outputId": "10b0f10c-9d29-418e-98b1-bde5ee46d338"
      },
      "execution_count": null,
      "outputs": [
        {
          "output_type": "execute_result",
          "data": {
            "text/plain": [
              "1.0"
            ]
          },
          "metadata": {},
          "execution_count": 45
        }
      ]
    },
    {
      "cell_type": "markdown",
      "source": [
        "# Proyecto 3: Clasificación - K Nearest Neighbors."
      ],
      "metadata": {
        "id": "5p2MW---4C-I"
      }
    },
    {
      "cell_type": "code",
      "source": [
        "# KNN es un algoritmo de aprendizaje supervisado usado tanto para problemas de\n",
        "# clasificación cuando las etiquetas son categóricas como para problemas de\n",
        "# regresion cuando las etiquetas son numéricas\n",
        "from sklearn.neighbors import KNeighborsClassifier\n",
        "from sklearn.datasets import load_iris\n",
        "from sklearn.model_selection import train_test_split\n",
        "from sklearn.metrics import accuracy_score\n",
        "\n",
        "# cargar el conjunto de datos de ejemplo \"Iris\"\n",
        "\n",
        "iris=load_iris()\n",
        "X=iris.data     # caracteristicas\n",
        "y=iris.target   # etiquetas\n",
        "\n",
        "# Dividir el conjunto de datos en datos de entrenamiento y datos de prueba\n",
        "X_train, X_test, y_train, y_test=train_test_split(X, y, test_size=0.2, random_state=42)\n",
        "\n",
        "# Crear una instancia del clasificador K-NN con K=3, los 3 vecinos mas cercanos\n",
        "knn=KNeighborsClassifier(n_neighbors=3)\n",
        "\n",
        "# Entrenar el clasificador usando los datos de entrenamiento\n",
        "\n",
        "knn.fit(X_train, y_train)\n",
        "\n",
        "# Realizar predicciones en los datos de prueba\n",
        "\n",
        "y_pred=knn.predict(X_test)\n",
        "\n",
        "# Calcular la precision de las predicciones\n",
        "accuracy=accuracy_score(y_test, y_pred)\n",
        "\n",
        "print('Precision:', accuracy)\n",
        "\n"
      ],
      "metadata": {
        "colab": {
          "base_uri": "https://localhost:8080/"
        },
        "id": "5pLFVFNz4QBU",
        "outputId": "ba1c75fe-9ae6-4759-928d-33e4cb535e04"
      },
      "execution_count": 3,
      "outputs": [
        {
          "output_type": "stream",
          "name": "stdout",
          "text": [
            "Precision: 1.0\n"
          ]
        }
      ]
    },
    {
      "cell_type": "code",
      "source": [
        "# Clasificación:\n",
        "# Identificar a qué categoría pertenece un objeto.\n",
        "# Aplicación: Detección de spam. ¿Es spam o no? ¿Es un buen vino o no?\n",
        "\n",
        "# Regresión:\n",
        "# Predecir un atributo asociado con un objeto.\n",
        "# Aplicación: predicción de precios de acciones, pronóstico del tiempo.\n",
        "\n",
        "# Agrupación:\n",
        "# Agrupación automática de objetos similares en conjuntos.\n",
        "# Aplicación: Segmentación de clientes, si a estos clientes les gusta esto, tal vez\n",
        "# les gusta eso.\n",
        "\n",
        "# Selección de modelo:\n",
        "# Comparar, validar y elegir parámetros y modelos.\n",
        "# Aplicación: mejorar la precisión del modelo mediante el ajuste de parámetros.\n",
        "\n",
        "# Reducción de dimensionalidad:\n",
        "# Reducir el número de variables aleatorias a considerar.\n",
        "# Aplicación: Para aumentar la eficiencia del modelo.\n",
        "\n",
        "# Preprocesamiento:\n",
        "# Extracción y normalización de características.\n",
        "# Aplicación: Transformar datos de entrada, como texto, para usarlos con la máquina.\n",
        "\n",
        "# Algoritmos de aprendizaje."
      ],
      "metadata": {
        "id": "uF4zn2lQ-daF"
      },
      "execution_count": 4,
      "outputs": []
    },
    {
      "cell_type": "code",
      "source": [
        "#Modelos más usados;\n",
        "\n",
        "# Linear model\n",
        "# SVM classifier\n",
        "# Nearest neighbours KNN\n",
        "# Decision trees\n",
        "# Neural networks\n",
        "# Forest"
      ],
      "metadata": {
        "id": "Y-B0JQYyxB9E"
      },
      "execution_count": null,
      "outputs": []
    },
    {
      "cell_type": "code",
      "source": [
        "# Importando los paquetes necesarios.\n",
        "import pandas as pd\n",
        "import seaborn as sns\n",
        "import matplotlib.pyplot as plt\n",
        "from sklearn.ensemble import RandomForestClassifier\n",
        "from sklearn.svm import SVC\n",
        "# Importamos SGDClassifier de sklearn.linear_model\n",
        "from sklearn.metrics import confusion_matrix, classification_report\n",
        "from sklearn.preprocessing import StandardScaler, LabelEncoder\n",
        "from sklearn.model_selection import train_test_split\n",
        "%matplotlib inline\n",
        "# Mejor para que no falle en el google colab!"
      ],
      "metadata": {
        "id": "EMn1U2nCzZQK"
      },
      "execution_count": 5,
      "outputs": []
    },
    {
      "cell_type": "code",
      "source": [
        "!wget -O winequality-red.csv https://raw.githubusercontent.com/CharlieScot/Intelligencia-Artificial/main/MODULO_4/winequality-red.csv?token=GHSAT0AAAAAACK7WEBRR7DZWHDPT36RAU7GZLIPLCQ"
      ],
      "metadata": {
        "colab": {
          "base_uri": "https://localhost:8080/"
        },
        "id": "skk5rztaHvlR",
        "outputId": "e988c82c-cb44-430e-8992-2f972b8b22ef"
      },
      "execution_count": 6,
      "outputs": [
        {
          "output_type": "stream",
          "name": "stdout",
          "text": [
            "--2024-01-03 12:38:07--  https://raw.githubusercontent.com/CharlieScot/Intelligencia-Artificial/main/MODULO_4/winequality-red.csv?token=GHSAT0AAAAAACK7WEBRR7DZWHDPT36RAU7GZLIPLCQ\n",
            "Resolving raw.githubusercontent.com (raw.githubusercontent.com)... 185.199.111.133, 185.199.110.133, 185.199.108.133, ...\n",
            "Connecting to raw.githubusercontent.com (raw.githubusercontent.com)|185.199.111.133|:443... connected.\n",
            "HTTP request sent, awaiting response... 200 OK\n",
            "Length: 100951 (99K) [text/plain]\n",
            "Saving to: ‘winequality-red.csv’\n",
            "\n",
            "winequality-red.csv 100%[===================>]  98.58K  --.-KB/s    in 0.02s   \n",
            "\n",
            "2024-01-03 12:38:08 (4.78 MB/s) - ‘winequality-red.csv’ saved [100951/100951]\n",
            "\n"
          ]
        }
      ]
    },
    {
      "cell_type": "code",
      "source": [
        "wine=pd.read_csv('winequality-red.csv', sep=',')"
      ],
      "metadata": {
        "id": "3RpxpeGzK8Bl"
      },
      "execution_count": 7,
      "outputs": []
    },
    {
      "cell_type": "code",
      "source": [
        "wine.head()"
      ],
      "metadata": {
        "id": "lsQ5yd4HLceC",
        "colab": {
          "base_uri": "https://localhost:8080/",
          "height": 223
        },
        "outputId": "30eb67aa-65f1-4b99-9028-d1bc310f610a"
      },
      "execution_count": 8,
      "outputs": [
        {
          "output_type": "execute_result",
          "data": {
            "text/plain": [
              "   fixed acidity  volatile acidity  citric acid  residual sugar  chlorides  \\\n",
              "0            7.4              0.70         0.00             1.9      0.076   \n",
              "1            7.8              0.88         0.00             2.6      0.098   \n",
              "2            7.8              0.76         0.04             2.3      0.092   \n",
              "3           11.2              0.28         0.56             1.9      0.075   \n",
              "4            7.4              0.70         0.00             1.9      0.076   \n",
              "\n",
              "   free sulfur dioxide  total sulfur dioxide  density    pH  sulphates  \\\n",
              "0                 11.0                  34.0   0.9978  3.51       0.56   \n",
              "1                 25.0                  67.0   0.9968  3.20       0.68   \n",
              "2                 15.0                  54.0   0.9970  3.26       0.65   \n",
              "3                 17.0                  60.0   0.9980  3.16       0.58   \n",
              "4                 11.0                  34.0   0.9978  3.51       0.56   \n",
              "\n",
              "   alcohol  quality  \n",
              "0      9.4        5  \n",
              "1      9.8        5  \n",
              "2      9.8        5  \n",
              "3      9.8        6  \n",
              "4      9.4        5  "
            ],
            "text/html": [
              "\n",
              "  <div id=\"df-0cf7d3b5-81ab-4cd2-a404-9bf44e1c6e13\" class=\"colab-df-container\">\n",
              "    <div>\n",
              "<style scoped>\n",
              "    .dataframe tbody tr th:only-of-type {\n",
              "        vertical-align: middle;\n",
              "    }\n",
              "\n",
              "    .dataframe tbody tr th {\n",
              "        vertical-align: top;\n",
              "    }\n",
              "\n",
              "    .dataframe thead th {\n",
              "        text-align: right;\n",
              "    }\n",
              "</style>\n",
              "<table border=\"1\" class=\"dataframe\">\n",
              "  <thead>\n",
              "    <tr style=\"text-align: right;\">\n",
              "      <th></th>\n",
              "      <th>fixed acidity</th>\n",
              "      <th>volatile acidity</th>\n",
              "      <th>citric acid</th>\n",
              "      <th>residual sugar</th>\n",
              "      <th>chlorides</th>\n",
              "      <th>free sulfur dioxide</th>\n",
              "      <th>total sulfur dioxide</th>\n",
              "      <th>density</th>\n",
              "      <th>pH</th>\n",
              "      <th>sulphates</th>\n",
              "      <th>alcohol</th>\n",
              "      <th>quality</th>\n",
              "    </tr>\n",
              "  </thead>\n",
              "  <tbody>\n",
              "    <tr>\n",
              "      <th>0</th>\n",
              "      <td>7.4</td>\n",
              "      <td>0.70</td>\n",
              "      <td>0.00</td>\n",
              "      <td>1.9</td>\n",
              "      <td>0.076</td>\n",
              "      <td>11.0</td>\n",
              "      <td>34.0</td>\n",
              "      <td>0.9978</td>\n",
              "      <td>3.51</td>\n",
              "      <td>0.56</td>\n",
              "      <td>9.4</td>\n",
              "      <td>5</td>\n",
              "    </tr>\n",
              "    <tr>\n",
              "      <th>1</th>\n",
              "      <td>7.8</td>\n",
              "      <td>0.88</td>\n",
              "      <td>0.00</td>\n",
              "      <td>2.6</td>\n",
              "      <td>0.098</td>\n",
              "      <td>25.0</td>\n",
              "      <td>67.0</td>\n",
              "      <td>0.9968</td>\n",
              "      <td>3.20</td>\n",
              "      <td>0.68</td>\n",
              "      <td>9.8</td>\n",
              "      <td>5</td>\n",
              "    </tr>\n",
              "    <tr>\n",
              "      <th>2</th>\n",
              "      <td>7.8</td>\n",
              "      <td>0.76</td>\n",
              "      <td>0.04</td>\n",
              "      <td>2.3</td>\n",
              "      <td>0.092</td>\n",
              "      <td>15.0</td>\n",
              "      <td>54.0</td>\n",
              "      <td>0.9970</td>\n",
              "      <td>3.26</td>\n",
              "      <td>0.65</td>\n",
              "      <td>9.8</td>\n",
              "      <td>5</td>\n",
              "    </tr>\n",
              "    <tr>\n",
              "      <th>3</th>\n",
              "      <td>11.2</td>\n",
              "      <td>0.28</td>\n",
              "      <td>0.56</td>\n",
              "      <td>1.9</td>\n",
              "      <td>0.075</td>\n",
              "      <td>17.0</td>\n",
              "      <td>60.0</td>\n",
              "      <td>0.9980</td>\n",
              "      <td>3.16</td>\n",
              "      <td>0.58</td>\n",
              "      <td>9.8</td>\n",
              "      <td>6</td>\n",
              "    </tr>\n",
              "    <tr>\n",
              "      <th>4</th>\n",
              "      <td>7.4</td>\n",
              "      <td>0.70</td>\n",
              "      <td>0.00</td>\n",
              "      <td>1.9</td>\n",
              "      <td>0.076</td>\n",
              "      <td>11.0</td>\n",
              "      <td>34.0</td>\n",
              "      <td>0.9978</td>\n",
              "      <td>3.51</td>\n",
              "      <td>0.56</td>\n",
              "      <td>9.4</td>\n",
              "      <td>5</td>\n",
              "    </tr>\n",
              "  </tbody>\n",
              "</table>\n",
              "</div>\n",
              "    <div class=\"colab-df-buttons\">\n",
              "\n",
              "  <div class=\"colab-df-container\">\n",
              "    <button class=\"colab-df-convert\" onclick=\"convertToInteractive('df-0cf7d3b5-81ab-4cd2-a404-9bf44e1c6e13')\"\n",
              "            title=\"Convert this dataframe to an interactive table.\"\n",
              "            style=\"display:none;\">\n",
              "\n",
              "  <svg xmlns=\"http://www.w3.org/2000/svg\" height=\"24px\" viewBox=\"0 -960 960 960\">\n",
              "    <path d=\"M120-120v-720h720v720H120Zm60-500h600v-160H180v160Zm220 220h160v-160H400v160Zm0 220h160v-160H400v160ZM180-400h160v-160H180v160Zm440 0h160v-160H620v160ZM180-180h160v-160H180v160Zm440 0h160v-160H620v160Z\"/>\n",
              "  </svg>\n",
              "    </button>\n",
              "\n",
              "  <style>\n",
              "    .colab-df-container {\n",
              "      display:flex;\n",
              "      gap: 12px;\n",
              "    }\n",
              "\n",
              "    .colab-df-convert {\n",
              "      background-color: #E8F0FE;\n",
              "      border: none;\n",
              "      border-radius: 50%;\n",
              "      cursor: pointer;\n",
              "      display: none;\n",
              "      fill: #1967D2;\n",
              "      height: 32px;\n",
              "      padding: 0 0 0 0;\n",
              "      width: 32px;\n",
              "    }\n",
              "\n",
              "    .colab-df-convert:hover {\n",
              "      background-color: #E2EBFA;\n",
              "      box-shadow: 0px 1px 2px rgba(60, 64, 67, 0.3), 0px 1px 3px 1px rgba(60, 64, 67, 0.15);\n",
              "      fill: #174EA6;\n",
              "    }\n",
              "\n",
              "    .colab-df-buttons div {\n",
              "      margin-bottom: 4px;\n",
              "    }\n",
              "\n",
              "    [theme=dark] .colab-df-convert {\n",
              "      background-color: #3B4455;\n",
              "      fill: #D2E3FC;\n",
              "    }\n",
              "\n",
              "    [theme=dark] .colab-df-convert:hover {\n",
              "      background-color: #434B5C;\n",
              "      box-shadow: 0px 1px 3px 1px rgba(0, 0, 0, 0.15);\n",
              "      filter: drop-shadow(0px 1px 2px rgba(0, 0, 0, 0.3));\n",
              "      fill: #FFFFFF;\n",
              "    }\n",
              "  </style>\n",
              "\n",
              "    <script>\n",
              "      const buttonEl =\n",
              "        document.querySelector('#df-0cf7d3b5-81ab-4cd2-a404-9bf44e1c6e13 button.colab-df-convert');\n",
              "      buttonEl.style.display =\n",
              "        google.colab.kernel.accessAllowed ? 'block' : 'none';\n",
              "\n",
              "      async function convertToInteractive(key) {\n",
              "        const element = document.querySelector('#df-0cf7d3b5-81ab-4cd2-a404-9bf44e1c6e13');\n",
              "        const dataTable =\n",
              "          await google.colab.kernel.invokeFunction('convertToInteractive',\n",
              "                                                    [key], {});\n",
              "        if (!dataTable) return;\n",
              "\n",
              "        const docLinkHtml = 'Like what you see? Visit the ' +\n",
              "          '<a target=\"_blank\" href=https://colab.research.google.com/notebooks/data_table.ipynb>data table notebook</a>'\n",
              "          + ' to learn more about interactive tables.';\n",
              "        element.innerHTML = '';\n",
              "        dataTable['output_type'] = 'display_data';\n",
              "        await google.colab.output.renderOutput(dataTable, element);\n",
              "        const docLink = document.createElement('div');\n",
              "        docLink.innerHTML = docLinkHtml;\n",
              "        element.appendChild(docLink);\n",
              "      }\n",
              "    </script>\n",
              "  </div>\n",
              "\n",
              "\n",
              "<div id=\"df-b780a32a-b7ae-4517-aac2-10df6e7d8e35\">\n",
              "  <button class=\"colab-df-quickchart\" onclick=\"quickchart('df-b780a32a-b7ae-4517-aac2-10df6e7d8e35')\"\n",
              "            title=\"Suggest charts\"\n",
              "            style=\"display:none;\">\n",
              "\n",
              "<svg xmlns=\"http://www.w3.org/2000/svg\" height=\"24px\"viewBox=\"0 0 24 24\"\n",
              "     width=\"24px\">\n",
              "    <g>\n",
              "        <path d=\"M19 3H5c-1.1 0-2 .9-2 2v14c0 1.1.9 2 2 2h14c1.1 0 2-.9 2-2V5c0-1.1-.9-2-2-2zM9 17H7v-7h2v7zm4 0h-2V7h2v10zm4 0h-2v-4h2v4z\"/>\n",
              "    </g>\n",
              "</svg>\n",
              "  </button>\n",
              "\n",
              "<style>\n",
              "  .colab-df-quickchart {\n",
              "      --bg-color: #E8F0FE;\n",
              "      --fill-color: #1967D2;\n",
              "      --hover-bg-color: #E2EBFA;\n",
              "      --hover-fill-color: #174EA6;\n",
              "      --disabled-fill-color: #AAA;\n",
              "      --disabled-bg-color: #DDD;\n",
              "  }\n",
              "\n",
              "  [theme=dark] .colab-df-quickchart {\n",
              "      --bg-color: #3B4455;\n",
              "      --fill-color: #D2E3FC;\n",
              "      --hover-bg-color: #434B5C;\n",
              "      --hover-fill-color: #FFFFFF;\n",
              "      --disabled-bg-color: #3B4455;\n",
              "      --disabled-fill-color: #666;\n",
              "  }\n",
              "\n",
              "  .colab-df-quickchart {\n",
              "    background-color: var(--bg-color);\n",
              "    border: none;\n",
              "    border-radius: 50%;\n",
              "    cursor: pointer;\n",
              "    display: none;\n",
              "    fill: var(--fill-color);\n",
              "    height: 32px;\n",
              "    padding: 0;\n",
              "    width: 32px;\n",
              "  }\n",
              "\n",
              "  .colab-df-quickchart:hover {\n",
              "    background-color: var(--hover-bg-color);\n",
              "    box-shadow: 0 1px 2px rgba(60, 64, 67, 0.3), 0 1px 3px 1px rgba(60, 64, 67, 0.15);\n",
              "    fill: var(--button-hover-fill-color);\n",
              "  }\n",
              "\n",
              "  .colab-df-quickchart-complete:disabled,\n",
              "  .colab-df-quickchart-complete:disabled:hover {\n",
              "    background-color: var(--disabled-bg-color);\n",
              "    fill: var(--disabled-fill-color);\n",
              "    box-shadow: none;\n",
              "  }\n",
              "\n",
              "  .colab-df-spinner {\n",
              "    border: 2px solid var(--fill-color);\n",
              "    border-color: transparent;\n",
              "    border-bottom-color: var(--fill-color);\n",
              "    animation:\n",
              "      spin 1s steps(1) infinite;\n",
              "  }\n",
              "\n",
              "  @keyframes spin {\n",
              "    0% {\n",
              "      border-color: transparent;\n",
              "      border-bottom-color: var(--fill-color);\n",
              "      border-left-color: var(--fill-color);\n",
              "    }\n",
              "    20% {\n",
              "      border-color: transparent;\n",
              "      border-left-color: var(--fill-color);\n",
              "      border-top-color: var(--fill-color);\n",
              "    }\n",
              "    30% {\n",
              "      border-color: transparent;\n",
              "      border-left-color: var(--fill-color);\n",
              "      border-top-color: var(--fill-color);\n",
              "      border-right-color: var(--fill-color);\n",
              "    }\n",
              "    40% {\n",
              "      border-color: transparent;\n",
              "      border-right-color: var(--fill-color);\n",
              "      border-top-color: var(--fill-color);\n",
              "    }\n",
              "    60% {\n",
              "      border-color: transparent;\n",
              "      border-right-color: var(--fill-color);\n",
              "    }\n",
              "    80% {\n",
              "      border-color: transparent;\n",
              "      border-right-color: var(--fill-color);\n",
              "      border-bottom-color: var(--fill-color);\n",
              "    }\n",
              "    90% {\n",
              "      border-color: transparent;\n",
              "      border-bottom-color: var(--fill-color);\n",
              "    }\n",
              "  }\n",
              "</style>\n",
              "\n",
              "  <script>\n",
              "    async function quickchart(key) {\n",
              "      const quickchartButtonEl =\n",
              "        document.querySelector('#' + key + ' button');\n",
              "      quickchartButtonEl.disabled = true;  // To prevent multiple clicks.\n",
              "      quickchartButtonEl.classList.add('colab-df-spinner');\n",
              "      try {\n",
              "        const charts = await google.colab.kernel.invokeFunction(\n",
              "            'suggestCharts', [key], {});\n",
              "      } catch (error) {\n",
              "        console.error('Error during call to suggestCharts:', error);\n",
              "      }\n",
              "      quickchartButtonEl.classList.remove('colab-df-spinner');\n",
              "      quickchartButtonEl.classList.add('colab-df-quickchart-complete');\n",
              "    }\n",
              "    (() => {\n",
              "      let quickchartButtonEl =\n",
              "        document.querySelector('#df-b780a32a-b7ae-4517-aac2-10df6e7d8e35 button');\n",
              "      quickchartButtonEl.style.display =\n",
              "        google.colab.kernel.accessAllowed ? 'block' : 'none';\n",
              "    })();\n",
              "  </script>\n",
              "</div>\n",
              "    </div>\n",
              "  </div>\n"
            ]
          },
          "metadata": {},
          "execution_count": 8
        }
      ]
    },
    {
      "cell_type": "code",
      "source": [
        "wine.info()"
      ],
      "metadata": {
        "id": "A7Gsi18VLfPG",
        "colab": {
          "base_uri": "https://localhost:8080/"
        },
        "outputId": "47409f24-1e9c-4685-f462-5565a9130758"
      },
      "execution_count": 9,
      "outputs": [
        {
          "output_type": "stream",
          "name": "stdout",
          "text": [
            "<class 'pandas.core.frame.DataFrame'>\n",
            "RangeIndex: 1599 entries, 0 to 1598\n",
            "Data columns (total 12 columns):\n",
            " #   Column                Non-Null Count  Dtype  \n",
            "---  ------                --------------  -----  \n",
            " 0   fixed acidity         1599 non-null   float64\n",
            " 1   volatile acidity      1599 non-null   float64\n",
            " 2   citric acid           1599 non-null   float64\n",
            " 3   residual sugar        1599 non-null   float64\n",
            " 4   chlorides             1599 non-null   float64\n",
            " 5   free sulfur dioxide   1599 non-null   float64\n",
            " 6   total sulfur dioxide  1599 non-null   float64\n",
            " 7   density               1599 non-null   float64\n",
            " 8   pH                    1599 non-null   float64\n",
            " 9   sulphates             1599 non-null   float64\n",
            " 10  alcohol               1599 non-null   float64\n",
            " 11  quality               1599 non-null   int64  \n",
            "dtypes: float64(11), int64(1)\n",
            "memory usage: 150.0 KB\n"
          ]
        }
      ]
    },
    {
      "cell_type": "code",
      "source": [
        "wine.isnull().sum()"
      ],
      "metadata": {
        "id": "CSAsriQGLiRG",
        "colab": {
          "base_uri": "https://localhost:8080/"
        },
        "outputId": "ae78c9a9-e0a9-474b-8f33-77ff9a449e84"
      },
      "execution_count": 10,
      "outputs": [
        {
          "output_type": "execute_result",
          "data": {
            "text/plain": [
              "fixed acidity           0\n",
              "volatile acidity        0\n",
              "citric acid             0\n",
              "residual sugar          0\n",
              "chlorides               0\n",
              "free sulfur dioxide     0\n",
              "total sulfur dioxide    0\n",
              "density                 0\n",
              "pH                      0\n",
              "sulphates               0\n",
              "alcohol                 0\n",
              "quality                 0\n",
              "dtype: int64"
            ]
          },
          "metadata": {},
          "execution_count": 10
        }
      ]
    },
    {
      "cell_type": "code",
      "source": [
        "# Preprocesamiento de datos.\n",
        "\n",
        "bins= (2, 6.5, 8)\n",
        "group_names= ['bad', 'good']\n",
        "wine['quality']=pd.cut(wine['quality'], bins=bins, labels=group_names)\n",
        "wine['quality'].unique()"
      ],
      "metadata": {
        "id": "7vQ5U0ouLmAp",
        "colab": {
          "base_uri": "https://localhost:8080/"
        },
        "outputId": "b61b702f-8f34-4ef9-e230-c34abd337f15"
      },
      "execution_count": 11,
      "outputs": [
        {
          "output_type": "execute_result",
          "data": {
            "text/plain": [
              "['bad', 'good']\n",
              "Categories (2, object): ['bad' < 'good']"
            ]
          },
          "metadata": {},
          "execution_count": 11
        }
      ]
    },
    {
      "cell_type": "code",
      "source": [
        "# Now lets assign a labels to our quality variable\n",
        "# Asignamos etiquetas a nuestra variable calidad(label_quality).\n",
        "\n",
        "label_quality = LabelEncoder()"
      ],
      "metadata": {
        "id": "OVsd7AhJLoxe"
      },
      "execution_count": 12,
      "outputs": []
    },
    {
      "cell_type": "code",
      "source": [
        "wine['quality'] = label_quality.fit_transform(wine['quality'])\n",
        "\n",
        "# Malos se convierten en O y buenos en 1"
      ],
      "metadata": {
        "id": "7Kj0xQc7Lr3K"
      },
      "execution_count": 13,
      "outputs": []
    },
    {
      "cell_type": "code",
      "source": [
        "wine.head(10)"
      ],
      "metadata": {
        "id": "mBpyV7PxLttN",
        "colab": {
          "base_uri": "https://localhost:8080/",
          "height": 380
        },
        "outputId": "797a2927-4103-4afe-d406-fc3575aa085b"
      },
      "execution_count": 14,
      "outputs": [
        {
          "output_type": "execute_result",
          "data": {
            "text/plain": [
              "   fixed acidity  volatile acidity  citric acid  residual sugar  chlorides  \\\n",
              "0            7.4              0.70         0.00             1.9      0.076   \n",
              "1            7.8              0.88         0.00             2.6      0.098   \n",
              "2            7.8              0.76         0.04             2.3      0.092   \n",
              "3           11.2              0.28         0.56             1.9      0.075   \n",
              "4            7.4              0.70         0.00             1.9      0.076   \n",
              "5            7.4              0.66         0.00             1.8      0.075   \n",
              "6            7.9              0.60         0.06             1.6      0.069   \n",
              "7            7.3              0.65         0.00             1.2      0.065   \n",
              "8            7.8              0.58         0.02             2.0      0.073   \n",
              "9            7.5              0.50         0.36             6.1      0.071   \n",
              "\n",
              "   free sulfur dioxide  total sulfur dioxide  density    pH  sulphates  \\\n",
              "0                 11.0                  34.0   0.9978  3.51       0.56   \n",
              "1                 25.0                  67.0   0.9968  3.20       0.68   \n",
              "2                 15.0                  54.0   0.9970  3.26       0.65   \n",
              "3                 17.0                  60.0   0.9980  3.16       0.58   \n",
              "4                 11.0                  34.0   0.9978  3.51       0.56   \n",
              "5                 13.0                  40.0   0.9978  3.51       0.56   \n",
              "6                 15.0                  59.0   0.9964  3.30       0.46   \n",
              "7                 15.0                  21.0   0.9946  3.39       0.47   \n",
              "8                  9.0                  18.0   0.9968  3.36       0.57   \n",
              "9                 17.0                 102.0   0.9978  3.35       0.80   \n",
              "\n",
              "   alcohol  quality  \n",
              "0      9.4        0  \n",
              "1      9.8        0  \n",
              "2      9.8        0  \n",
              "3      9.8        0  \n",
              "4      9.4        0  \n",
              "5      9.4        0  \n",
              "6      9.4        0  \n",
              "7     10.0        1  \n",
              "8      9.5        1  \n",
              "9     10.5        0  "
            ],
            "text/html": [
              "\n",
              "  <div id=\"df-5cdda247-3635-4acf-81f5-166c00b80746\" class=\"colab-df-container\">\n",
              "    <div>\n",
              "<style scoped>\n",
              "    .dataframe tbody tr th:only-of-type {\n",
              "        vertical-align: middle;\n",
              "    }\n",
              "\n",
              "    .dataframe tbody tr th {\n",
              "        vertical-align: top;\n",
              "    }\n",
              "\n",
              "    .dataframe thead th {\n",
              "        text-align: right;\n",
              "    }\n",
              "</style>\n",
              "<table border=\"1\" class=\"dataframe\">\n",
              "  <thead>\n",
              "    <tr style=\"text-align: right;\">\n",
              "      <th></th>\n",
              "      <th>fixed acidity</th>\n",
              "      <th>volatile acidity</th>\n",
              "      <th>citric acid</th>\n",
              "      <th>residual sugar</th>\n",
              "      <th>chlorides</th>\n",
              "      <th>free sulfur dioxide</th>\n",
              "      <th>total sulfur dioxide</th>\n",
              "      <th>density</th>\n",
              "      <th>pH</th>\n",
              "      <th>sulphates</th>\n",
              "      <th>alcohol</th>\n",
              "      <th>quality</th>\n",
              "    </tr>\n",
              "  </thead>\n",
              "  <tbody>\n",
              "    <tr>\n",
              "      <th>0</th>\n",
              "      <td>7.4</td>\n",
              "      <td>0.70</td>\n",
              "      <td>0.00</td>\n",
              "      <td>1.9</td>\n",
              "      <td>0.076</td>\n",
              "      <td>11.0</td>\n",
              "      <td>34.0</td>\n",
              "      <td>0.9978</td>\n",
              "      <td>3.51</td>\n",
              "      <td>0.56</td>\n",
              "      <td>9.4</td>\n",
              "      <td>0</td>\n",
              "    </tr>\n",
              "    <tr>\n",
              "      <th>1</th>\n",
              "      <td>7.8</td>\n",
              "      <td>0.88</td>\n",
              "      <td>0.00</td>\n",
              "      <td>2.6</td>\n",
              "      <td>0.098</td>\n",
              "      <td>25.0</td>\n",
              "      <td>67.0</td>\n",
              "      <td>0.9968</td>\n",
              "      <td>3.20</td>\n",
              "      <td>0.68</td>\n",
              "      <td>9.8</td>\n",
              "      <td>0</td>\n",
              "    </tr>\n",
              "    <tr>\n",
              "      <th>2</th>\n",
              "      <td>7.8</td>\n",
              "      <td>0.76</td>\n",
              "      <td>0.04</td>\n",
              "      <td>2.3</td>\n",
              "      <td>0.092</td>\n",
              "      <td>15.0</td>\n",
              "      <td>54.0</td>\n",
              "      <td>0.9970</td>\n",
              "      <td>3.26</td>\n",
              "      <td>0.65</td>\n",
              "      <td>9.8</td>\n",
              "      <td>0</td>\n",
              "    </tr>\n",
              "    <tr>\n",
              "      <th>3</th>\n",
              "      <td>11.2</td>\n",
              "      <td>0.28</td>\n",
              "      <td>0.56</td>\n",
              "      <td>1.9</td>\n",
              "      <td>0.075</td>\n",
              "      <td>17.0</td>\n",
              "      <td>60.0</td>\n",
              "      <td>0.9980</td>\n",
              "      <td>3.16</td>\n",
              "      <td>0.58</td>\n",
              "      <td>9.8</td>\n",
              "      <td>0</td>\n",
              "    </tr>\n",
              "    <tr>\n",
              "      <th>4</th>\n",
              "      <td>7.4</td>\n",
              "      <td>0.70</td>\n",
              "      <td>0.00</td>\n",
              "      <td>1.9</td>\n",
              "      <td>0.076</td>\n",
              "      <td>11.0</td>\n",
              "      <td>34.0</td>\n",
              "      <td>0.9978</td>\n",
              "      <td>3.51</td>\n",
              "      <td>0.56</td>\n",
              "      <td>9.4</td>\n",
              "      <td>0</td>\n",
              "    </tr>\n",
              "    <tr>\n",
              "      <th>5</th>\n",
              "      <td>7.4</td>\n",
              "      <td>0.66</td>\n",
              "      <td>0.00</td>\n",
              "      <td>1.8</td>\n",
              "      <td>0.075</td>\n",
              "      <td>13.0</td>\n",
              "      <td>40.0</td>\n",
              "      <td>0.9978</td>\n",
              "      <td>3.51</td>\n",
              "      <td>0.56</td>\n",
              "      <td>9.4</td>\n",
              "      <td>0</td>\n",
              "    </tr>\n",
              "    <tr>\n",
              "      <th>6</th>\n",
              "      <td>7.9</td>\n",
              "      <td>0.60</td>\n",
              "      <td>0.06</td>\n",
              "      <td>1.6</td>\n",
              "      <td>0.069</td>\n",
              "      <td>15.0</td>\n",
              "      <td>59.0</td>\n",
              "      <td>0.9964</td>\n",
              "      <td>3.30</td>\n",
              "      <td>0.46</td>\n",
              "      <td>9.4</td>\n",
              "      <td>0</td>\n",
              "    </tr>\n",
              "    <tr>\n",
              "      <th>7</th>\n",
              "      <td>7.3</td>\n",
              "      <td>0.65</td>\n",
              "      <td>0.00</td>\n",
              "      <td>1.2</td>\n",
              "      <td>0.065</td>\n",
              "      <td>15.0</td>\n",
              "      <td>21.0</td>\n",
              "      <td>0.9946</td>\n",
              "      <td>3.39</td>\n",
              "      <td>0.47</td>\n",
              "      <td>10.0</td>\n",
              "      <td>1</td>\n",
              "    </tr>\n",
              "    <tr>\n",
              "      <th>8</th>\n",
              "      <td>7.8</td>\n",
              "      <td>0.58</td>\n",
              "      <td>0.02</td>\n",
              "      <td>2.0</td>\n",
              "      <td>0.073</td>\n",
              "      <td>9.0</td>\n",
              "      <td>18.0</td>\n",
              "      <td>0.9968</td>\n",
              "      <td>3.36</td>\n",
              "      <td>0.57</td>\n",
              "      <td>9.5</td>\n",
              "      <td>1</td>\n",
              "    </tr>\n",
              "    <tr>\n",
              "      <th>9</th>\n",
              "      <td>7.5</td>\n",
              "      <td>0.50</td>\n",
              "      <td>0.36</td>\n",
              "      <td>6.1</td>\n",
              "      <td>0.071</td>\n",
              "      <td>17.0</td>\n",
              "      <td>102.0</td>\n",
              "      <td>0.9978</td>\n",
              "      <td>3.35</td>\n",
              "      <td>0.80</td>\n",
              "      <td>10.5</td>\n",
              "      <td>0</td>\n",
              "    </tr>\n",
              "  </tbody>\n",
              "</table>\n",
              "</div>\n",
              "    <div class=\"colab-df-buttons\">\n",
              "\n",
              "  <div class=\"colab-df-container\">\n",
              "    <button class=\"colab-df-convert\" onclick=\"convertToInteractive('df-5cdda247-3635-4acf-81f5-166c00b80746')\"\n",
              "            title=\"Convert this dataframe to an interactive table.\"\n",
              "            style=\"display:none;\">\n",
              "\n",
              "  <svg xmlns=\"http://www.w3.org/2000/svg\" height=\"24px\" viewBox=\"0 -960 960 960\">\n",
              "    <path d=\"M120-120v-720h720v720H120Zm60-500h600v-160H180v160Zm220 220h160v-160H400v160Zm0 220h160v-160H400v160ZM180-400h160v-160H180v160Zm440 0h160v-160H620v160ZM180-180h160v-160H180v160Zm440 0h160v-160H620v160Z\"/>\n",
              "  </svg>\n",
              "    </button>\n",
              "\n",
              "  <style>\n",
              "    .colab-df-container {\n",
              "      display:flex;\n",
              "      gap: 12px;\n",
              "    }\n",
              "\n",
              "    .colab-df-convert {\n",
              "      background-color: #E8F0FE;\n",
              "      border: none;\n",
              "      border-radius: 50%;\n",
              "      cursor: pointer;\n",
              "      display: none;\n",
              "      fill: #1967D2;\n",
              "      height: 32px;\n",
              "      padding: 0 0 0 0;\n",
              "      width: 32px;\n",
              "    }\n",
              "\n",
              "    .colab-df-convert:hover {\n",
              "      background-color: #E2EBFA;\n",
              "      box-shadow: 0px 1px 2px rgba(60, 64, 67, 0.3), 0px 1px 3px 1px rgba(60, 64, 67, 0.15);\n",
              "      fill: #174EA6;\n",
              "    }\n",
              "\n",
              "    .colab-df-buttons div {\n",
              "      margin-bottom: 4px;\n",
              "    }\n",
              "\n",
              "    [theme=dark] .colab-df-convert {\n",
              "      background-color: #3B4455;\n",
              "      fill: #D2E3FC;\n",
              "    }\n",
              "\n",
              "    [theme=dark] .colab-df-convert:hover {\n",
              "      background-color: #434B5C;\n",
              "      box-shadow: 0px 1px 3px 1px rgba(0, 0, 0, 0.15);\n",
              "      filter: drop-shadow(0px 1px 2px rgba(0, 0, 0, 0.3));\n",
              "      fill: #FFFFFF;\n",
              "    }\n",
              "  </style>\n",
              "\n",
              "    <script>\n",
              "      const buttonEl =\n",
              "        document.querySelector('#df-5cdda247-3635-4acf-81f5-166c00b80746 button.colab-df-convert');\n",
              "      buttonEl.style.display =\n",
              "        google.colab.kernel.accessAllowed ? 'block' : 'none';\n",
              "\n",
              "      async function convertToInteractive(key) {\n",
              "        const element = document.querySelector('#df-5cdda247-3635-4acf-81f5-166c00b80746');\n",
              "        const dataTable =\n",
              "          await google.colab.kernel.invokeFunction('convertToInteractive',\n",
              "                                                    [key], {});\n",
              "        if (!dataTable) return;\n",
              "\n",
              "        const docLinkHtml = 'Like what you see? Visit the ' +\n",
              "          '<a target=\"_blank\" href=https://colab.research.google.com/notebooks/data_table.ipynb>data table notebook</a>'\n",
              "          + ' to learn more about interactive tables.';\n",
              "        element.innerHTML = '';\n",
              "        dataTable['output_type'] = 'display_data';\n",
              "        await google.colab.output.renderOutput(dataTable, element);\n",
              "        const docLink = document.createElement('div');\n",
              "        docLink.innerHTML = docLinkHtml;\n",
              "        element.appendChild(docLink);\n",
              "      }\n",
              "    </script>\n",
              "  </div>\n",
              "\n",
              "\n",
              "<div id=\"df-5d2b7609-baaa-4347-b080-324ed1b2a3f8\">\n",
              "  <button class=\"colab-df-quickchart\" onclick=\"quickchart('df-5d2b7609-baaa-4347-b080-324ed1b2a3f8')\"\n",
              "            title=\"Suggest charts\"\n",
              "            style=\"display:none;\">\n",
              "\n",
              "<svg xmlns=\"http://www.w3.org/2000/svg\" height=\"24px\"viewBox=\"0 0 24 24\"\n",
              "     width=\"24px\">\n",
              "    <g>\n",
              "        <path d=\"M19 3H5c-1.1 0-2 .9-2 2v14c0 1.1.9 2 2 2h14c1.1 0 2-.9 2-2V5c0-1.1-.9-2-2-2zM9 17H7v-7h2v7zm4 0h-2V7h2v10zm4 0h-2v-4h2v4z\"/>\n",
              "    </g>\n",
              "</svg>\n",
              "  </button>\n",
              "\n",
              "<style>\n",
              "  .colab-df-quickchart {\n",
              "      --bg-color: #E8F0FE;\n",
              "      --fill-color: #1967D2;\n",
              "      --hover-bg-color: #E2EBFA;\n",
              "      --hover-fill-color: #174EA6;\n",
              "      --disabled-fill-color: #AAA;\n",
              "      --disabled-bg-color: #DDD;\n",
              "  }\n",
              "\n",
              "  [theme=dark] .colab-df-quickchart {\n",
              "      --bg-color: #3B4455;\n",
              "      --fill-color: #D2E3FC;\n",
              "      --hover-bg-color: #434B5C;\n",
              "      --hover-fill-color: #FFFFFF;\n",
              "      --disabled-bg-color: #3B4455;\n",
              "      --disabled-fill-color: #666;\n",
              "  }\n",
              "\n",
              "  .colab-df-quickchart {\n",
              "    background-color: var(--bg-color);\n",
              "    border: none;\n",
              "    border-radius: 50%;\n",
              "    cursor: pointer;\n",
              "    display: none;\n",
              "    fill: var(--fill-color);\n",
              "    height: 32px;\n",
              "    padding: 0;\n",
              "    width: 32px;\n",
              "  }\n",
              "\n",
              "  .colab-df-quickchart:hover {\n",
              "    background-color: var(--hover-bg-color);\n",
              "    box-shadow: 0 1px 2px rgba(60, 64, 67, 0.3), 0 1px 3px 1px rgba(60, 64, 67, 0.15);\n",
              "    fill: var(--button-hover-fill-color);\n",
              "  }\n",
              "\n",
              "  .colab-df-quickchart-complete:disabled,\n",
              "  .colab-df-quickchart-complete:disabled:hover {\n",
              "    background-color: var(--disabled-bg-color);\n",
              "    fill: var(--disabled-fill-color);\n",
              "    box-shadow: none;\n",
              "  }\n",
              "\n",
              "  .colab-df-spinner {\n",
              "    border: 2px solid var(--fill-color);\n",
              "    border-color: transparent;\n",
              "    border-bottom-color: var(--fill-color);\n",
              "    animation:\n",
              "      spin 1s steps(1) infinite;\n",
              "  }\n",
              "\n",
              "  @keyframes spin {\n",
              "    0% {\n",
              "      border-color: transparent;\n",
              "      border-bottom-color: var(--fill-color);\n",
              "      border-left-color: var(--fill-color);\n",
              "    }\n",
              "    20% {\n",
              "      border-color: transparent;\n",
              "      border-left-color: var(--fill-color);\n",
              "      border-top-color: var(--fill-color);\n",
              "    }\n",
              "    30% {\n",
              "      border-color: transparent;\n",
              "      border-left-color: var(--fill-color);\n",
              "      border-top-color: var(--fill-color);\n",
              "      border-right-color: var(--fill-color);\n",
              "    }\n",
              "    40% {\n",
              "      border-color: transparent;\n",
              "      border-right-color: var(--fill-color);\n",
              "      border-top-color: var(--fill-color);\n",
              "    }\n",
              "    60% {\n",
              "      border-color: transparent;\n",
              "      border-right-color: var(--fill-color);\n",
              "    }\n",
              "    80% {\n",
              "      border-color: transparent;\n",
              "      border-right-color: var(--fill-color);\n",
              "      border-bottom-color: var(--fill-color);\n",
              "    }\n",
              "    90% {\n",
              "      border-color: transparent;\n",
              "      border-bottom-color: var(--fill-color);\n",
              "    }\n",
              "  }\n",
              "</style>\n",
              "\n",
              "  <script>\n",
              "    async function quickchart(key) {\n",
              "      const quickchartButtonEl =\n",
              "        document.querySelector('#' + key + ' button');\n",
              "      quickchartButtonEl.disabled = true;  // To prevent multiple clicks.\n",
              "      quickchartButtonEl.classList.add('colab-df-spinner');\n",
              "      try {\n",
              "        const charts = await google.colab.kernel.invokeFunction(\n",
              "            'suggestCharts', [key], {});\n",
              "      } catch (error) {\n",
              "        console.error('Error during call to suggestCharts:', error);\n",
              "      }\n",
              "      quickchartButtonEl.classList.remove('colab-df-spinner');\n",
              "      quickchartButtonEl.classList.add('colab-df-quickchart-complete');\n",
              "    }\n",
              "    (() => {\n",
              "      let quickchartButtonEl =\n",
              "        document.querySelector('#df-5d2b7609-baaa-4347-b080-324ed1b2a3f8 button');\n",
              "      quickchartButtonEl.style.display =\n",
              "        google.colab.kernel.accessAllowed ? 'block' : 'none';\n",
              "    })();\n",
              "  </script>\n",
              "</div>\n",
              "    </div>\n",
              "  </div>\n"
            ]
          },
          "metadata": {},
          "execution_count": 14
        }
      ]
    },
    {
      "cell_type": "code",
      "source": [
        "wine['quality'].value_counts()"
      ],
      "metadata": {
        "id": "6MawWeguLw4d",
        "colab": {
          "base_uri": "https://localhost:8080/"
        },
        "outputId": "d2e6455e-92c4-4ec0-80cc-af174c54bef8"
      },
      "execution_count": 15,
      "outputs": [
        {
          "output_type": "execute_result",
          "data": {
            "text/plain": [
              "0    1382\n",
              "1     217\n",
              "Name: quality, dtype: int64"
            ]
          },
          "metadata": {},
          "execution_count": 15
        }
      ]
    },
    {
      "cell_type": "code",
      "source": [
        "sns.countplot(wine['quality'])"
      ],
      "metadata": {
        "id": "AgleK56HL1c3",
        "colab": {
          "base_uri": "https://localhost:8080/",
          "height": 448
        },
        "outputId": "a56b95c3-c567-4a79-8e88-9891bfcfb53f"
      },
      "execution_count": 16,
      "outputs": [
        {
          "output_type": "execute_result",
          "data": {
            "text/plain": [
              "<Axes: ylabel='count'>"
            ]
          },
          "metadata": {},
          "execution_count": 16
        },
        {
          "output_type": "display_data",
          "data": {
            "text/plain": [
              "<Figure size 640x480 with 1 Axes>"
            ],
            "image/png": "[encoded data removed]"
          },
          "metadata": {}
        }
      ]
    },
    {
      "cell_type": "code",
      "source": [
        "# Ahora separamos el conjunto de datos como variable de respuesta y variables de\n",
        "# características.\n",
        "\n",
        "X = wine.drop('quality', axis = 1)\n",
        "y = wine['quality']"
      ],
      "metadata": {
        "id": "qfKaEt7dL5vU"
      },
      "execution_count": 17,
      "outputs": []
    },
    {
      "cell_type": "code",
      "source": [
        "# Entrenar y probar la división de datos.\n",
        "\n",
        "X_train, X_test, y_train, y_test = train_test_split(X, y, test_size = 0.2, random_state = 42)"
      ],
      "metadata": {
        "id": "a7wImOUhL7_l"
      },
      "execution_count": 18,
      "outputs": []
    },
    {
      "cell_type": "code",
      "source": [
        "# Aplicamos el escalado standard para obtener los datos optimizados.\n",
        "# La mayoria de los modelos necesitan scaling, los valores de nuestra base de\n",
        "# datos son muy grandes comparados con otros y eso puede hacer que el modelo\n",
        "# se concentre demasiado en los valores grandes.\n",
        "\n",
        "sc = StandardScaler()\n",
        "X_train = sc.fit_transform(X_train)\n",
        "X_test = sc.fit_transform(X_test)\n"
      ],
      "metadata": {
        "id": "fCQDVdYdL-t2"
      },
      "execution_count": 19,
      "outputs": []
    },
    {
      "cell_type": "code",
      "source": [
        "#ahora los valores estan menos dispersos y oscilan entre -2 y 4 mas o menos.\n",
        "\n",
        "X_train[:10]"
      ],
      "metadata": {
        "id": "XSfeAIBHMCbA",
        "colab": {
          "base_uri": "https://localhost:8080/"
        },
        "outputId": "9d329290-8420-49f9-f21f-25e0169941ff"
      },
      "execution_count": 20,
      "outputs": [
        {
          "output_type": "execute_result",
          "data": {
            "text/plain": [
              "array([[ 0.21833164,  0.88971201,  0.19209222,  0.30972563, -0.04964208,\n",
              "         0.69100692,  1.04293362,  1.84669643,  1.09349989,  0.45822284,\n",
              "         1.12317723],\n",
              "       [-1.29016623, -1.78878251,  0.65275338, -0.80507963, -0.45521361,\n",
              "         2.38847304,  3.59387025, -3.00449133, -0.40043872, -0.40119696,\n",
              "         1.40827174],\n",
              "       [ 1.49475291, -0.78434707,  1.01104539, -0.52637831,  0.59927236,\n",
              "        -0.95796016, -0.99174203,  0.76865471, -0.07566946,  0.51551749,\n",
              "        -0.58738978],\n",
              "       [ 0.27635078,  0.86181102, -0.06383064, -0.66572897, -0.00908493,\n",
              "         0.01202048, -0.71842739,  0.08948842,  0.05423824, -1.08873281,\n",
              "        -0.96751578],\n",
              "       [ 0.04427419,  2.81487994, -0.62686095,  2.39998549, -0.31326357,\n",
              "        -0.47296984,  0.2229897 ,  1.1998714 ,  0.37900751, -0.9741435 ,\n",
              "        -0.49235828],\n",
              "       [-0.07176411, -0.78434707,  1.11341454, -0.17800167,  0.21397941,\n",
              "         3.01896045,  2.62208486,  0.60694845,  0.44396136,  1.89058918,\n",
              "        -0.58738978],\n",
              "       [-1.17412793,  0.10848444, -0.62686095, -0.52637831, -0.23214927,\n",
              "         0.98200112, -0.35400787, -1.95879086,  0.05423824,  0.91658007,\n",
              "         1.12317723],\n",
              "       [-0.1878024 , -0.17052541,  0.60156881,  0.03102432, -0.13075639,\n",
              "        -0.37597178, -0.01995665,  0.93036097,  0.76873063, -0.229313  ,\n",
              "         0.26789373],\n",
              "       [-0.07176411,  0.61070216, -0.01264607, -0.38702766,  0.13286511,\n",
              "        -1.05495822,  0.92146044,  0.37516948, -1.17988496, -0.229313  ,\n",
              "        -1.25261029],\n",
              "       [ 1.8428678 , -1.95618842,  1.21578369,  1.00647892,  0.31537229,\n",
              "        -1.15195628, -0.71842739,  1.52328391, -0.20557717,  1.77599987,\n",
              "        -0.30229528]])"
            ]
          },
          "metadata": {},
          "execution_count": 20
        }
      ]
    },
    {
      "cell_type": "markdown",
      "source": [
        "# Proyecto 4: Clasificación - Random Forest."
      ],
      "metadata": {
        "id": "Bh6SevJQMFCK"
      }
    },
    {
      "cell_type": "code",
      "source": [
        "# Cuantos arboles necesitas en el bosque (200)\n",
        "\n",
        "rfc = RandomForestClassifier(n_estimators=200)\n",
        "rfc.fit(X_train, y_train)\n",
        "pred_rfc = rfc.predict(X_test)"
      ],
      "metadata": {
        "id": "1homhUQCMIMk",
        "colab": {
          "base_uri": "https://localhost:8080/",
          "height": 249
        },
        "outputId": "820af948-376f-40bc-c8c1-eb64a6e1de3e"
      },
      "execution_count": 1,
      "outputs": [
        {
          "output_type": "error",
          "ename": "NameError",
          "evalue": "ignored",
          "traceback": [
            "\u001b[0;31m---------------------------------------------------------------------------\u001b[0m",
            "\u001b[0;31mNameError\u001b[0m                                 Traceback (most recent call last)",
            "\u001b[0;32m<ipython-input-1-763f15d0bee9>\u001b[0m in \u001b[0;36m<cell line: 3>\u001b[0;34m()\u001b[0m\n\u001b[1;32m      1\u001b[0m \u001b[0;31m# Cuantos arboles necesitas en el bosque (200)\u001b[0m\u001b[0;34m\u001b[0m\u001b[0;34m\u001b[0m\u001b[0m\n\u001b[1;32m      2\u001b[0m \u001b[0;34m\u001b[0m\u001b[0m\n\u001b[0;32m----> 3\u001b[0;31m \u001b[0mrfc\u001b[0m \u001b[0;34m=\u001b[0m \u001b[0mRandomForestClassifier\u001b[0m\u001b[0;34m(\u001b[0m\u001b[0mn_estimators\u001b[0m\u001b[0;34m=\u001b[0m\u001b[0;36m200\u001b[0m\u001b[0;34m)\u001b[0m\u001b[0;34m\u001b[0m\u001b[0;34m\u001b[0m\u001b[0m\n\u001b[0m\u001b[1;32m      4\u001b[0m \u001b[0mrfc\u001b[0m\u001b[0;34m.\u001b[0m\u001b[0mfit\u001b[0m\u001b[0;34m(\u001b[0m\u001b[0mX_train\u001b[0m\u001b[0;34m,\u001b[0m \u001b[0my_train\u001b[0m\u001b[0;34m)\u001b[0m\u001b[0;34m\u001b[0m\u001b[0;34m\u001b[0m\u001b[0m\n\u001b[1;32m      5\u001b[0m \u001b[0mpred_rfc\u001b[0m \u001b[0;34m=\u001b[0m \u001b[0mrfc\u001b[0m\u001b[0;34m.\u001b[0m\u001b[0mpredict\u001b[0m\u001b[0;34m(\u001b[0m\u001b[0mX_test\u001b[0m\u001b[0;34m)\u001b[0m\u001b[0;34m\u001b[0m\u001b[0;34m\u001b[0m\u001b[0m\n",
            "\u001b[0;31mNameError\u001b[0m: name 'RandomForestClassifier' is not defined"
          ]
        }
      ]
    },
    {
      "cell_type": "code",
      "source": [
        "pred_rfc[:20]"
      ],
      "metadata": {
        "id": "iQP3OJ2FMMLw"
      },
      "execution_count": null,
      "outputs": []
    },
    {
      "cell_type": "code",
      "source": [
        "X_test[:20]"
      ],
      "metadata": {
        "id": "MtvxVhjnMPe4"
      },
      "execution_count": null,
      "outputs": []
    },
    {
      "cell_type": "code",
      "source": [
        "# Veamos el desmpeño de nuetro modelo.\n",
        "\n",
        "print(classification_report(y_test, pred_rfc))"
      ],
      "metadata": {
        "id": "_InC6rxqMSkz"
      },
      "execution_count": null,
      "outputs": []
    },
    {
      "cell_type": "code",
      "source": [
        "# Matriz de confusión para la clasificación aleatoria de bosques.\n",
        "\n",
        "# Vemos que el modelo es bueno prediciendo vino malo (263,10) pero el modelo es\n",
        "# malo prediciendo vino bueno (32, 15).\n",
        "\n",
        "print(confusion_matrix(y_test, pred_rfc))"
      ],
      "metadata": {
        "id": "CtveF-24MVTy"
      },
      "execution_count": null,
      "outputs": []
    },
    {
      "cell_type": "code",
      "source": [
        "from sklearn.metrics import accuracy_score\n",
        "cm = accuracy_score(y_test, pred_rfc)\n",
        "\n",
        "cm"
      ],
      "metadata": {
        "id": "xBWQhbmtMXkG"
      },
      "execution_count": null,
      "outputs": []
    },
    {
      "cell_type": "code",
      "source": [
        "wine.head(10)"
      ],
      "metadata": {
        "id": "wipStiHZMcoG"
      },
      "execution_count": null,
      "outputs": []
    },
    {
      "cell_type": "code",
      "source": [
        "# Probando un ejemplo.\n",
        "\n",
        "Xnew = [[7.4,0.70,0.00,1.9,0.076,11.0,34.0,0.9978,3.51,0.56,9.4]]\n",
        "ynew = rfc.predict(Xnew)"
      ],
      "metadata": {
        "id": "IUGF3pSfMfHI"
      },
      "execution_count": null,
      "outputs": []
    },
    {
      "cell_type": "code",
      "source": [
        "print('The quality of wine with given parameters is:')\n",
        "print(ynew)"
      ],
      "metadata": {
        "id": "9OeL_KzfMjFf"
      },
      "execution_count": null,
      "outputs": []
    },
    {
      "cell_type": "markdown",
      "source": [
        "# Proyecto 5: Clusterización."
      ],
      "metadata": {
        "id": "o2eYZ5z6TQ1g"
      }
    },
    {
      "cell_type": "markdown",
      "source": [
        "IMPORTAR LIBRERIAS Y MODELO"
      ],
      "metadata": {
        "id": "-8wdlkQqw0vL"
      }
    },
    {
      "cell_type": "code",
      "execution_count": 21,
      "metadata": {
        "id": "KVyWXpPFwa2c"
      },
      "outputs": [],
      "source": [
        "import matplotlib.pyplot as plt\n",
        "import numpy as np\n",
        "import pandas as pd\n",
        "from sklearn.cluster import KMeans"
      ]
    },
    {
      "cell_type": "markdown",
      "source": [
        "GENERAR DATOS FICTICIOS CON NUMPY"
      ],
      "metadata": {
        "id": "8XQlPF6Sw5-U"
      }
    },
    {
      "cell_type": "code",
      "source": [
        "np.random.seed(42)"
      ],
      "metadata": {
        "id": "dyCnWxtnw_3I"
      },
      "execution_count": 22,
      "outputs": []
    },
    {
      "cell_type": "markdown",
      "source": [
        "Grupo 1: Jovenes que gastan poco"
      ],
      "metadata": {
        "id": "yLCryImd2EyA"
      }
    },
    {
      "cell_type": "code",
      "source": [
        "edad_grupo1=np.random.normal(25, 5, 100)\n",
        "gasto_grupo1=np.random.normal(200, 30, 100)"
      ],
      "metadata": {
        "id": "BOyC0ptEx319"
      },
      "execution_count": 23,
      "outputs": []
    },
    {
      "cell_type": "markdown",
      "source": [
        "Grupo 2: Edad media que gasto medio"
      ],
      "metadata": {
        "id": "85LqOYHA2NyO"
      }
    },
    {
      "cell_type": "code",
      "source": [
        "edad_grupo2=np.random.normal(45, 5, 100)\n",
        "gasto_grupo2=np.random.normal(300, 50, 100)"
      ],
      "metadata": {
        "id": "O6csTuIHyHa_"
      },
      "execution_count": 24,
      "outputs": []
    },
    {
      "cell_type": "markdown",
      "source": [
        "Grupo3: Mayores que gastan mucho"
      ],
      "metadata": {
        "id": "v829ipI42S29"
      }
    },
    {
      "cell_type": "code",
      "source": [
        "edad_grupo3=np.random.normal(65, 8, 100)\n",
        "gasto_grupo3=np.random.normal(500, 50, 100)"
      ],
      "metadata": {
        "id": "OS_VyDkgyTDS"
      },
      "execution_count": 25,
      "outputs": []
    },
    {
      "cell_type": "code",
      "source": [
        "edad=np.concatenate([edad_grupo1, edad_grupo2, edad_grupo3])\n",
        "gasto=np.concatenate([gasto_grupo1, gasto_grupo2, gasto_grupo3])\n",
        "\n",
        "X=np.array(list(zip(edad, gasto)))"
      ],
      "metadata": {
        "id": "of1JpfTTykCI"
      },
      "execution_count": 26,
      "outputs": []
    },
    {
      "cell_type": "markdown",
      "source": [
        "Aplicar KMeans"
      ],
      "metadata": {
        "id": "bKPtPkvV2ey9"
      }
    },
    {
      "cell_type": "code",
      "source": [
        "kmeans=KMeans(n_clusters=3)\n",
        "kmeans.fit((X))\n",
        "centroids=kmeans.cluster_centers_\n",
        "labels=kmeans.labels_"
      ],
      "metadata": {
        "colab": {
          "base_uri": "https://localhost:8080/"
        },
        "id": "e2kwgfyMzJvB",
        "outputId": "d7d482a9-8535-4975-c3f3-c1d91f5dcbc6"
      },
      "execution_count": 27,
      "outputs": [
        {
          "output_type": "stream",
          "name": "stderr",
          "text": [
            "/usr/local/lib/python3.10/dist-packages/sklearn/cluster/_kmeans.py:870: FutureWarning: The default value of `n_init` will change from 10 to 'auto' in 1.4. Set the value of `n_init` explicitly to suppress the warning\n",
            "  warnings.warn(\n"
          ]
        }
      ]
    },
    {
      "cell_type": "markdown",
      "source": [
        "Graficar"
      ],
      "metadata": {
        "id": "Q4tR1xXO2jiD"
      }
    },
    {
      "cell_type": "code",
      "source": [
        "plt.figure(figsize=(10, 7))\n",
        "colors=['r', 'g', 'b']\n",
        "for i in range (3):\n",
        "  plt.scatter(X[labels==i][:, 0], X[labels==i][:, 1], c=colors[i], label=f\"Grupo {i+1}\", s=50)\n",
        "plt.scatter(centroids[:, 0], centroids[:, 1], c='black', marker='X', s=100, label='Centroides')\n",
        "plt.title('Segmentacion de clientes con KMeans')\n",
        "plt.xlabel('Edad')\n",
        "plt.ylabel('Cantidad gastada($)')\n",
        "plt.legend()\n",
        "plt.grid(True)\n",
        "plt.show()"
      ],
      "metadata": {
        "colab": {
          "base_uri": "https://localhost:8080/",
          "height": 641
        },
        "id": "Plzvz9HOzuP4",
        "outputId": "6377479b-fd24-4169-de72-3deac7801bc9"
      },
      "execution_count": 28,
      "outputs": [
        {
          "output_type": "display_data",
          "data": {
            "text/plain": [
              "<Figure size 1000x700 with 1 Axes>"
            ],
            "image/png": "[encoded data removed]"
          },
          "metadata": {}
        }
      ]
    }
  ]
}