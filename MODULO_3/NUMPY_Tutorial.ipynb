{
  "nbformat": 4,
  "nbformat_minor": 0,
  "metadata": {
    "colab": {
      "provenance": []
    },
    "kernelspec": {
      "name": "python3",
      "display_name": "Python 3"
    },
    "language_info": {
      "name": "python"
    }
  },
  "cells": [
    {
      "cell_type": "markdown",
      "source": [
        " NumPy es una herramienta fundamental en ciencia de datos debido a su eficiencia, capacidad de cálculo matemático y su integración con otras bibliotecas. Proporciona una base sólida para muchas tareas, como el procesamiento y análisis de datos, la simulación numérica, la implementación de algoritmos de aprendizaje automático y más."
      ],
      "metadata": {
        "id": "LhWFhKU05LRZ"
      }
    },
    {
      "cell_type": "code",
      "source": [
        "import numpy as np\n",
        "\n"
      ],
      "metadata": {
        "id": "XVG6JEcZoQQw"
      },
      "execution_count": null,
      "outputs": []
    },
    {
      "cell_type": "markdown",
      "source": [
        "1.- ARRAYS BASICOS\n"
      ],
      "metadata": {
        "id": "Q8s3fqtbG8ms"
      }
    },
    {
      "cell_type": "code",
      "source": [
        "#como crear un array basico\n",
        "\n",
        "a = np.array([1,2,3])\n",
        "\n",
        "a"
      ],
      "metadata": {
        "colab": {
          "base_uri": "https://localhost:8080/"
        },
        "id": "gWEWh_j5o1Cu",
        "outputId": "832723ed-3ea2-4cc2-df1d-08dc5803fac0"
      },
      "execution_count": null,
      "outputs": [
        {
          "output_type": "execute_result",
          "data": {
            "text/plain": [
              "array([1, 2, 3])"
            ]
          },
          "metadata": {},
          "execution_count": 3
        }
      ]
    },
    {
      "cell_type": "code",
      "source": [
        "#crear un array de ceros\n",
        "\n",
        "a=np.zeros(3)\n",
        "\n",
        "a"
      ],
      "metadata": {
        "colab": {
          "base_uri": "https://localhost:8080/"
        },
        "id": "zrR424dvpGQM",
        "outputId": "2cd879ad-edea-4328-861c-6147f71f5f8b"
      },
      "execution_count": null,
      "outputs": [
        {
          "output_type": "execute_result",
          "data": {
            "text/plain": [
              "array([0., 0., 0.])"
            ]
          },
          "metadata": {},
          "execution_count": 4
        }
      ]
    },
    {
      "cell_type": "code",
      "source": [
        "#crear un array de unos\n",
        "a=np.ones(4)\n",
        "\n",
        "a\n"
      ],
      "metadata": {
        "colab": {
          "base_uri": "https://localhost:8080/"
        },
        "id": "yWmjcEgCpZQj",
        "outputId": "b34ddf73-816a-4c43-deb2-06580700c687"
      },
      "execution_count": null,
      "outputs": [
        {
          "output_type": "execute_result",
          "data": {
            "text/plain": [
              "array([1., 1., 1., 1.])"
            ]
          },
          "metadata": {},
          "execution_count": 5
        }
      ]
    },
    {
      "cell_type": "code",
      "source": [
        "#crear un array con elementos elegidos al azar\n",
        "\n",
        "a=np.random.rand(4,3)\n",
        "\n",
        "\n",
        "a"
      ],
      "metadata": {
        "colab": {
          "base_uri": "https://localhost:8080/"
        },
        "id": "mGmgNj7spmmn",
        "outputId": "e9e04bd2-06f4-49ed-aad5-6e6183f22ebd"
      },
      "execution_count": null,
      "outputs": [
        {
          "output_type": "execute_result",
          "data": {
            "text/plain": [
              "array([[0.96211957, 0.3412075 , 0.1097626 ],\n",
              "       [0.41249065, 0.95681595, 0.54791781],\n",
              "       [0.20813066, 0.87322138, 0.8038373 ],\n",
              "       [0.25884928, 0.20943185, 0.02610551]])"
            ]
          },
          "metadata": {},
          "execution_count": 6
        }
      ]
    },
    {
      "cell_type": "code",
      "source": [
        "#La función empty en NumPy se utiliza para crear un\n",
        "#nuevo arreglo multidimensional sin asignar ningún\n",
        "#valor inicial a sus elementos.\n",
        "\n",
        "#La función empty reserva espacio en la memoria para\n",
        "#el arreglo, pero no inicializa los valores de sus elementos.\n",
        "\n",
        "#Un ejemplo práctico de uso de empty sería cuando se necesita crear un\n",
        "#arreglo con dimensiones específicas, pero los valores iniciales no son\n",
        "#relevantes en ese momento y se van a sobrescribir más adelante en el código.\n",
        "\n",
        "aa=np.empty((3, 4))\n",
        "\n",
        "aa"
      ],
      "metadata": {
        "colab": {
          "base_uri": "https://localhost:8080/"
        },
        "id": "t9lio_fPGN5j",
        "outputId": "00dc2c57-46a6-4f12-eb3d-9660c55903a1"
      },
      "execution_count": null,
      "outputs": [
        {
          "output_type": "execute_result",
          "data": {
            "text/plain": [
              "array([[0.96211957, 0.3412075 , 0.1097626 , 0.41249065],\n",
              "       [0.95681595, 0.54791781, 0.20813066, 0.87322138],\n",
              "       [0.8038373 , 0.25884928, 0.20943185, 0.02610551]])"
            ]
          },
          "metadata": {},
          "execution_count": 7
        }
      ]
    },
    {
      "cell_type": "code",
      "source": [
        "arr=np.empty(5)\n",
        "\n",
        "arr"
      ],
      "metadata": {
        "colab": {
          "base_uri": "https://localhost:8080/"
        },
        "id": "QngzPj7qrIZr",
        "outputId": "8427bd3b-24a9-4d12-b742-fbac4a5ed83f"
      },
      "execution_count": null,
      "outputs": [
        {
          "output_type": "execute_result",
          "data": {
            "text/plain": [
              "array([0.  , 0.25, 0.5 , 0.75, 1.  ])"
            ]
          },
          "metadata": {},
          "execution_count": 8
        }
      ]
    },
    {
      "cell_type": "code",
      "source": [
        "#crear un array con un rango de elementos\n",
        "a=np.arange(5)\n",
        "\n",
        "a"
      ],
      "metadata": {
        "colab": {
          "base_uri": "https://localhost:8080/"
        },
        "id": "ltAz0LIPp9-E",
        "outputId": "7cbfa4e7-a51a-42ab-9ec2-b4091d66cf44"
      },
      "execution_count": null,
      "outputs": [
        {
          "output_type": "execute_result",
          "data": {
            "text/plain": [
              "array([0, 1, 2, 3, 4])"
            ]
          },
          "metadata": {},
          "execution_count": 9
        }
      ]
    },
    {
      "cell_type": "code",
      "source": [
        "#crear un array con un rango de intervalos parejos, primer numero(2), ultimo\n",
        "#numero(16)\n",
        "\n",
        "a=np.arange(2, 16)\n",
        "\n",
        "a"
      ],
      "metadata": {
        "colab": {
          "base_uri": "https://localhost:8080/"
        },
        "id": "vpXRQ5AtqFa3",
        "outputId": "a949d378-6f10-4bef-d158-1a199657211a"
      },
      "execution_count": null,
      "outputs": [
        {
          "output_type": "execute_result",
          "data": {
            "text/plain": [
              "array([ 2,  3,  4,  5,  6,  7,  8,  9, 10, 11, 12, 13, 14, 15])"
            ]
          },
          "metadata": {},
          "execution_count": 10
        }
      ]
    },
    {
      "cell_type": "code",
      "source": [
        "#al ejercicio anterior le añadimos un salto de 6\n",
        "a=np.arange(0, 17, 6)\n",
        "\n",
        "a"
      ],
      "metadata": {
        "colab": {
          "base_uri": "https://localhost:8080/"
        },
        "id": "VKlL7L7SHOAr",
        "outputId": "6df066c9-eee2-43f1-c092-13a606bec6bd"
      },
      "execution_count": null,
      "outputs": [
        {
          "output_type": "execute_result",
          "data": {
            "text/plain": [
              "array([ 0,  6, 12])"
            ]
          },
          "metadata": {},
          "execution_count": 11
        }
      ]
    },
    {
      "cell_type": "code",
      "source": [
        "#para crear un array con valores que estan espaciados linealmente dentro de un\n",
        "#rango especificado, vemos que el output es diferente al del ejercicio anterior\n",
        "\n",
        "a=np.linspace(0, 17, 8)\n",
        "\n",
        "a"
      ],
      "metadata": {
        "colab": {
          "base_uri": "https://localhost:8080/"
        },
        "id": "rOGSD3-Tqqmr",
        "outputId": "473ea612-a9e4-415e-b398-de540b83d9ed"
      },
      "execution_count": null,
      "outputs": [
        {
          "output_type": "execute_result",
          "data": {
            "text/plain": [
              "array([ 0.        ,  2.42857143,  4.85714286,  7.28571429,  9.71428571,\n",
              "       12.14285714, 14.57142857, 17.        ])"
            ]
          },
          "metadata": {},
          "execution_count": 12
        }
      ]
    },
    {
      "cell_type": "code",
      "source": [
        "#podemos especificar el data type con el metodo dtype\n",
        "\n",
        "a= np.linspace(0, 17, 25).round(4)\n",
        "\n",
        "a"
      ],
      "metadata": {
        "id": "g90Q3jQvrJ0M",
        "colab": {
          "base_uri": "https://localhost:8080/"
        },
        "outputId": "025a3b9c-4cf0-4aba-ca11-c988e5f5aaad"
      },
      "execution_count": null,
      "outputs": [
        {
          "output_type": "execute_result",
          "data": {
            "text/plain": [
              "array([ 0.    ,  0.7083,  1.4167,  2.125 ,  2.8333,  3.5417,  4.25  ,\n",
              "        4.9583,  5.6667,  6.375 ,  7.0833,  7.7917,  8.5   ,  9.2083,\n",
              "        9.9167, 10.625 , 11.3333, 12.0417, 12.75  , 13.4583, 14.1667,\n",
              "       14.875 , 15.5833, 16.2917, 17.    ])"
            ]
          },
          "metadata": {},
          "execution_count": 13
        }
      ]
    },
    {
      "cell_type": "markdown",
      "source": [
        "2.-ORDENAR, QUITAR Y AÑADIR ELEMENTOS EN UN ARRAY"
      ],
      "metadata": {
        "id": "fkTAeDarHKeN"
      }
    },
    {
      "cell_type": "code",
      "source": [
        "#con la funcion np.sort() podemos ordenar el array\n",
        "\n",
        "\n",
        "a= np.array([2, 1, 5, 3, 7, 4, 6, 8])\n",
        "\n",
        "np.sort(a)"
      ],
      "metadata": {
        "colab": {
          "base_uri": "https://localhost:8080/"
        },
        "id": "H1FiirRHsqMO",
        "outputId": "cf075662-5c71-45af-b1ee-acd085cc4194"
      },
      "execution_count": null,
      "outputs": [
        {
          "output_type": "execute_result",
          "data": {
            "text/plain": [
              "array([1, 2, 3, 4, 5, 6, 7, 8])"
            ]
          },
          "metadata": {},
          "execution_count": 14
        }
      ]
    },
    {
      "cell_type": "code",
      "source": [
        "#si queremos orden descendente\n",
        "\n",
        "a=np.array([2, 1, 5, 3, 7, 4, 6, 8])\n",
        "\n",
        "np.sort(a)[::-1]\n",
        "\n"
      ],
      "metadata": {
        "colab": {
          "base_uri": "https://localhost:8080/"
        },
        "id": "iHljgOB-JfEm",
        "outputId": "f66118a7-8343-41cb-fa72-9166ce38ff9d"
      },
      "execution_count": null,
      "outputs": [
        {
          "output_type": "execute_result",
          "data": {
            "text/plain": [
              "array([8, 7, 6, 5, 4, 3, 2, 1])"
            ]
          },
          "metadata": {},
          "execution_count": 15
        }
      ]
    },
    {
      "cell_type": "code",
      "source": [
        "#si queremos ordenar una array multidimensional a lo largo del eje 0 (columnas)\n",
        "\n",
        "# el segundo : es para seleccionar todas las columnas\n",
        "a=np.array([[5, 2, 8], [1, 3, 6]])\n",
        "\n",
        "a\n"
      ],
      "metadata": {
        "colab": {
          "base_uri": "https://localhost:8080/"
        },
        "id": "6bYMXZTwKy8c",
        "outputId": "910d2dba-d8b2-4e36-da04-66e49f9b35ba"
      },
      "execution_count": null,
      "outputs": [
        {
          "output_type": "execute_result",
          "data": {
            "text/plain": [
              "array([[5, 2, 8],\n",
              "       [1, 3, 6]])"
            ]
          },
          "metadata": {},
          "execution_count": 16
        }
      ]
    },
    {
      "cell_type": "code",
      "source": [
        "np.sort(a, axis=0)"
      ],
      "metadata": {
        "colab": {
          "base_uri": "https://localhost:8080/"
        },
        "id": "oxSlw2hb_RED",
        "outputId": "7f30da95-de99-4031-c8be-e8cdade78853"
      },
      "execution_count": null,
      "outputs": [
        {
          "output_type": "execute_result",
          "data": {
            "text/plain": [
              "array([[1, 2, 6],\n",
              "       [5, 3, 8]])"
            ]
          },
          "metadata": {},
          "execution_count": 17
        }
      ]
    },
    {
      "cell_type": "code",
      "source": [
        "#si usamos el axis=1\n",
        "a=np.array([[5, 2, 8], [1, 3, 6]])\n",
        "\n",
        "np.sort(a, axis=1)"
      ],
      "metadata": {
        "colab": {
          "base_uri": "https://localhost:8080/"
        },
        "id": "2je8flnZxRZj",
        "outputId": "936cf7f5-e275-40d9-9a6b-6f9e5a6adc46"
      },
      "execution_count": null,
      "outputs": [
        {
          "output_type": "execute_result",
          "data": {
            "text/plain": [
              "array([[2, 5, 8],\n",
              "       [1, 3, 6]])"
            ]
          },
          "metadata": {},
          "execution_count": 18
        }
      ]
    },
    {
      "cell_type": "code",
      "source": [
        "#para hacerlos en orden descendente podemos hacerlo asi\n",
        "a=np.array([[5, 2, 8], [1, 3, 6]])\n",
        "\n",
        "np.sort(a, axis=1)[:, :: -1]"
      ],
      "metadata": {
        "id": "3FC7bB3ByKcW",
        "colab": {
          "base_uri": "https://localhost:8080/"
        },
        "outputId": "73093a6b-622e-4c1e-8edd-6de88d3b3435"
      },
      "execution_count": null,
      "outputs": [
        {
          "output_type": "execute_result",
          "data": {
            "text/plain": [
              "array([[8, 5, 2],\n",
              "       [6, 3, 1]])"
            ]
          },
          "metadata": {},
          "execution_count": 19
        }
      ]
    },
    {
      "cell_type": "code",
      "source": [
        "#podemos concatenar arrays\n",
        "a=np.array([1,2,3,4])\n",
        "b=np.array([5,6,7,8])\n",
        "\n",
        "c= np.concatenate((a,b))\n",
        "\n",
        "c"
      ],
      "metadata": {
        "colab": {
          "base_uri": "https://localhost:8080/"
        },
        "id": "TRVelYTktmCZ",
        "outputId": "64ed55f3-563c-42ee-c6a1-7d88c17133c7"
      },
      "execution_count": null,
      "outputs": [
        {
          "output_type": "execute_result",
          "data": {
            "text/plain": [
              "array([1, 2, 3, 4, 5, 6, 7, 8])"
            ]
          },
          "metadata": {},
          "execution_count": 20
        }
      ]
    },
    {
      "cell_type": "code",
      "source": [
        "#otro ejemplo de concatenado pero ahora multidimensional\n",
        "\n",
        "x=np.array([[1, 2], [3, 4]])\n",
        "y=np.array([[5, 6], [7, 8]])\n",
        "\n",
        "z=np.concatenate((x,y), axis=0)\n",
        "\n",
        "z"
      ],
      "metadata": {
        "colab": {
          "base_uri": "https://localhost:8080/"
        },
        "id": "3BUgROd6uHGY",
        "outputId": "bcf3b247-648b-4d8c-a85a-b28c10e9356a"
      },
      "execution_count": null,
      "outputs": [
        {
          "output_type": "execute_result",
          "data": {
            "text/plain": [
              "array([[1, 2],\n",
              "       [3, 4],\n",
              "       [5, 6],\n",
              "       [7, 8]])"
            ]
          },
          "metadata": {},
          "execution_count": 21
        }
      ]
    },
    {
      "cell_type": "code",
      "source": [
        "#en vez de usar el axis cero vamos a usar el axis 1\n",
        "x=np.array([[1, 2], [3, 4]])\n",
        "y=np.array([[5, 6], [7, 8]])\n",
        "\n",
        "z=np.concatenate((x,y), axis=1)\n",
        "\n",
        "z\n"
      ],
      "metadata": {
        "colab": {
          "base_uri": "https://localhost:8080/"
        },
        "id": "FNkIV8xXN5TU",
        "outputId": "d46e70f9-9d36-43ce-e613-0868fd6d6876"
      },
      "execution_count": null,
      "outputs": [
        {
          "output_type": "execute_result",
          "data": {
            "text/plain": [
              "array([[1, 2, 5, 6],\n",
              "       [3, 4, 7, 8]])"
            ]
          },
          "metadata": {},
          "execution_count": 22
        }
      ]
    },
    {
      "cell_type": "code",
      "source": [
        "#para eliminar elementos de un array usamos el metodo delete()\n",
        "#este metodo usa 3 argumentos: el array de entrada, los indices de los\n",
        "#elementos a eliminar y el eje a los largo del cual se hace la eliminacion\n",
        "\n",
        "a=np.array([1, 2, 3, 4, 5])\n",
        "\n",
        "np.delete(a, [1, 3])  #elimina el segundo y cuarto elemento del array"
      ],
      "metadata": {
        "colab": {
          "base_uri": "https://localhost:8080/"
        },
        "id": "l74VA4F0Oia3",
        "outputId": "2e8889d8-6175-485f-fbde-b6b49be26681"
      },
      "execution_count": null,
      "outputs": [
        {
          "output_type": "execute_result",
          "data": {
            "text/plain": [
              "array([1, 3, 5])"
            ]
          },
          "metadata": {},
          "execution_count": 23
        }
      ]
    },
    {
      "cell_type": "code",
      "source": [
        "#si el array es multimensional debemos especificar el eje a lo largo del cual\n",
        "#eliminamos los elementos\n",
        "\n",
        "a=np.array([[1, 2, 3],\n",
        "           [4, 5, 6],\n",
        "           [7, 8, 9]])\n",
        "\n",
        "np.delete(a, 2, axis=1)  #elimina la segunda columna del array"
      ],
      "metadata": {
        "colab": {
          "base_uri": "https://localhost:8080/"
        },
        "id": "5fi_OAJmPqpc",
        "outputId": "e84755a8-799a-4d3a-cf04-652f82804d47"
      },
      "execution_count": null,
      "outputs": [
        {
          "output_type": "execute_result",
          "data": {
            "text/plain": [
              "array([[1, 2],\n",
              "       [4, 5],\n",
              "       [7, 8]])"
            ]
          },
          "metadata": {},
          "execution_count": 24
        }
      ]
    },
    {
      "cell_type": "code",
      "source": [
        "#otro ejemplo\n",
        "a=np.array([[1, 2, 3],\n",
        "           [4, 5, 6],\n",
        "           [7, 8, 9]])\n",
        "\n",
        "np.delete(a, 1, axis=0)  #elimina la segunda fila del array"
      ],
      "metadata": {
        "colab": {
          "base_uri": "https://localhost:8080/"
        },
        "id": "xGt0ziX1QaSw",
        "outputId": "f2ba6470-1fe6-40af-eaea-9400c4e58e98"
      },
      "execution_count": null,
      "outputs": [
        {
          "output_type": "execute_result",
          "data": {
            "text/plain": [
              "array([[1, 2, 3],\n",
              "       [7, 8, 9]])"
            ]
          },
          "metadata": {},
          "execution_count": 25
        }
      ]
    },
    {
      "cell_type": "code",
      "source": [
        "#para añadir elementos a un array podemos usar el metodo append()\n",
        "#de nuevo este metodo usa 3 argumentos, el array de entrada, los elementos\n",
        "#a añadir y el eje a lo largo del cual se añaden\n",
        "\n",
        "a= np.array([1, 2, 3])\n",
        "\n",
        "np.append(a, [4, 5])\n",
        "\n"
      ],
      "metadata": {
        "colab": {
          "base_uri": "https://localhost:8080/"
        },
        "id": "GRwMqb1uRC_k",
        "outputId": "c77bb40d-7bb6-40eb-a66c-82ce11b9618c"
      },
      "execution_count": null,
      "outputs": [
        {
          "output_type": "execute_result",
          "data": {
            "text/plain": [
              "array([1, 2, 3, 4, 5])"
            ]
          },
          "metadata": {},
          "execution_count": 26
        }
      ]
    },
    {
      "cell_type": "code",
      "source": [
        "#para arrays multidimensionales debemos especificar el eje a lo largo\n",
        "#del cual se añadiran los elementos nuevos\n",
        "\n",
        "a= np.array([[1, 2, 3],\n",
        "             [4, 5, 6]])\n",
        "\n",
        "np.append(a, [[7, 8, 9]], axis=0)"
      ],
      "metadata": {
        "colab": {
          "base_uri": "https://localhost:8080/"
        },
        "id": "HTZ2JGHyRm_d",
        "outputId": "dc02dd28-b909-48ec-f7be-0fcb312a2b22"
      },
      "execution_count": null,
      "outputs": [
        {
          "output_type": "execute_result",
          "data": {
            "text/plain": [
              "array([[1, 2, 3],\n",
              "       [4, 5, 6],\n",
              "       [7, 8, 9]])"
            ]
          },
          "metadata": {},
          "execution_count": 27
        }
      ]
    },
    {
      "cell_type": "code",
      "source": [
        "#si deseamos añadir nuevos elementos a un array de Numpy en una posicion\n",
        "#especifica debemos usar el metodo insert(), necesita 3 argumentos\n",
        "#el array de entrada, el indice de la posicion de insercion y los elementos\n",
        "#a añadir\n",
        "\n",
        "a= np.array([1, 2, 3, 4, 5])\n",
        "\n",
        "np.insert(a, 4, 33) #inserta el numero 33 en la posicion 4 del array"
      ],
      "metadata": {
        "colab": {
          "base_uri": "https://localhost:8080/"
        },
        "id": "e3VklCv5S-_6",
        "outputId": "9eec803e-cc88-48ed-fbb7-94636598370a"
      },
      "execution_count": null,
      "outputs": [
        {
          "output_type": "execute_result",
          "data": {
            "text/plain": [
              "array([ 1,  2,  3,  4, 33,  5])"
            ]
          },
          "metadata": {},
          "execution_count": 28
        }
      ]
    },
    {
      "cell_type": "code",
      "source": [
        "#tambien podemos insertar elementos nuevos en arrays multidimensionales de forma\n",
        "#parecida a los ejercicios anteriores\n",
        "\n",
        "a= np.array([[1, 2, 3],\n",
        "             [4, 5, 6]])\n",
        "\n",
        "np.insert(a, 1, [0, 0], axis=1)  #esta vez no me pide doble corchete como en el\n",
        "#ejercicio de antes\n",
        "\n"
      ],
      "metadata": {
        "colab": {
          "base_uri": "https://localhost:8080/"
        },
        "id": "Wwr40KLYT1td",
        "outputId": "9e0b5bcd-a5f9-426a-95f4-e2a7af02829e"
      },
      "execution_count": null,
      "outputs": [
        {
          "output_type": "execute_result",
          "data": {
            "text/plain": [
              "array([[1, 0, 2, 3],\n",
              "       [4, 0, 5, 6]])"
            ]
          },
          "metadata": {},
          "execution_count": 29
        }
      ]
    },
    {
      "cell_type": "markdown",
      "source": [
        "3.- COMO SABER LA FORMA, TAMAÑO Y DIMENSION DE UN ARRAY"
      ],
      "metadata": {
        "id": "4gMSVfwPHUFN"
      }
    },
    {
      "cell_type": "code",
      "source": [
        "#como saber la forma y el tamaño del array\n",
        "#ndarray.ndim\n",
        "#ndarray.size\n",
        "#ndarray.shape"
      ],
      "metadata": {
        "id": "k9qsW0z5u44R"
      },
      "execution_count": null,
      "outputs": []
    },
    {
      "cell_type": "code",
      "source": [
        "#para saber las dimensiones de un array( numero de ejes o dimensiones\n",
        "#que tiene el array)\n",
        "a=np.array([1, 2, 3])\n",
        "\n",
        "a"
      ],
      "metadata": {
        "colab": {
          "base_uri": "https://localhost:8080/"
        },
        "id": "2T4BQgLtWxNx",
        "outputId": "e78a14c6-fd47-4bb7-b753-04722d7a903f"
      },
      "execution_count": null,
      "outputs": [
        {
          "output_type": "execute_result",
          "data": {
            "text/plain": [
              "array([1, 2, 3])"
            ]
          },
          "metadata": {},
          "execution_count": 31
        }
      ]
    },
    {
      "cell_type": "code",
      "source": [
        "a.ndim"
      ],
      "metadata": {
        "colab": {
          "base_uri": "https://localhost:8080/"
        },
        "id": "baMaiSNJXyJG",
        "outputId": "501f5ad5-aea4-436d-cd97-47d32950ad16"
      },
      "execution_count": null,
      "outputs": [
        {
          "output_type": "execute_result",
          "data": {
            "text/plain": [
              "1"
            ]
          },
          "metadata": {},
          "execution_count": 32
        }
      ]
    },
    {
      "cell_type": "code",
      "source": [
        "a=np.array([[1, 2, 3], [4, 5, 6]])\n",
        "\n",
        "a"
      ],
      "metadata": {
        "colab": {
          "base_uri": "https://localhost:8080/"
        },
        "id": "R1IpI-HeXFPM",
        "outputId": "f416de3e-7e96-4832-fb60-60e66e827917"
      },
      "execution_count": null,
      "outputs": [
        {
          "output_type": "execute_result",
          "data": {
            "text/plain": [
              "array([[1, 2, 3],\n",
              "       [4, 5, 6]])"
            ]
          },
          "metadata": {},
          "execution_count": 33
        }
      ]
    },
    {
      "cell_type": "code",
      "source": [
        "a.ndim"
      ],
      "metadata": {
        "colab": {
          "base_uri": "https://localhost:8080/"
        },
        "id": "gopEvpz1X6tl",
        "outputId": "d6bcd58d-d075-4c7c-dc4e-f00005adcfff"
      },
      "execution_count": null,
      "outputs": [
        {
          "output_type": "execute_result",
          "data": {
            "text/plain": [
              "2"
            ]
          },
          "metadata": {},
          "execution_count": 34
        }
      ]
    },
    {
      "cell_type": "code",
      "source": [
        "a=np.array([[[0, 1, 2, 3],\n",
        "             [4, 5, 6, 7]],\n",
        "\n",
        "           [[0, 1, 2, 3],\n",
        "            [4, 5, 6, 7]],\n",
        "\n",
        "           [[0, 1, 2, 3],\n",
        "            [4, 5, 6, 7]]])\n",
        "\n",
        "a"
      ],
      "metadata": {
        "colab": {
          "base_uri": "https://localhost:8080/"
        },
        "id": "yMeHP5zpvM9a",
        "outputId": "4c387393-5726-41fa-9bec-6b1e127fb725"
      },
      "execution_count": null,
      "outputs": [
        {
          "output_type": "execute_result",
          "data": {
            "text/plain": [
              "array([[[0, 1, 2, 3],\n",
              "        [4, 5, 6, 7]],\n",
              "\n",
              "       [[0, 1, 2, 3],\n",
              "        [4, 5, 6, 7]],\n",
              "\n",
              "       [[0, 1, 2, 3],\n",
              "        [4, 5, 6, 7]]])"
            ]
          },
          "metadata": {},
          "execution_count": 35
        }
      ]
    },
    {
      "cell_type": "code",
      "source": [
        "a.ndim"
      ],
      "metadata": {
        "colab": {
          "base_uri": "https://localhost:8080/"
        },
        "id": "APfpS2epYCQG",
        "outputId": "adc92322-8aee-431f-c148-0e414ddf4589"
      },
      "execution_count": null,
      "outputs": [
        {
          "output_type": "execute_result",
          "data": {
            "text/plain": [
              "3"
            ]
          },
          "metadata": {},
          "execution_count": 36
        }
      ]
    },
    {
      "cell_type": "code",
      "source": [
        "#para saber el numero total de elementos de un array\n",
        "\n",
        "a= np.array([1, 2, 3, 4, 5, 6])\n",
        "a.size"
      ],
      "metadata": {
        "colab": {
          "base_uri": "https://localhost:8080/"
        },
        "id": "h-YCEq1kwE3R",
        "outputId": "459c601d-f22a-462a-b338-b0003c0d6ddc"
      },
      "execution_count": null,
      "outputs": [
        {
          "output_type": "execute_result",
          "data": {
            "text/plain": [
              "6"
            ]
          },
          "metadata": {},
          "execution_count": 37
        }
      ]
    },
    {
      "cell_type": "code",
      "source": [
        "#la diferencia entre ndim y shape es que ndim muestra un entero que\n",
        "#representa la cantidad de dimensiones del array y shape devuelve una\n",
        "#tupla que especifica la longitud de cada dimension del array\n",
        "a= np.array([1, 2, 3, 4, 5])\n",
        "\n",
        "a"
      ],
      "metadata": {
        "colab": {
          "base_uri": "https://localhost:8080/"
        },
        "id": "omh9ZXY3wKd1",
        "outputId": "e4244467-cd92-4acb-d9f4-f018d7c17432"
      },
      "execution_count": null,
      "outputs": [
        {
          "output_type": "execute_result",
          "data": {
            "text/plain": [
              "array([1, 2, 3, 4, 5])"
            ]
          },
          "metadata": {},
          "execution_count": 38
        }
      ]
    },
    {
      "cell_type": "code",
      "source": [
        "a.shape"
      ],
      "metadata": {
        "id": "Ta6e7fp86-kJ",
        "colab": {
          "base_uri": "https://localhost:8080/"
        },
        "outputId": "40e2c7e2-e9e1-4008-fe24-3451e3c6a94f"
      },
      "execution_count": null,
      "outputs": [
        {
          "output_type": "execute_result",
          "data": {
            "text/plain": [
              "(5,)"
            ]
          },
          "metadata": {},
          "execution_count": 39
        }
      ]
    },
    {
      "cell_type": "code",
      "source": [
        "a=np.array([[1, 2, 3, 3], [4, 5, 6, 6]])\n",
        "\n",
        "a"
      ],
      "metadata": {
        "id": "xAT_cEpvYS2v",
        "colab": {
          "base_uri": "https://localhost:8080/"
        },
        "outputId": "3864ccd6-b621-4439-8788-b47bfc1e7842"
      },
      "execution_count": null,
      "outputs": [
        {
          "output_type": "execute_result",
          "data": {
            "text/plain": [
              "array([[1, 2, 3, 3],\n",
              "       [4, 5, 6, 6]])"
            ]
          },
          "metadata": {},
          "execution_count": 40
        }
      ]
    },
    {
      "cell_type": "code",
      "source": [
        "a.shape"
      ],
      "metadata": {
        "id": "ykRCMx0B7EqM",
        "colab": {
          "base_uri": "https://localhost:8080/"
        },
        "outputId": "27612779-2b7f-42a2-c943-442141331db4"
      },
      "execution_count": null,
      "outputs": [
        {
          "output_type": "execute_result",
          "data": {
            "text/plain": [
              "(2, 4)"
            ]
          },
          "metadata": {},
          "execution_count": 41
        }
      ]
    },
    {
      "cell_type": "code",
      "source": [
        "a=np.array([[[1, 2, 3, 3], [4, 5, 6, 6]],[[7, 8, 9, 9], [10, 11, 12, 12]]])\n",
        "\n",
        "a"
      ],
      "metadata": {
        "id": "_iHMbZdmYdxY",
        "colab": {
          "base_uri": "https://localhost:8080/"
        },
        "outputId": "3b5d00ac-c2ae-417f-dcdc-7fa37498bd88"
      },
      "execution_count": null,
      "outputs": [
        {
          "output_type": "execute_result",
          "data": {
            "text/plain": [
              "array([[[ 1,  2,  3,  3],\n",
              "        [ 4,  5,  6,  6]],\n",
              "\n",
              "       [[ 7,  8,  9,  9],\n",
              "        [10, 11, 12, 12]]])"
            ]
          },
          "metadata": {},
          "execution_count": 42
        }
      ]
    },
    {
      "cell_type": "code",
      "source": [
        "a.shape"
      ],
      "metadata": {
        "id": "i9-uDWeQ8N-N",
        "colab": {
          "base_uri": "https://localhost:8080/"
        },
        "outputId": "c54cc45f-9b59-485e-d396-91cf3acd8c64"
      },
      "execution_count": null,
      "outputs": [
        {
          "output_type": "execute_result",
          "data": {
            "text/plain": [
              "(2, 2, 4)"
            ]
          },
          "metadata": {},
          "execution_count": 43
        }
      ]
    },
    {
      "cell_type": "markdown",
      "source": [
        "4.- RESHAPE UN ARRAY"
      ],
      "metadata": {
        "id": "e3G1DljdHk2n"
      }
    },
    {
      "cell_type": "code",
      "source": [
        "#el metodo arange crea un array unidimensional con valores espaciados\n",
        "#de manera uniforme dentro de un rango especificado\n",
        "\n",
        "a= np.arange(6)\n",
        "\n",
        "a"
      ],
      "metadata": {
        "id": "rbZR7PGZFop-",
        "colab": {
          "base_uri": "https://localhost:8080/"
        },
        "outputId": "5af6fdc7-f459-4523-ea8e-976fc1d90d90"
      },
      "execution_count": null,
      "outputs": [
        {
          "output_type": "execute_result",
          "data": {
            "text/plain": [
              "array([0, 1, 2, 3, 4, 5])"
            ]
          },
          "metadata": {},
          "execution_count": 44
        }
      ]
    },
    {
      "cell_type": "code",
      "source": [
        "a=np.arange(9).reshape(3,3)\n",
        "\n",
        "a"
      ],
      "metadata": {
        "colab": {
          "base_uri": "https://localhost:8080/"
        },
        "id": "zUuznyESb4WR",
        "outputId": "a8dbfd10-622d-4ae3-c8dd-19ebf6392be9"
      },
      "execution_count": null,
      "outputs": [
        {
          "output_type": "execute_result",
          "data": {
            "text/plain": [
              "array([[0, 1, 2],\n",
              "       [3, 4, 5],\n",
              "       [6, 7, 8]])"
            ]
          },
          "metadata": {},
          "execution_count": 45
        }
      ]
    },
    {
      "cell_type": "code",
      "source": [
        "a=np.arange(0, 8)\n",
        "\n",
        "a"
      ],
      "metadata": {
        "id": "CTWkBZhQaM3j",
        "colab": {
          "base_uri": "https://localhost:8080/"
        },
        "outputId": "f85f8c8e-57d5-43e7-dad8-89d2b81fecbc"
      },
      "execution_count": null,
      "outputs": [
        {
          "output_type": "execute_result",
          "data": {
            "text/plain": [
              "array([0, 1, 2, 3, 4, 5, 6, 7])"
            ]
          },
          "metadata": {},
          "execution_count": 46
        }
      ]
    },
    {
      "cell_type": "code",
      "source": [
        "a=np.arange(0, 20, 4)\n",
        "\n",
        "a"
      ],
      "metadata": {
        "id": "leXNWOZhaVG4",
        "colab": {
          "base_uri": "https://localhost:8080/"
        },
        "outputId": "ee6d98d5-9988-462d-dbef-75558de679b9"
      },
      "execution_count": null,
      "outputs": [
        {
          "output_type": "execute_result",
          "data": {
            "text/plain": [
              "array([ 0,  4,  8, 12, 16])"
            ]
          },
          "metadata": {},
          "execution_count": 47
        }
      ]
    },
    {
      "cell_type": "code",
      "source": [
        "#El metodo reshape se usa para cambiar la forma de un array multidimensional\n",
        "#sin modificar sus datos subyacentes,La nueva forma debe ser compatible con\n",
        "#la cantidad total de elementos del array original\n",
        "\n",
        "#Tambien sirve para preparar datos para el análisis: En el procesamiento de\n",
        "#datos, es común tener que reformatear los datos para que se ajusten a un\n",
        "#determinado modelo o algoritmo.\n",
        "\n",
        "#Tambien se usa para trabajar con imágenes: En el caso de imágenes, es común\n",
        "#representarlas como arreglos multidimensionales. Por ejemplo, una imagen en\n",
        "#escala de grises puede ser representada como una matriz 2D, mientras que una\n",
        "#imagen en color puede ser representada como una matriz 3D\n",
        "a= np.arange(12)\n",
        "\n",
        "a\n"
      ],
      "metadata": {
        "id": "SNAmC3GRF7qg",
        "colab": {
          "base_uri": "https://localhost:8080/"
        },
        "outputId": "0d0be3a7-c1d3-4620-feb4-b8d068bd0ae0"
      },
      "execution_count": null,
      "outputs": [
        {
          "output_type": "execute_result",
          "data": {
            "text/plain": [
              "array([ 0,  1,  2,  3,  4,  5,  6,  7,  8,  9, 10, 11])"
            ]
          },
          "metadata": {},
          "execution_count": 48
        }
      ]
    },
    {
      "cell_type": "code",
      "source": [
        "#puedes cambiar la matriz a otra 3x4 o a otra 2x6\n",
        "b= a.reshape(3,4)\n",
        "\n",
        "b"
      ],
      "metadata": {
        "id": "Lab4pHVUch8f",
        "colab": {
          "base_uri": "https://localhost:8080/"
        },
        "outputId": "d0deee55-2e54-40be-d633-2ebfdd3dc208"
      },
      "execution_count": null,
      "outputs": [
        {
          "output_type": "execute_result",
          "data": {
            "text/plain": [
              "array([[ 0,  1,  2,  3],\n",
              "       [ 4,  5,  6,  7],\n",
              "       [ 8,  9, 10, 11]])"
            ]
          },
          "metadata": {},
          "execution_count": 49
        }
      ]
    },
    {
      "cell_type": "code",
      "source": [
        "#3D = np.array([[[1,2,3],[4,5,6]],[[7,8,9],[10,11,12]],[[13,14,15],[16,17,18]]])\n",
        "#crear un array de 4 dimensiones\n",
        "d = np.arange(72)\n",
        "\n",
        "d"
      ],
      "metadata": {
        "id": "CjCbK5uuEKut",
        "colab": {
          "base_uri": "https://localhost:8080/"
        },
        "outputId": "40e91f76-a7a5-43c0-a9e7-a08c5af9cac9"
      },
      "execution_count": null,
      "outputs": [
        {
          "output_type": "execute_result",
          "data": {
            "text/plain": [
              "array([ 0,  1,  2,  3,  4,  5,  6,  7,  8,  9, 10, 11, 12, 13, 14, 15, 16,\n",
              "       17, 18, 19, 20, 21, 22, 23, 24, 25, 26, 27, 28, 29, 30, 31, 32, 33,\n",
              "       34, 35, 36, 37, 38, 39, 40, 41, 42, 43, 44, 45, 46, 47, 48, 49, 50,\n",
              "       51, 52, 53, 54, 55, 56, 57, 58, 59, 60, 61, 62, 63, 64, 65, 66, 67,\n",
              "       68, 69, 70, 71])"
            ]
          },
          "metadata": {},
          "execution_count": 50
        }
      ]
    },
    {
      "cell_type": "code",
      "source": [
        "c = np.reshape(d, (4,3,2,3))\n",
        "\n",
        "c"
      ],
      "metadata": {
        "id": "0u2eG_qNdDtE",
        "colab": {
          "base_uri": "https://localhost:8080/"
        },
        "outputId": "095d9fcd-21b9-49ae-dd3a-dcae09a83c3a"
      },
      "execution_count": null,
      "outputs": [
        {
          "output_type": "execute_result",
          "data": {
            "text/plain": [
              "array([[[[ 0,  1,  2],\n",
              "         [ 3,  4,  5]],\n",
              "\n",
              "        [[ 6,  7,  8],\n",
              "         [ 9, 10, 11]],\n",
              "\n",
              "        [[12, 13, 14],\n",
              "         [15, 16, 17]]],\n",
              "\n",
              "\n",
              "       [[[18, 19, 20],\n",
              "         [21, 22, 23]],\n",
              "\n",
              "        [[24, 25, 26],\n",
              "         [27, 28, 29]],\n",
              "\n",
              "        [[30, 31, 32],\n",
              "         [33, 34, 35]]],\n",
              "\n",
              "\n",
              "       [[[36, 37, 38],\n",
              "         [39, 40, 41]],\n",
              "\n",
              "        [[42, 43, 44],\n",
              "         [45, 46, 47]],\n",
              "\n",
              "        [[48, 49, 50],\n",
              "         [51, 52, 53]]],\n",
              "\n",
              "\n",
              "       [[[54, 55, 56],\n",
              "         [57, 58, 59]],\n",
              "\n",
              "        [[60, 61, 62],\n",
              "         [63, 64, 65]],\n",
              "\n",
              "        [[66, 67, 68],\n",
              "         [69, 70, 71]]]])"
            ]
          },
          "metadata": {},
          "execution_count": 51
        }
      ]
    },
    {
      "cell_type": "code",
      "source": [
        "#como convertir un array de 1D en otro de 2D. Como añadir un nuevo axis\n",
        "#a un array  newaxis  expand_dims\n",
        "\n",
        "a=np.array([1, 2, 3, 4, 5, 6])\n",
        "\n",
        "a.shape"
      ],
      "metadata": {
        "id": "vtybhye4Gbrc",
        "colab": {
          "base_uri": "https://localhost:8080/"
        },
        "outputId": "31800f38-c63a-4111-ed86-74844b16420b"
      },
      "execution_count": null,
      "outputs": [
        {
          "output_type": "execute_result",
          "data": {
            "text/plain": [
              "(6,)"
            ]
          },
          "metadata": {},
          "execution_count": 52
        }
      ]
    },
    {
      "cell_type": "code",
      "source": [
        "#puedes usar newaxis para añadir un nuevo axis\n",
        "a2=a[np.newaxis, :]\n",
        "a2.shape"
      ],
      "metadata": {
        "id": "-skUKfVDGupG",
        "colab": {
          "base_uri": "https://localhost:8080/"
        },
        "outputId": "48348d5b-86ea-4912-a052-b82f22664d0a"
      },
      "execution_count": null,
      "outputs": [
        {
          "output_type": "execute_result",
          "data": {
            "text/plain": [
              "(1, 6)"
            ]
          },
          "metadata": {},
          "execution_count": 53
        }
      ]
    },
    {
      "cell_type": "code",
      "source": [
        "#tambien puedes expandir el array insertando un nuevo axis en una\n",
        "#posicion especifica, por ejemplo posicion 1\n",
        "\n",
        "a=np.array([1, 2, 3, 4, 5, 6])\n",
        "\n",
        "a.shape"
      ],
      "metadata": {
        "id": "kpbD4J2TI95I",
        "colab": {
          "base_uri": "https://localhost:8080/"
        },
        "outputId": "ed7686fd-43d5-4818-b84a-866e592d4cd3"
      },
      "execution_count": null,
      "outputs": [
        {
          "output_type": "execute_result",
          "data": {
            "text/plain": [
              "(6,)"
            ]
          },
          "metadata": {},
          "execution_count": 54
        }
      ]
    },
    {
      "cell_type": "code",
      "source": [
        "b=np.expand_dims(a, axis=1)\n",
        "\n",
        "b.shape"
      ],
      "metadata": {
        "id": "xWtKuJFQJVOH",
        "colab": {
          "base_uri": "https://localhost:8080/"
        },
        "outputId": "1fe4cde0-a862-490f-d592-7e479bf3fb84"
      },
      "execution_count": null,
      "outputs": [
        {
          "output_type": "execute_result",
          "data": {
            "text/plain": [
              "(6, 1)"
            ]
          },
          "metadata": {},
          "execution_count": 55
        }
      ]
    },
    {
      "cell_type": "code",
      "source": [
        "c=np.expand_dims(a, axis=0)\n",
        "c.shape"
      ],
      "metadata": {
        "id": "1Jd-V8Z6Jfi4",
        "colab": {
          "base_uri": "https://localhost:8080/"
        },
        "outputId": "eac025b1-efec-4e3c-a952-d5d9ddb91c37"
      },
      "execution_count": null,
      "outputs": [
        {
          "output_type": "execute_result",
          "data": {
            "text/plain": [
              "(1, 6)"
            ]
          },
          "metadata": {},
          "execution_count": 56
        }
      ]
    },
    {
      "cell_type": "markdown",
      "source": [
        "5.- INDEXING AND SLICING"
      ],
      "metadata": {
        "id": "soqOGaPzJqBT"
      }
    },
    {
      "cell_type": "code",
      "source": [
        "#Se parece al indexado y el slicing que haciamos en Python\n",
        "\n",
        "data= np.array([1, 2, 3, 4, 5])\n",
        "\n",
        "data[1]"
      ],
      "metadata": {
        "id": "w77zTnBgJx-v",
        "colab": {
          "base_uri": "https://localhost:8080/"
        },
        "outputId": "c6c88801-4921-4426-b1c7-994c9c57d896"
      },
      "execution_count": null,
      "outputs": [
        {
          "output_type": "execute_result",
          "data": {
            "text/plain": [
              "2"
            ]
          },
          "metadata": {},
          "execution_count": 57
        }
      ]
    },
    {
      "cell_type": "code",
      "source": [
        "data[1:4]"
      ],
      "metadata": {
        "id": "Hzo4q2suKD3f",
        "colab": {
          "base_uri": "https://localhost:8080/"
        },
        "outputId": "013babb6-1943-486d-89b6-802372b356a2"
      },
      "execution_count": null,
      "outputs": [
        {
          "output_type": "execute_result",
          "data": {
            "text/plain": [
              "array([2, 3, 4])"
            ]
          },
          "metadata": {},
          "execution_count": 58
        }
      ]
    },
    {
      "cell_type": "code",
      "source": [
        "data[3:]"
      ],
      "metadata": {
        "id": "0z0RYuyNKIMx",
        "colab": {
          "base_uri": "https://localhost:8080/"
        },
        "outputId": "e6724bda-cd96-4c85-c502-e087b5709b1b"
      },
      "execution_count": null,
      "outputs": [
        {
          "output_type": "execute_result",
          "data": {
            "text/plain": [
              "array([4, 5])"
            ]
          },
          "metadata": {},
          "execution_count": 59
        }
      ]
    },
    {
      "cell_type": "code",
      "source": [
        "data[-4:]"
      ],
      "metadata": {
        "id": "Xr2RISjjKTBK",
        "colab": {
          "base_uri": "https://localhost:8080/"
        },
        "outputId": "c9219e34-2338-4866-cbff-4e3a749e2b99"
      },
      "execution_count": null,
      "outputs": [
        {
          "output_type": "execute_result",
          "data": {
            "text/plain": [
              "array([2, 3, 4, 5])"
            ]
          },
          "metadata": {},
          "execution_count": 60
        }
      ]
    },
    {
      "cell_type": "code",
      "source": [
        "#podemos mostrar los valores del array que son menores a 5, en este caso nos\n",
        "#muestra booleanos\n",
        "\n",
        "a= np.array([[1, 2, 3, 4], [5, 6, 7, 8], [9, 10, 11, 12]])\n",
        "\n",
        "a"
      ],
      "metadata": {
        "id": "dpbrt6oWKhA_",
        "colab": {
          "base_uri": "https://localhost:8080/"
        },
        "outputId": "9116580b-734c-44fb-b514-bff43d1eb18c"
      },
      "execution_count": null,
      "outputs": [
        {
          "output_type": "execute_result",
          "data": {
            "text/plain": [
              "array([[ 1,  2,  3,  4],\n",
              "       [ 5,  6,  7,  8],\n",
              "       [ 9, 10, 11, 12]])"
            ]
          },
          "metadata": {},
          "execution_count": 61
        }
      ]
    },
    {
      "cell_type": "code",
      "source": [
        "a<=5"
      ],
      "metadata": {
        "colab": {
          "base_uri": "https://localhost:8080/"
        },
        "id": "uLtxc-5bWUQf",
        "outputId": "b2ed02f9-7d85-4c5f-8bce-a965f020a4e4"
      },
      "execution_count": null,
      "outputs": [
        {
          "output_type": "execute_result",
          "data": {
            "text/plain": [
              "array([[ True,  True,  True,  True],\n",
              "       [ True, False, False, False],\n",
              "       [False, False, False, False]])"
            ]
          },
          "metadata": {},
          "execution_count": 62
        }
      ]
    },
    {
      "cell_type": "code",
      "source": [
        "a[a>5]"
      ],
      "metadata": {
        "id": "y29yQpy8eR65",
        "colab": {
          "base_uri": "https://localhost:8080/"
        },
        "outputId": "f76cd202-83ec-469d-9905-d90ec97d4d08"
      },
      "execution_count": null,
      "outputs": [
        {
          "output_type": "execute_result",
          "data": {
            "text/plain": [
              "array([ 6,  7,  8,  9, 10, 11, 12])"
            ]
          },
          "metadata": {},
          "execution_count": 63
        }
      ]
    },
    {
      "cell_type": "code",
      "source": [
        "#o mostrar los numeros iguales o mayores que 5\n",
        "\n",
        "cinco= (a>=5)\n",
        "a[cinco]"
      ],
      "metadata": {
        "id": "i3eKaz0CK6K8",
        "colab": {
          "base_uri": "https://localhost:8080/"
        },
        "outputId": "83ab8637-9e34-4082-b7d2-11d341a709d5"
      },
      "execution_count": null,
      "outputs": [
        {
          "output_type": "execute_result",
          "data": {
            "text/plain": [
              "array([ 5,  6,  7,  8,  9, 10, 11, 12])"
            ]
          },
          "metadata": {},
          "execution_count": 64
        }
      ]
    },
    {
      "cell_type": "code",
      "source": [
        "#o mostrar numeros divisibles por 2\n",
        "\n",
        "divisible= a[a%2==1]\n",
        "divisible"
      ],
      "metadata": {
        "id": "OAGZhJ94LPO1",
        "colab": {
          "base_uri": "https://localhost:8080/"
        },
        "outputId": "2db95ea2-bf4b-4ec9-b365-e16c951df4e6"
      },
      "execution_count": null,
      "outputs": [
        {
          "output_type": "execute_result",
          "data": {
            "text/plain": [
              "array([ 1,  3,  5,  7,  9, 11])"
            ]
          },
          "metadata": {},
          "execution_count": 65
        }
      ]
    },
    {
      "cell_type": "code",
      "source": [
        "divisible= a[a%2!=0]\n",
        "\n",
        "divisible"
      ],
      "metadata": {
        "colab": {
          "base_uri": "https://localhost:8080/"
        },
        "id": "IpndS_IwlhJ_",
        "outputId": "044e51b8-9c05-46f9-85a2-07206b8f8556"
      },
      "execution_count": null,
      "outputs": [
        {
          "output_type": "execute_result",
          "data": {
            "text/plain": [
              "array([ 1,  3,  5,  7,  9, 11])"
            ]
          },
          "metadata": {},
          "execution_count": 66
        }
      ]
    },
    {
      "cell_type": "code",
      "source": [
        "#tambien podemos usar el & y el |\n",
        "\n",
        "c= a[(a>2) & (a<11)]\n",
        "\n",
        "c"
      ],
      "metadata": {
        "id": "dmPUrTRILblp",
        "colab": {
          "base_uri": "https://localhost:8080/"
        },
        "outputId": "f853806a-aa8a-43db-8798-55baeea59d55"
      },
      "execution_count": null,
      "outputs": [
        {
          "output_type": "execute_result",
          "data": {
            "text/plain": [
              "array([ 3,  4,  5,  6,  7,  8,  9, 10])"
            ]
          },
          "metadata": {},
          "execution_count": 67
        }
      ]
    },
    {
      "cell_type": "code",
      "source": [
        "c=(a>5) | (a==5)\n",
        "\n",
        "a[c]"
      ],
      "metadata": {
        "id": "i2cpAWFXWf-S",
        "colab": {
          "base_uri": "https://localhost:8080/"
        },
        "outputId": "4a56cb24-dbe5-41e4-aed4-ad465a27a971"
      },
      "execution_count": null,
      "outputs": [
        {
          "output_type": "execute_result",
          "data": {
            "text/plain": [
              "array([ 5,  6,  7,  8,  9, 10, 11, 12])"
            ]
          },
          "metadata": {},
          "execution_count": 68
        }
      ]
    },
    {
      "cell_type": "markdown",
      "source": [
        "6.- COMO CREAR UN ARRAY DE OTRO ARRAY YA EXISTENTE"
      ],
      "metadata": {
        "id": "pvIY0xRzXaZd"
      }
    },
    {
      "cell_type": "code",
      "source": [
        "a=np.array([1, 2, 3, 4, 5, 6, 7, 8, 9, 10])\n",
        "\n",
        "arr1= a[3:8]\n",
        "\n",
        "arr1"
      ],
      "metadata": {
        "id": "2uoGzlylXHhn",
        "colab": {
          "base_uri": "https://localhost:8080/"
        },
        "outputId": "b747a210-34dc-4c4f-9586-9163a6efa0e9"
      },
      "execution_count": null,
      "outputs": [
        {
          "output_type": "execute_result",
          "data": {
            "text/plain": [
              "array([4, 5, 6, 7, 8])"
            ]
          },
          "metadata": {},
          "execution_count": 69
        }
      ]
    },
    {
      "cell_type": "code",
      "source": [
        "#tambien puedes apilar varios arrays verticalmente u horizontalmente\n",
        "\n",
        "a1= np.array([[1, 1],\n",
        "             [2, 2]])\n",
        "\n",
        "a2= np.array([[3, 3],\n",
        "              [4, 4]])"
      ],
      "metadata": {
        "id": "ONPqIk5jX1gJ"
      },
      "execution_count": null,
      "outputs": []
    },
    {
      "cell_type": "code",
      "source": [
        "np.vstack((a1, a2))"
      ],
      "metadata": {
        "id": "ruPGcNskYWX5",
        "colab": {
          "base_uri": "https://localhost:8080/"
        },
        "outputId": "b977d6a8-e675-4fe7-b4cf-67b5682126b0"
      },
      "execution_count": null,
      "outputs": [
        {
          "output_type": "execute_result",
          "data": {
            "text/plain": [
              "array([[1, 1],\n",
              "       [2, 2],\n",
              "       [3, 3],\n",
              "       [4, 4]])"
            ]
          },
          "metadata": {},
          "execution_count": 71
        }
      ]
    },
    {
      "cell_type": "code",
      "source": [
        "np.hstack((a1, a2))"
      ],
      "metadata": {
        "id": "x6QJnTjVYqrQ",
        "colab": {
          "base_uri": "https://localhost:8080/"
        },
        "outputId": "ca717b6a-3929-4084-9b58-0c58a3505eec"
      },
      "execution_count": null,
      "outputs": [
        {
          "output_type": "execute_result",
          "data": {
            "text/plain": [
              "array([[1, 1, 3, 3],\n",
              "       [2, 2, 4, 4]])"
            ]
          },
          "metadata": {},
          "execution_count": 72
        }
      ]
    },
    {
      "cell_type": "code",
      "source": [
        "#tambien puedes dividirlos en varios arrays mas pequeños, puedes especificar\n",
        "#el numero de arrays iguales\n",
        "\n",
        "x= np.arange(1, 49).reshape(4, 12)\n",
        "x"
      ],
      "metadata": {
        "id": "5AFM5FcyZCYG",
        "colab": {
          "base_uri": "https://localhost:8080/"
        },
        "outputId": "48c419cd-0f31-420f-9ce2-e7399aa292d6"
      },
      "execution_count": null,
      "outputs": [
        {
          "output_type": "execute_result",
          "data": {
            "text/plain": [
              "array([[ 1,  2,  3,  4,  5,  6,  7,  8,  9, 10, 11, 12],\n",
              "       [13, 14, 15, 16, 17, 18, 19, 20, 21, 22, 23, 24],\n",
              "       [25, 26, 27, 28, 29, 30, 31, 32, 33, 34, 35, 36],\n",
              "       [37, 38, 39, 40, 41, 42, 43, 44, 45, 46, 47, 48]])"
            ]
          },
          "metadata": {},
          "execution_count": 73
        }
      ]
    },
    {
      "cell_type": "code",
      "source": [
        "np.hsplit(x, 3)"
      ],
      "metadata": {
        "id": "OcyI6fyVZcao",
        "colab": {
          "base_uri": "https://localhost:8080/"
        },
        "outputId": "e5609fa2-dc18-4175-8af8-1f67c5b1115c"
      },
      "execution_count": null,
      "outputs": [
        {
          "output_type": "execute_result",
          "data": {
            "text/plain": [
              "[array([[ 1,  2,  3,  4],\n",
              "        [13, 14, 15, 16],\n",
              "        [25, 26, 27, 28],\n",
              "        [37, 38, 39, 40]]),\n",
              " array([[ 5,  6,  7,  8],\n",
              "        [17, 18, 19, 20],\n",
              "        [29, 30, 31, 32],\n",
              "        [41, 42, 43, 44]]),\n",
              " array([[ 9, 10, 11, 12],\n",
              "        [21, 22, 23, 24],\n",
              "        [33, 34, 35, 36],\n",
              "        [45, 46, 47, 48]])]"
            ]
          },
          "metadata": {},
          "execution_count": 74
        }
      ]
    },
    {
      "cell_type": "code",
      "source": [
        "arr = np.array([[1, 2, 3, 4],\n",
        "                [5, 6, 7, 8],\n",
        "                [9, 10, 11, 12]])\n",
        "\n",
        "# Dividimos el array horizontalmente en dos partes\n",
        "result = np.hsplit(arr, 2)\n",
        "\n",
        "# Imprimimos los resultados\n",
        "print(\"Array original:\")\n",
        "print(arr)\n",
        "\n",
        "print(\"\\nResultado de hsplit():\")\n",
        "print(result)"
      ],
      "metadata": {
        "colab": {
          "base_uri": "https://localhost:8080/"
        },
        "id": "-gPCIRhnY_eQ",
        "outputId": "de8bdbc4-9a6f-49d3-c308-0bc18b6d21e1"
      },
      "execution_count": null,
      "outputs": [
        {
          "output_type": "stream",
          "name": "stdout",
          "text": [
            "Array original:\n",
            "[[ 1  2  3  4]\n",
            " [ 5  6  7  8]\n",
            " [ 9 10 11 12]]\n",
            "\n",
            "Resultado de hsplit():\n",
            "[array([[ 1,  2],\n",
            "       [ 5,  6],\n",
            "       [ 9, 10]]), array([[ 3,  4],\n",
            "       [ 7,  8],\n",
            "       [11, 12]])]\n"
          ]
        }
      ]
    },
    {
      "cell_type": "code",
      "source": [
        "#si quieres separarlo despues de la tercera y cuarta columna\n",
        "\n",
        "np.hsplit(x, (3, 4))"
      ],
      "metadata": {
        "id": "6XrMtQG4Zn5K",
        "colab": {
          "base_uri": "https://localhost:8080/"
        },
        "outputId": "7d074f1e-f15a-4c3a-d555-e40357193399"
      },
      "execution_count": null,
      "outputs": [
        {
          "output_type": "execute_result",
          "data": {
            "text/plain": [
              "[array([[ 1,  2,  3],\n",
              "        [13, 14, 15],\n",
              "        [25, 26, 27],\n",
              "        [37, 38, 39]]),\n",
              " array([[ 4],\n",
              "        [16],\n",
              "        [28],\n",
              "        [40]]),\n",
              " array([[ 5,  6,  7,  8,  9, 10, 11, 12],\n",
              "        [17, 18, 19, 20, 21, 22, 23, 24],\n",
              "        [29, 30, 31, 32, 33, 34, 35, 36],\n",
              "        [41, 42, 43, 44, 45, 46, 47, 48]])]"
            ]
          },
          "metadata": {},
          "execution_count": 76
        }
      ]
    },
    {
      "cell_type": "markdown",
      "source": [
        "7.- OPERACIONES BASICAS CON ARRAYS"
      ],
      "metadata": {
        "id": "SBwULWmFaD2C"
      }
    },
    {
      "cell_type": "code",
      "source": [
        "#sumar\n",
        "arr1= np.array([1, 2])\n",
        "\n",
        "arr1"
      ],
      "metadata": {
        "id": "9-r69HY8adck",
        "colab": {
          "base_uri": "https://localhost:8080/"
        },
        "outputId": "c6744dcf-dadf-4a1c-b389-ca0f3c8f32e0"
      },
      "execution_count": null,
      "outputs": [
        {
          "output_type": "execute_result",
          "data": {
            "text/plain": [
              "array([1, 2])"
            ]
          },
          "metadata": {},
          "execution_count": 77
        }
      ]
    },
    {
      "cell_type": "code",
      "source": [
        "arr2= np.ones(2, dtype=int)\n",
        "arr2"
      ],
      "metadata": {
        "colab": {
          "base_uri": "https://localhost:8080/"
        },
        "id": "G_6inMRt0Dlx",
        "outputId": "73e17fc9-15b1-4b99-f8fe-ad9fa25c35aa"
      },
      "execution_count": null,
      "outputs": [
        {
          "output_type": "execute_result",
          "data": {
            "text/plain": [
              "array([1, 1])"
            ]
          },
          "metadata": {},
          "execution_count": 78
        }
      ]
    },
    {
      "cell_type": "code",
      "source": [
        "arr1+arr2"
      ],
      "metadata": {
        "colab": {
          "base_uri": "https://localhost:8080/"
        },
        "id": "Otxdb8ky0PCR",
        "outputId": "f7ed452a-cba0-43fd-8d26-5aada22a996a"
      },
      "execution_count": null,
      "outputs": [
        {
          "output_type": "execute_result",
          "data": {
            "text/plain": [
              "array([2, 3])"
            ]
          },
          "metadata": {},
          "execution_count": 79
        }
      ]
    },
    {
      "cell_type": "code",
      "source": [
        "#restar\n",
        "arr1 - arr2"
      ],
      "metadata": {
        "id": "zSYSYLMkbA6c",
        "colab": {
          "base_uri": "https://localhost:8080/"
        },
        "outputId": "a831a121-b5ca-4cc6-f1eb-5da142552be6"
      },
      "execution_count": null,
      "outputs": [
        {
          "output_type": "execute_result",
          "data": {
            "text/plain": [
              "array([0, 1])"
            ]
          },
          "metadata": {},
          "execution_count": 80
        }
      ]
    },
    {
      "cell_type": "code",
      "source": [
        "#multiplicar\n",
        "arr1*arr1"
      ],
      "metadata": {
        "id": "i1BPRS4XbIzG",
        "colab": {
          "base_uri": "https://localhost:8080/"
        },
        "outputId": "6e6232cb-ce95-43d3-8942-363ccc1d4bb1"
      },
      "execution_count": null,
      "outputs": [
        {
          "output_type": "execute_result",
          "data": {
            "text/plain": [
              "array([1, 4])"
            ]
          },
          "metadata": {},
          "execution_count": 81
        }
      ]
    },
    {
      "cell_type": "code",
      "source": [
        "#dividir\n",
        "arr1/arr1"
      ],
      "metadata": {
        "id": "lWZLAyMXbVDo",
        "colab": {
          "base_uri": "https://localhost:8080/"
        },
        "outputId": "d5831a16-c21d-4dcb-fa66-a790e2849cd5"
      },
      "execution_count": null,
      "outputs": [
        {
          "output_type": "execute_result",
          "data": {
            "text/plain": [
              "array([1., 1.])"
            ]
          },
          "metadata": {},
          "execution_count": 82
        }
      ]
    },
    {
      "cell_type": "code",
      "source": [
        "#para sumar los elementos de un array\n",
        "a= np.array([1, 2, 3, 4])\n",
        "\n",
        "a.sum()"
      ],
      "metadata": {
        "id": "5Jp-NL5cbhCx",
        "colab": {
          "base_uri": "https://localhost:8080/"
        },
        "outputId": "767efcda-e463-4d73-de57-95fa26080d86"
      },
      "execution_count": null,
      "outputs": [
        {
          "output_type": "execute_result",
          "data": {
            "text/plain": [
              "10"
            ]
          },
          "metadata": {},
          "execution_count": 83
        }
      ]
    },
    {
      "cell_type": "code",
      "source": [
        "#para sumar las columnas en un array 2D debemos especificar el axis\n",
        "\n",
        "b= np.array([[1, 1], [2, 2]])\n",
        "\n",
        "b"
      ],
      "metadata": {
        "id": "Jx36pZkGbuSq",
        "colab": {
          "base_uri": "https://localhost:8080/"
        },
        "outputId": "71e44f2c-79c2-4c67-d999-47d4a8250324"
      },
      "execution_count": null,
      "outputs": [
        {
          "output_type": "execute_result",
          "data": {
            "text/plain": [
              "array([[1, 1],\n",
              "       [2, 2]])"
            ]
          },
          "metadata": {},
          "execution_count": 84
        }
      ]
    },
    {
      "cell_type": "code",
      "source": [
        "#Puedes sumar sobre el eje de columnas\n",
        "b.sum(axis=0)"
      ],
      "metadata": {
        "colab": {
          "base_uri": "https://localhost:8080/"
        },
        "id": "ibethlH62RDk",
        "outputId": "d863aca2-1609-4fe7-c02c-322d330171c3"
      },
      "execution_count": null,
      "outputs": [
        {
          "output_type": "execute_result",
          "data": {
            "text/plain": [
              "array([3, 3])"
            ]
          },
          "metadata": {},
          "execution_count": 85
        }
      ]
    },
    {
      "cell_type": "code",
      "source": [
        "#Puedes sumar sobre el eje de filas\n",
        "b.sum(axis=1)"
      ],
      "metadata": {
        "id": "nk1YX_sTcTsx",
        "colab": {
          "base_uri": "https://localhost:8080/"
        },
        "outputId": "f8ce7b4f-9ed4-4cdd-baac-7f0b0836fc4d"
      },
      "execution_count": null,
      "outputs": [
        {
          "output_type": "execute_result",
          "data": {
            "text/plain": [
              "array([2, 4])"
            ]
          },
          "metadata": {},
          "execution_count": 86
        }
      ]
    },
    {
      "cell_type": "code",
      "source": [
        "#tambien podesmos multiplicar un array por un numero (se llama broadcast\n",
        "#en ingles)\n",
        "\n",
        "data= np.array([1.0, 2.0, 3.0, 4.0, 5.0])\n",
        "\n",
        "data*1.6"
      ],
      "metadata": {
        "id": "lPlSDUVhciLs",
        "colab": {
          "base_uri": "https://localhost:8080/"
        },
        "outputId": "4eea07d7-8a58-463c-c106-71381a040b17"
      },
      "execution_count": null,
      "outputs": [
        {
          "output_type": "execute_result",
          "data": {
            "text/plain": [
              "array([1.6, 3.2, 4.8, 6.4, 8. ])"
            ]
          },
          "metadata": {},
          "execution_count": 87
        }
      ]
    },
    {
      "cell_type": "code",
      "source": [
        "#otras operaciones\n",
        "data.max()"
      ],
      "metadata": {
        "id": "I3jrYaAzdY2v",
        "colab": {
          "base_uri": "https://localhost:8080/"
        },
        "outputId": "03c90589-c1d8-4f81-8fe0-63b9f1e41d7b"
      },
      "execution_count": null,
      "outputs": [
        {
          "output_type": "execute_result",
          "data": {
            "text/plain": [
              "5.0"
            ]
          },
          "metadata": {},
          "execution_count": 88
        }
      ]
    },
    {
      "cell_type": "code",
      "source": [
        "data.min()"
      ],
      "metadata": {
        "id": "5ho6obvXdgnD",
        "colab": {
          "base_uri": "https://localhost:8080/"
        },
        "outputId": "8d56ee99-7910-4724-d97f-dd9a62a08e85"
      },
      "execution_count": null,
      "outputs": [
        {
          "output_type": "execute_result",
          "data": {
            "text/plain": [
              "1.0"
            ]
          },
          "metadata": {},
          "execution_count": 89
        }
      ]
    },
    {
      "cell_type": "code",
      "source": [
        "data.sum()"
      ],
      "metadata": {
        "id": "-cgE7Uzmdjxk",
        "colab": {
          "base_uri": "https://localhost:8080/"
        },
        "outputId": "cac10a52-e6a7-4a1d-ca94-ef111ef4fbb7"
      },
      "execution_count": null,
      "outputs": [
        {
          "output_type": "execute_result",
          "data": {
            "text/plain": [
              "15.0"
            ]
          },
          "metadata": {},
          "execution_count": 90
        }
      ]
    },
    {
      "cell_type": "code",
      "source": [
        "data.mean()"
      ],
      "metadata": {
        "id": "4BltdqRKd5hN",
        "colab": {
          "base_uri": "https://localhost:8080/"
        },
        "outputId": "6498ea1c-41e5-428b-8ef5-4ba77981d801"
      },
      "execution_count": null,
      "outputs": [
        {
          "output_type": "execute_result",
          "data": {
            "text/plain": [
              "3.0"
            ]
          },
          "metadata": {},
          "execution_count": 91
        }
      ]
    },
    {
      "cell_type": "code",
      "source": [
        "#para multiplicar todos los elementos entre ellos\n",
        "data.prod()"
      ],
      "metadata": {
        "id": "cmz2XDZ2d8pe",
        "colab": {
          "base_uri": "https://localhost:8080/"
        },
        "outputId": "1f837c85-c0ad-410f-bb37-32cd40c94f68"
      },
      "execution_count": null,
      "outputs": [
        {
          "output_type": "execute_result",
          "data": {
            "text/plain": [
              "120.0"
            ]
          },
          "metadata": {},
          "execution_count": 92
        }
      ]
    },
    {
      "cell_type": "code",
      "source": [
        "#para calcular la desviacion standard\n",
        "data.std()"
      ],
      "metadata": {
        "id": "_oQUXEcbeLZY",
        "colab": {
          "base_uri": "https://localhost:8080/"
        },
        "outputId": "a80d259b-4649-48ce-a9e2-9117d0a20ff1"
      },
      "execution_count": null,
      "outputs": [
        {
          "output_type": "execute_result",
          "data": {
            "text/plain": [
              "1.4142135623730951"
            ]
          },
          "metadata": {},
          "execution_count": 93
        }
      ]
    },
    {
      "cell_type": "code",
      "source": [
        "#para culcular la desviacion standard de numeros muy dispersos\n",
        "\n",
        "a= np.array([1, 15, 60, 390, 550, 34, 7, 342, 100])\n",
        "a.mean()"
      ],
      "metadata": {
        "colab": {
          "base_uri": "https://localhost:8080/"
        },
        "id": "8jWDS_pXM8M9",
        "outputId": "f2e8798c-04ce-4941-93dc-ee93e1ef1964"
      },
      "execution_count": null,
      "outputs": [
        {
          "output_type": "execute_result",
          "data": {
            "text/plain": [
              "166.55555555555554"
            ]
          },
          "metadata": {},
          "execution_count": 94
        }
      ]
    },
    {
      "cell_type": "code",
      "source": [
        "a.std().round(4)"
      ],
      "metadata": {
        "colab": {
          "base_uri": "https://localhost:8080/"
        },
        "id": "sm2SdCZ5NZLQ",
        "outputId": "11b370ed-9cc2-40b8-9fac-eae4cc4b3e1e"
      },
      "execution_count": null,
      "outputs": [
        {
          "output_type": "execute_result",
          "data": {
            "text/plain": [
              "193.4851"
            ]
          },
          "metadata": {},
          "execution_count": 95
        }
      ]
    },
    {
      "cell_type": "markdown",
      "source": [
        "8.- MAS EJERCICIOS CREANDO MATRICES"
      ],
      "metadata": {
        "id": "PIXq4UmoeZTX"
      }
    },
    {
      "cell_type": "code",
      "source": [
        "#Puedes pasar listas de listas de Python para crear un array 2D(matriz)\n",
        "import numpy as np\n",
        "data=np.array([[1, 2], [3, 4], [5,6]])\n",
        "\n",
        "data"
      ],
      "metadata": {
        "id": "I9MBNqoKeYN_",
        "colab": {
          "base_uri": "https://localhost:8080/"
        },
        "outputId": "7a9cae74-f48f-4291-981d-f70576ec178d"
      },
      "execution_count": null,
      "outputs": [
        {
          "output_type": "execute_result",
          "data": {
            "text/plain": [
              "array([[1, 2],\n",
              "       [3, 4],\n",
              "       [5, 6]])"
            ]
          },
          "metadata": {},
          "execution_count": 96
        }
      ]
    },
    {
      "cell_type": "code",
      "source": [
        "#vamos a practicar un poco de slicing con esta matriz\n",
        "data[0, 1]"
      ],
      "metadata": {
        "id": "gvI-4Wv3e1JV",
        "colab": {
          "base_uri": "https://localhost:8080/"
        },
        "outputId": "b5885162-fa73-4c2b-b935-9c731f3ef57a"
      },
      "execution_count": null,
      "outputs": [
        {
          "output_type": "execute_result",
          "data": {
            "text/plain": [
              "2"
            ]
          },
          "metadata": {},
          "execution_count": 97
        }
      ]
    },
    {
      "cell_type": "code",
      "source": [
        "data[0:2]"
      ],
      "metadata": {
        "id": "ZcFCVZjke-P1",
        "colab": {
          "base_uri": "https://localhost:8080/"
        },
        "outputId": "95d9a442-4f68-4cde-8212-b01b6d5eb800"
      },
      "execution_count": null,
      "outputs": [
        {
          "output_type": "execute_result",
          "data": {
            "text/plain": [
              "array([[1, 2],\n",
              "       [3, 4]])"
            ]
          },
          "metadata": {},
          "execution_count": 98
        }
      ]
    },
    {
      "cell_type": "code",
      "source": [
        "data[0:3, 0]"
      ],
      "metadata": {
        "id": "T5_EzzZ8fDfw",
        "colab": {
          "base_uri": "https://localhost:8080/"
        },
        "outputId": "d3a4a040-81a1-4875-d29b-8cc54a67efd5"
      },
      "execution_count": null,
      "outputs": [
        {
          "output_type": "execute_result",
          "data": {
            "text/plain": [
              "array([1, 3, 5])"
            ]
          },
          "metadata": {},
          "execution_count": 99
        }
      ]
    },
    {
      "cell_type": "code",
      "source": [
        "data.max()"
      ],
      "metadata": {
        "id": "QlMvSqp0fRrO",
        "colab": {
          "base_uri": "https://localhost:8080/"
        },
        "outputId": "fe3410bc-8dc3-4bc6-ee3d-b56f783b0ce1"
      },
      "execution_count": null,
      "outputs": [
        {
          "output_type": "execute_result",
          "data": {
            "text/plain": [
              "6"
            ]
          },
          "metadata": {},
          "execution_count": 100
        }
      ]
    },
    {
      "cell_type": "code",
      "source": [
        "data.min()"
      ],
      "metadata": {
        "id": "fpXEQwatfU5e",
        "colab": {
          "base_uri": "https://localhost:8080/"
        },
        "outputId": "afa1abcd-4ea5-4ad8-c5a8-6bf65567f8a0"
      },
      "execution_count": null,
      "outputs": [
        {
          "output_type": "execute_result",
          "data": {
            "text/plain": [
              "1"
            ]
          },
          "metadata": {},
          "execution_count": 101
        }
      ]
    },
    {
      "cell_type": "code",
      "source": [
        "data.sum()"
      ],
      "metadata": {
        "id": "ehmKU8LIfXRC",
        "colab": {
          "base_uri": "https://localhost:8080/"
        },
        "outputId": "236a72ec-58c7-4378-e6f9-db7f87bb0039"
      },
      "execution_count": null,
      "outputs": [
        {
          "output_type": "execute_result",
          "data": {
            "text/plain": [
              "21"
            ]
          },
          "metadata": {},
          "execution_count": 102
        }
      ]
    },
    {
      "cell_type": "code",
      "source": [
        "#podemos agregar los valors de una matriz a lo largo de las columnas o\n",
        "# a los largo de las filas usando el parametro axis. Si axis=0 se suma\n",
        "# a los largo de las columnas si el axis= 1 se suma a lo largo de las\n",
        "#filas"
      ],
      "metadata": {
        "id": "CsVPIdmkjf3-"
      },
      "execution_count": null,
      "outputs": []
    },
    {
      "cell_type": "code",
      "source": [
        "data=np.array([[1, 2], [5, 3], [4, 6]])\n",
        "\n",
        "data"
      ],
      "metadata": {
        "id": "2A0OygB9jzGQ",
        "colab": {
          "base_uri": "https://localhost:8080/"
        },
        "outputId": "9411d194-9b8e-410a-ca1a-bbb3a9ba2229"
      },
      "execution_count": null,
      "outputs": [
        {
          "output_type": "execute_result",
          "data": {
            "text/plain": [
              "array([[1, 2],\n",
              "       [5, 3],\n",
              "       [4, 6]])"
            ]
          },
          "metadata": {},
          "execution_count": 104
        }
      ]
    },
    {
      "cell_type": "code",
      "source": [
        "data.max(axis=0)"
      ],
      "metadata": {
        "id": "4QPiAiRhj83e",
        "colab": {
          "base_uri": "https://localhost:8080/"
        },
        "outputId": "4bc687fc-06db-47b3-8324-5d3fc6279583"
      },
      "execution_count": null,
      "outputs": [
        {
          "output_type": "execute_result",
          "data": {
            "text/plain": [
              "array([5, 6])"
            ]
          },
          "metadata": {},
          "execution_count": 105
        }
      ]
    },
    {
      "cell_type": "code",
      "source": [
        "data.max(axis=1)\n"
      ],
      "metadata": {
        "id": "hLbqtyCNkAwJ",
        "colab": {
          "base_uri": "https://localhost:8080/"
        },
        "outputId": "e84e85ec-0f59-4bb1-d9f3-a2326847af86"
      },
      "execution_count": null,
      "outputs": [
        {
          "output_type": "execute_result",
          "data": {
            "text/plain": [
              "array([2, 5, 6])"
            ]
          },
          "metadata": {},
          "execution_count": 106
        }
      ]
    },
    {
      "cell_type": "code",
      "source": [
        "#si tienes dos matrices del mismo size puedes sumar y multiplicar las dos\n",
        "\n",
        "data1= np.array([[1, 2], [3, 4]])\n",
        "data2= np.array([[1, 1], [1, 1]])\n",
        "\n",
        "data1 + data2"
      ],
      "metadata": {
        "id": "UyVNPFv0kUl9",
        "colab": {
          "base_uri": "https://localhost:8080/"
        },
        "outputId": "7c0517eb-fa07-40ae-872c-3bdcb340b0eb"
      },
      "execution_count": null,
      "outputs": [
        {
          "output_type": "execute_result",
          "data": {
            "text/plain": [
              "array([[2, 3],\n",
              "       [4, 5]])"
            ]
          },
          "metadata": {},
          "execution_count": 107
        }
      ]
    },
    {
      "cell_type": "code",
      "source": [
        "#para multiplicar matrices tenemos dos opciones, o usamos el simbolo @\n",
        "data1@data2"
      ],
      "metadata": {
        "id": "XrMuBNbNk74W",
        "colab": {
          "base_uri": "https://localhost:8080/"
        },
        "outputId": "50b0c76b-4ac0-45ad-9939-0ed410557108"
      },
      "execution_count": null,
      "outputs": [
        {
          "output_type": "execute_result",
          "data": {
            "text/plain": [
              "array([[3, 3],\n",
              "       [7, 7]])"
            ]
          },
          "metadata": {},
          "execution_count": 108
        }
      ]
    },
    {
      "cell_type": "code",
      "source": [
        "#o la funcion dot\n",
        "np.dot(data1, data2)"
      ],
      "metadata": {
        "id": "BQ8bYw-0l5eP",
        "colab": {
          "base_uri": "https://localhost:8080/"
        },
        "outputId": "cc7d81dd-ab4e-4442-8cd4-aa0d02d8d7b7"
      },
      "execution_count": null,
      "outputs": [
        {
          "output_type": "execute_result",
          "data": {
            "text/plain": [
              "array([[3, 3],\n",
              "       [7, 7]])"
            ]
          },
          "metadata": {},
          "execution_count": 109
        }
      ]
    },
    {
      "cell_type": "code",
      "source": [
        "#Puedes hacer estas operaciones matematicas en matrices de diferente sizes,\n",
        "#pero solo si una de las matrices tiene solo una columna o una fila. En este\n",
        "#caso,  NumPy usara la regla broadcast que vimos mas arriba."
      ],
      "metadata": {
        "id": "c3eSPySYmUwM"
      },
      "execution_count": null,
      "outputs": []
    },
    {
      "cell_type": "code",
      "source": [
        "data1=np.array([[1, 2], [3, 4], [5, 6]])\n",
        "data2=np.array([1,1])\n",
        "\n",
        "data1 + data2"
      ],
      "metadata": {
        "id": "vDQgom7anQ-S",
        "colab": {
          "base_uri": "https://localhost:8080/"
        },
        "outputId": "723d7b4f-8f95-414a-b43d-271827e35c98"
      },
      "execution_count": null,
      "outputs": [
        {
          "output_type": "execute_result",
          "data": {
            "text/plain": [
              "array([[2, 3],\n",
              "       [4, 5],\n",
              "       [6, 7]])"
            ]
          },
          "metadata": {},
          "execution_count": 111
        }
      ]
    },
    {
      "cell_type": "markdown",
      "source": [
        "9.- GENERAR NUMEROS AL AZAR.\n",
        "EL USO DE LA GENERACION ALEATORIA\n",
        "DE NUMEROS ES FUNDAMENTAL EN LA CONFIGURACION DE ALGORITMOS\n",
        "NUMERICOS Y DE MACHINE LEARNING. TAMBIEN EN LA INICIALIZACION ALEATORIA DE PESOS EN REDES NEURONALES ARTIFICIALES"
      ],
      "metadata": {
        "id": "Kbxq6ofQn6Y0"
      }
    },
    {
      "cell_type": "code",
      "source": [
        "#Con Generator.integers, podemos generar integers aleatoriamente desde bajo\n",
        "#(recuerda que este numero es incluido en NumPy) hasta alto (excluido).\n",
        "#Podemos establecer el endpoint=True para incluir el numero alto.\n",
        "#rng es la abreviatura de \"Random Number Generator\" en inglés,\n",
        "#Podemos generar un 2 x 4 array de integers aleatorios entre 0 y 4 con:\n",
        "#primero creamos el generador de numeros aleatorios\n",
        "rng = np.random.default_rng()\n",
        "\n",
        "rng.integers(8, size=(2, 14))"
      ],
      "metadata": {
        "id": "Xq_drl43k-Om",
        "colab": {
          "base_uri": "https://localhost:8080/"
        },
        "outputId": "cf91f3e8-a1c4-4fa3-e386-81acc80c2078"
      },
      "execution_count": null,
      "outputs": [
        {
          "output_type": "execute_result",
          "data": {
            "text/plain": [
              "array([[1, 6, 0, 0, 0, 6, 0, 0, 3, 3, 2, 5, 5, 7],\n",
              "       [4, 6, 0, 2, 1, 1, 3, 0, 5, 7, 2, 0, 3, 5]])"
            ]
          },
          "metadata": {},
          "execution_count": 112
        }
      ]
    },
    {
      "cell_type": "markdown",
      "source": [
        "10.- COMO CONSEGUIR VALORES UNICOS Y CONTAR VALORES"
      ],
      "metadata": {
        "id": "iHccOTOHtguq"
      }
    },
    {
      "cell_type": "code",
      "source": [
        "a= np.array([11, 11, 11, 11, 11, 11, 14, 16, 16, 16, 16, 16, 16, 16])\n",
        "#usamos em metodo np.unique()\n",
        "\n",
        "u=np.unique(a)\n",
        "\n",
        "u"
      ],
      "metadata": {
        "id": "zZ_MPjpAtnIQ",
        "colab": {
          "base_uri": "https://localhost:8080/"
        },
        "outputId": "d5e0dd51-18d8-4318-d727-c11fda534699"
      },
      "execution_count": null,
      "outputs": [
        {
          "output_type": "execute_result",
          "data": {
            "text/plain": [
              "array([11, 14, 16])"
            ]
          },
          "metadata": {},
          "execution_count": 113
        }
      ]
    },
    {
      "cell_type": "code",
      "source": [
        "#para contar el numero de valores unicos\n",
        "\n",
        "unicos, ocurren= np.unique(a, return_counts=True)\n",
        "\n",
        "ocurren"
      ],
      "metadata": {
        "id": "_rFjnx03uf6P",
        "colab": {
          "base_uri": "https://localhost:8080/"
        },
        "outputId": "6954bcbd-bced-49d8-d215-2c7f9ad754eb"
      },
      "execution_count": null,
      "outputs": [
        {
          "output_type": "execute_result",
          "data": {
            "text/plain": [
              "array([6, 1, 7])"
            ]
          },
          "metadata": {},
          "execution_count": 114
        }
      ]
    },
    {
      "cell_type": "markdown",
      "source": [
        "11.- TRANSPONER Y REFORMAR UNA MATRIZ"
      ],
      "metadata": {
        "id": "bfguciewwJWi"
      }
    },
    {
      "cell_type": "code",
      "source": [
        "#Transponer es pasar una matriz de 2x3  a 3x2, usamos reshape() y transpose()"
      ],
      "metadata": {
        "id": "weke06O5wO5L"
      },
      "execution_count": null,
      "outputs": []
    },
    {
      "cell_type": "code",
      "source": [
        "data.reshape(2, 3)"
      ],
      "metadata": {
        "id": "GEHkn_6ow0MS",
        "colab": {
          "base_uri": "https://localhost:8080/"
        },
        "outputId": "b823bde5-b6d3-4eac-e82f-7563e9139df2"
      },
      "execution_count": null,
      "outputs": [
        {
          "output_type": "execute_result",
          "data": {
            "text/plain": [
              "array([[1, 2, 5],\n",
              "       [3, 4, 6]])"
            ]
          },
          "metadata": {},
          "execution_count": 116
        }
      ]
    },
    {
      "cell_type": "code",
      "source": [
        "data.reshape(3,2)"
      ],
      "metadata": {
        "id": "odWUfJ7Jw36z",
        "colab": {
          "base_uri": "https://localhost:8080/"
        },
        "outputId": "f520b433-747b-4bfe-c79a-0ae0e41e9c3f"
      },
      "execution_count": null,
      "outputs": [
        {
          "output_type": "execute_result",
          "data": {
            "text/plain": [
              "array([[1, 2],\n",
              "       [5, 3],\n",
              "       [4, 6]])"
            ]
          },
          "metadata": {},
          "execution_count": 117
        }
      ]
    },
    {
      "cell_type": "code",
      "source": [
        "a=np.arange(20)\n",
        "\n",
        "a"
      ],
      "metadata": {
        "colab": {
          "base_uri": "https://localhost:8080/"
        },
        "id": "AV5Opq142TX-",
        "outputId": "839e07bf-f7bd-4427-f4a4-7a579663b5e8"
      },
      "execution_count": null,
      "outputs": [
        {
          "output_type": "execute_result",
          "data": {
            "text/plain": [
              "array([ 0,  1,  2,  3,  4,  5,  6,  7,  8,  9, 10, 11, 12, 13, 14, 15, 16,\n",
              "       17, 18, 19])"
            ]
          },
          "metadata": {},
          "execution_count": 118
        }
      ]
    },
    {
      "cell_type": "code",
      "source": [
        "#para invertir los axis de un array usamos transpose()\n",
        "\n",
        "a=np.arange(20).reshape((5,4))\n",
        "\n",
        "a"
      ],
      "metadata": {
        "id": "JLFCpliExDpR",
        "colab": {
          "base_uri": "https://localhost:8080/"
        },
        "outputId": "ca9c6974-1706-4378-fc53-e3f01297becf"
      },
      "execution_count": null,
      "outputs": [
        {
          "output_type": "execute_result",
          "data": {
            "text/plain": [
              "array([[ 0,  1,  2,  3],\n",
              "       [ 4,  5,  6,  7],\n",
              "       [ 8,  9, 10, 11],\n",
              "       [12, 13, 14, 15],\n",
              "       [16, 17, 18, 19]])"
            ]
          },
          "metadata": {},
          "execution_count": 119
        }
      ]
    },
    {
      "cell_type": "code",
      "source": [
        "a.transpose()"
      ],
      "metadata": {
        "id": "QZiMwjY4xUjw",
        "colab": {
          "base_uri": "https://localhost:8080/"
        },
        "outputId": "0f69f960-a320-43bf-8afc-ea893e4849fa"
      },
      "execution_count": null,
      "outputs": [
        {
          "output_type": "execute_result",
          "data": {
            "text/plain": [
              "array([[ 0,  4,  8, 12, 16],\n",
              "       [ 1,  5,  9, 13, 17],\n",
              "       [ 2,  6, 10, 14, 18],\n",
              "       [ 3,  7, 11, 15, 19]])"
            ]
          },
          "metadata": {},
          "execution_count": 120
        }
      ]
    },
    {
      "cell_type": "code",
      "source": [
        "#tambien podemos usar la T\n",
        "\n",
        "a.T"
      ],
      "metadata": {
        "id": "lbJ0qTBdxbZ_",
        "colab": {
          "base_uri": "https://localhost:8080/"
        },
        "outputId": "f731cdc2-c4d7-4eda-a2d6-2c974e30aec8"
      },
      "execution_count": null,
      "outputs": [
        {
          "output_type": "execute_result",
          "data": {
            "text/plain": [
              "array([[ 0,  4,  8, 12, 16],\n",
              "       [ 1,  5,  9, 13, 17],\n",
              "       [ 2,  6, 10, 14, 18],\n",
              "       [ 3,  7, 11, 15, 19]])"
            ]
          },
          "metadata": {},
          "execution_count": 121
        }
      ]
    },
    {
      "cell_type": "markdown",
      "source": [
        "12.-DARLE LA VUELTA A UN ARRAY"
      ],
      "metadata": {
        "id": "a0T5H0Vux9un"
      }
    },
    {
      "cell_type": "code",
      "source": [
        "#Usamos np.flip()\n",
        "\n",
        "a= np.array([1, 2, 3, 4, 5, 6, 7, 8])\n",
        "\n",
        "np.flip(a)\n",
        "\n"
      ],
      "metadata": {
        "id": "TPIsSNdayC7w",
        "colab": {
          "base_uri": "https://localhost:8080/"
        },
        "outputId": "7764a77c-2b0c-419f-a4f6-6f8220a5ddae"
      },
      "execution_count": null,
      "outputs": [
        {
          "output_type": "execute_result",
          "data": {
            "text/plain": [
              "array([8, 7, 6, 5, 4, 3, 2, 1])"
            ]
          },
          "metadata": {},
          "execution_count": 122
        }
      ]
    },
    {
      "cell_type": "code",
      "source": [
        "#para un array 2D funciona parecido\n",
        "\n",
        "a2=np.array([[1, 2, 3, 4], [5, 6, 7, 8],[9, 10, 11, 12]])\n",
        "\n",
        "a2\n"
      ],
      "metadata": {
        "id": "2iS70Cq5yomE",
        "colab": {
          "base_uri": "https://localhost:8080/"
        },
        "outputId": "e32c223b-f102-407b-a518-822ee04076fb"
      },
      "execution_count": null,
      "outputs": [
        {
          "output_type": "execute_result",
          "data": {
            "text/plain": [
              "array([[ 1,  2,  3,  4],\n",
              "       [ 5,  6,  7,  8],\n",
              "       [ 9, 10, 11, 12]])"
            ]
          },
          "metadata": {},
          "execution_count": 123
        }
      ]
    },
    {
      "cell_type": "code",
      "source": [
        "np.flip(a2)"
      ],
      "metadata": {
        "id": "LyVfv4fwla4p",
        "colab": {
          "base_uri": "https://localhost:8080/"
        },
        "outputId": "35cfb49c-0315-4786-b82a-6287077eb69f"
      },
      "execution_count": null,
      "outputs": [
        {
          "output_type": "execute_result",
          "data": {
            "text/plain": [
              "array([[12, 11, 10,  9],\n",
              "       [ 8,  7,  6,  5],\n",
              "       [ 4,  3,  2,  1]])"
            ]
          },
          "metadata": {},
          "execution_count": 124
        }
      ]
    },
    {
      "cell_type": "code",
      "source": [
        "#puedes darle la vuelta solo a las filas\n",
        "\n",
        "solofilas=np.flip(a2, axis=0)\n",
        "\n",
        "solofilas"
      ],
      "metadata": {
        "id": "aazr6KqozMq9",
        "colab": {
          "base_uri": "https://localhost:8080/"
        },
        "outputId": "ccf68da8-1afe-4348-c60c-eaa26ff66b97"
      },
      "execution_count": null,
      "outputs": [
        {
          "output_type": "execute_result",
          "data": {
            "text/plain": [
              "array([[ 9, 10, 11, 12],\n",
              "       [ 5,  6,  7,  8],\n",
              "       [ 1,  2,  3,  4]])"
            ]
          },
          "metadata": {},
          "execution_count": 125
        }
      ]
    },
    {
      "cell_type": "code",
      "source": [
        "#o puedes darle la vuelta solo a columnas\n",
        "\n",
        "solocolumnas= np.flip(a2, axis=1)\n",
        "\n",
        "solocolumnas"
      ],
      "metadata": {
        "id": "CCWBZ1eEzjhl",
        "colab": {
          "base_uri": "https://localhost:8080/"
        },
        "outputId": "deff2052-f3af-4bed-c86b-5680f793ef8e"
      },
      "execution_count": null,
      "outputs": [
        {
          "output_type": "execute_result",
          "data": {
            "text/plain": [
              "array([[ 4,  3,  2,  1],\n",
              "       [ 8,  7,  6,  5],\n",
              "       [12, 11, 10,  9]])"
            ]
          },
          "metadata": {},
          "execution_count": 126
        }
      ]
    },
    {
      "cell_type": "markdown",
      "source": [
        "13.-APLANAR ARRAYS MULTIDIMENSIONALES"
      ],
      "metadata": {
        "id": "Ozq8INwbl0la"
      }
    },
    {
      "cell_type": "code",
      "source": [
        "#podemos usar el flatten() para convertir array multidimensional en 1D\n",
        "\n",
        "x=np.array([[1, 2, 3, 4], [5, 6, 7, 8], [9, 10, 11, 12]])\n",
        "\n",
        "x\n"
      ],
      "metadata": {
        "id": "ak2n96NJ0HyM",
        "colab": {
          "base_uri": "https://localhost:8080/"
        },
        "outputId": "3eb5e2cf-43d3-4fb2-e52a-cd9b7e06cb06"
      },
      "execution_count": null,
      "outputs": [
        {
          "output_type": "execute_result",
          "data": {
            "text/plain": [
              "array([[ 1,  2,  3,  4],\n",
              "       [ 5,  6,  7,  8],\n",
              "       [ 9, 10, 11, 12]])"
            ]
          },
          "metadata": {},
          "execution_count": 127
        }
      ]
    },
    {
      "cell_type": "code",
      "source": [
        "x.flatten()"
      ],
      "metadata": {
        "id": "gTXh8kQzl_lM",
        "colab": {
          "base_uri": "https://localhost:8080/"
        },
        "outputId": "229008e7-6ee9-41ec-8ac7-37d2bca564c5"
      },
      "execution_count": null,
      "outputs": [
        {
          "output_type": "execute_result",
          "data": {
            "text/plain": [
              "array([ 1,  2,  3,  4,  5,  6,  7,  8,  9, 10, 11, 12])"
            ]
          },
          "metadata": {},
          "execution_count": 128
        }
      ]
    },
    {
      "cell_type": "markdown",
      "source": [
        "14.-EL METODO numpy.linalg. Ofrece una amplia gama de operaciones y calculos en\n",
        "algebra lineal como la resolucion de sistemas de ecuaciones lineales, calculo de la inversa de una matriz, etc"
      ],
      "metadata": {
        "id": "EXOP8texm4KA"
      }
    },
    {
      "cell_type": "code",
      "source": [
        "#vamos a resolver un sistema de 3 ecuaciones lineales con 3 incognitas\n",
        "#usando el metodo numpy.linalg.solve()\n",
        "\n",
        "a= np.array([[2, 3, -1], [4, 1, 2], [3, -2, 1]]) #coeficientes de las variables\n",
        "\n",
        "b= np.array([7, 4, 10]) #terminos independientes, detras del signo igual\n",
        "\n",
        "#2x + 3y - z= 7\n",
        "#4x + y + 2z= 4\n",
        "#3x -2y + z= 10\n",
        "x=np.linalg.solve(a, b)\n",
        "\n",
        "x"
      ],
      "metadata": {
        "id": "rxf8tqhAyhOf",
        "colab": {
          "base_uri": "https://localhost:8080/"
        },
        "outputId": "bb5200d0-30f8-42b6-9bdc-8bb9594cd4fd"
      },
      "execution_count": null,
      "outputs": [
        {
          "output_type": "execute_result",
          "data": {
            "text/plain": [
              "array([ 3.74074074, -1.7037037 , -4.62962963])"
            ]
          },
          "metadata": {},
          "execution_count": 129
        }
      ]
    },
    {
      "cell_type": "code",
      "source": [
        "a=np.array([[2, 3], [4, 1]])\n",
        "\n",
        "b= np.array([7, 4])\n",
        "\n",
        "#2x + 3y = 7\n",
        "#4x + y = 4\n",
        "\n",
        "x=np.linalg.solve(a, b)\n",
        "\n",
        "x"
      ],
      "metadata": {
        "id": "Ext-ReU91oZA",
        "colab": {
          "base_uri": "https://localhost:8080/"
        },
        "outputId": "1a90d5df-e1e5-4db0-8abb-871b912b2b90"
      },
      "execution_count": null,
      "outputs": [
        {
          "output_type": "execute_result",
          "data": {
            "text/plain": [
              "array([0.5, 2. ])"
            ]
          },
          "metadata": {},
          "execution_count": 130
        }
      ]
    },
    {
      "cell_type": "code",
      "source": [
        "import numpy as np\n",
        "#La matriz inversa de una matriz cuadrada es la  matriz que cumple la propiedad\n",
        "#de que al multiplicarla por A, se obtiene la matriz identidad I.\n",
        "\n",
        "# Creamos una matriz\n",
        "a = np.array([[1, 2], [3, 4]])\n",
        "\n",
        "# Calcular la inversa de la matriz\n",
        "a_inversa = np.linalg.inv(a)\n",
        "\n",
        "# Mostrar la matriz original y su inversa\n",
        "print(\"Matriz a:\")\n",
        "print(a)\n",
        "print(\"\\nInversa de la matriz a:\")\n",
        "print(a_inversa)"
      ],
      "metadata": {
        "id": "qiDmhuxtm8s0",
        "colab": {
          "base_uri": "https://localhost:8080/"
        },
        "outputId": "56199bac-a2e1-48f0-ccef-543be7880bb9"
      },
      "execution_count": null,
      "outputs": [
        {
          "output_type": "stream",
          "name": "stdout",
          "text": [
            "Matriz a:\n",
            "[[1 2]\n",
            " [3 4]]\n",
            "\n",
            "Inversa de la matriz a:\n",
            "[[-2.   1. ]\n",
            " [ 1.5 -0.5]]\n"
          ]
        }
      ]
    },
    {
      "cell_type": "code",
      "source": [
        "#Para comprobar que hemos calculado bien la matriz inversa de A\n",
        "#vamos a multiplicar la matriz A por la matriz inversa y nos tiene que dar\n",
        "#la matriz identidad que es una matriz cuadrada en la que los elementos de la\n",
        "#diagonal son todos 1 y el resto de los elementos todos cero.\n",
        "#Por ejemplo[1,0] [0, 1]\n",
        "\n",
        "a=np.array([[1, 2], [3, 4]])\n",
        "ainv=np.array([[-2, 1], [1.5, -0.5]])\n",
        "\n",
        "a@ainv"
      ],
      "metadata": {
        "id": "_aCu-Uronu80",
        "colab": {
          "base_uri": "https://localhost:8080/"
        },
        "outputId": "0219d595-92e8-477a-9ceb-5d81a6dfe916"
      },
      "execution_count": null,
      "outputs": [
        {
          "output_type": "execute_result",
          "data": {
            "text/plain": [
              "array([[1., 0.],\n",
              "       [0., 1.]])"
            ]
          },
          "metadata": {},
          "execution_count": 132
        }
      ]
    },
    {
      "cell_type": "markdown",
      "source": [
        "15.- EJERCICIOS DE ARRAYS"
      ],
      "metadata": {
        "id": "XNyvdqNN0zFN"
      }
    },
    {
      "cell_type": "code",
      "source": [
        "import numpy as np\n",
        "\n",
        "# Crear dos matrices\n",
        "A = np.array([[1, 2, 3], [4, 5, 6], [7, 8, 9]])\n",
        "B = np.array([[10, 11, 12], [13, 14, 15], [16, 17, 18]])\n",
        "\n",
        "# Realizar la suma de las matrices\n",
        "C = A + B\n",
        "\n",
        "# Realizar la multiplicación elemento a elemento de las matrices\n",
        "D = A * B\n",
        "\n",
        "# Realizar la multiplicación matricial de las matrices\n",
        "E = np.dot(A, B)\n",
        "\n",
        "# Calcular la transpuesta de una matriz\n",
        "F = A.T\n",
        "\n",
        "# Mostrar los resultados\n",
        "print(\"Matriz A:\")\n",
        "print(A)\n",
        "print(\"\\nMatriz B:\")\n",
        "print(B)\n",
        "print(\"\\nSuma de las matrices (A + B):\")\n",
        "print(C)\n",
        "print(\"\\nMultiplicación elemento a elemento (A * B):\")\n",
        "print(D)\n",
        "print(\"\\nMultiplicación matricial (A dot B):\")\n",
        "print(E)\n",
        "print(\"\\nTranspuesta de la matriz A:\")\n",
        "print(F)\n",
        "\n"
      ],
      "metadata": {
        "id": "lFpkUgVsD1hW",
        "colab": {
          "base_uri": "https://localhost:8080/"
        },
        "outputId": "eb3f0424-3f0a-4fa2-b719-0391a739723c"
      },
      "execution_count": null,
      "outputs": [
        {
          "output_type": "stream",
          "name": "stdout",
          "text": [
            "Matriz A:\n",
            "[[1 2 3]\n",
            " [4 5 6]\n",
            " [7 8 9]]\n",
            "\n",
            "Matriz B:\n",
            "[[10 11 12]\n",
            " [13 14 15]\n",
            " [16 17 18]]\n",
            "\n",
            "Suma de las matrices (A + B):\n",
            "[[11 13 15]\n",
            " [17 19 21]\n",
            " [23 25 27]]\n",
            "\n",
            "Multiplicación elemento a elemento (A * B):\n",
            "[[ 10  22  36]\n",
            " [ 52  70  90]\n",
            " [112 136 162]]\n",
            "\n",
            "Multiplicación matricial (A dot B):\n",
            "[[ 84  90  96]\n",
            " [201 216 231]\n",
            " [318 342 366]]\n",
            "\n",
            "Transpuesta de la matriz A:\n",
            "[[1 4 7]\n",
            " [2 5 8]\n",
            " [3 6 9]]\n"
          ]
        }
      ]
    },
    {
      "cell_type": "code",
      "source": [
        "matriz = np.array([[1, 2, 3],\n",
        "                  [4, 5, 6],\n",
        "                  [8, 8, 9]])\n",
        "\n",
        "matriz"
      ],
      "metadata": {
        "id": "NyEOh_nLDq2U",
        "colab": {
          "base_uri": "https://localhost:8080/"
        },
        "outputId": "9815de55-a4c4-4601-dab7-c7564a20478c"
      },
      "execution_count": null,
      "outputs": [
        {
          "output_type": "execute_result",
          "data": {
            "text/plain": [
              "array([[1, 2, 3],\n",
              "       [4, 5, 6],\n",
              "       [8, 8, 9]])"
            ]
          },
          "metadata": {},
          "execution_count": 134
        }
      ]
    },
    {
      "cell_type": "code",
      "source": [
        "#nos va a dar error porque no todas las matrices tienen su inversa, las matrices\n",
        "#singulares son cuadradas pero no tienen matriz inversa\n",
        "matriz_inversa = np.linalg.inv(matriz)\n",
        "\n",
        "matriz_inversa"
      ],
      "metadata": {
        "id": "B0sERkPyuRc-",
        "colab": {
          "base_uri": "https://localhost:8080/"
        },
        "outputId": "810ff4f4-e61a-4134-d625-0db901f277ad"
      },
      "execution_count": null,
      "outputs": [
        {
          "output_type": "execute_result",
          "data": {
            "text/plain": [
              "array([[ 1.        , -2.        ,  1.        ],\n",
              "       [-4.        ,  5.        , -2.        ],\n",
              "       [ 2.66666667, -2.66666667,  1.        ]])"
            ]
          },
          "metadata": {},
          "execution_count": 135
        }
      ]
    },
    {
      "cell_type": "code",
      "source": [
        "#Para ver si una matriz es inversa usamos la funcion np.linalgdet()\n",
        "#si nos da cero entonces la matriz es singular y no tiene inversa\n",
        "\n",
        "matriz = np.array([[1, 2, 3],\n",
        "                  [4, 5, 6],\n",
        "                  [7, 8, 9]])\n",
        "\n",
        "det=np.linalg.det(matriz)\n",
        "\n",
        "det"
      ],
      "metadata": {
        "id": "ZYSdrqH5wJpH",
        "colab": {
          "base_uri": "https://localhost:8080/"
        },
        "outputId": "56012604-6fd9-47fc-c44b-46400f8138ba"
      },
      "execution_count": null,
      "outputs": [
        {
          "output_type": "execute_result",
          "data": {
            "text/plain": [
              "0.0"
            ]
          },
          "metadata": {},
          "execution_count": 136
        }
      ]
    },
    {
      "cell_type": "code",
      "source": [
        "#un ejemplo de una matriz no singular es\n",
        "\n",
        "m= np.array([[2, 1, 3], [1, 0, 2], [3, 2, 1]])\n",
        "\n",
        "inv=np.linalg.inv(m)\n",
        "\n",
        "inv"
      ],
      "metadata": {
        "id": "A0vBgZfMw1bC",
        "colab": {
          "base_uri": "https://localhost:8080/"
        },
        "outputId": "015307fa-f5d0-4f30-d3b2-865c597f759c"
      },
      "execution_count": null,
      "outputs": [
        {
          "output_type": "execute_result",
          "data": {
            "text/plain": [
              "array([[-1.33333333,  1.66666667,  0.66666667],\n",
              "       [ 1.66666667, -2.33333333, -0.33333333],\n",
              "       [ 0.66666667, -0.33333333, -0.33333333]])"
            ]
          },
          "metadata": {},
          "execution_count": 137
        }
      ]
    },
    {
      "cell_type": "markdown",
      "source": [
        "16.- SUDOKU DE INDICES"
      ],
      "metadata": {
        "id": "7cfr-qA48if2"
      }
    },
    {
      "cell_type": "code",
      "source": [
        "a=np.array([[1,2,3,4,5], [6,7,8,9,10], [11,12,13,14,15],\n",
        "    [16,17,18,19,20], [21,22,23,24,25], [26,27,28,29,30]])\n",
        "\n",
        "a"
      ],
      "metadata": {
        "id": "NhQxOwPo8mhT",
        "colab": {
          "base_uri": "https://localhost:8080/"
        },
        "outputId": "e2d40679-218b-47bc-aa57-f7c3138f37b8"
      },
      "execution_count": null,
      "outputs": [
        {
          "output_type": "execute_result",
          "data": {
            "text/plain": [
              "array([[ 1,  2,  3,  4,  5],\n",
              "       [ 6,  7,  8,  9, 10],\n",
              "       [11, 12, 13, 14, 15],\n",
              "       [16, 17, 18, 19, 20],\n",
              "       [21, 22, 23, 24, 25],\n",
              "       [26, 27, 28, 29, 30]])"
            ]
          },
          "metadata": {},
          "execution_count": 138
        }
      ]
    },
    {
      "cell_type": "code",
      "source": [
        "#calcula los indices de 11, 12, 16, 17\n",
        "#calcula los indices de 2, 8, 14, 20\n",
        "#calcula los indices de 4, 5, 24, 25, 29, 30\n",
        "\n",
        "a[2:4, 0:2] #filas y columnas"
      ],
      "metadata": {
        "id": "OG_E2-i-9QHo",
        "colab": {
          "base_uri": "https://localhost:8080/"
        },
        "outputId": "2d3a3d02-8bc8-4142-c014-114dbf813fbc"
      },
      "execution_count": null,
      "outputs": [
        {
          "output_type": "execute_result",
          "data": {
            "text/plain": [
              "array([[11, 12],\n",
              "       [16, 17]])"
            ]
          },
          "metadata": {},
          "execution_count": 146
        }
      ]
    },
    {
      "cell_type": "code",
      "source": [
        "a[[0,1,2,3], [1,2,3,4]] #filas y columnas"
      ],
      "metadata": {
        "id": "oduJgIPo9rgB",
        "colab": {
          "base_uri": "https://localhost:8080/"
        },
        "outputId": "a1c14d80-d6e4-4708-9e06-b18c4fc89b2c"
      },
      "execution_count": null,
      "outputs": [
        {
          "output_type": "execute_result",
          "data": {
            "text/plain": [
              "array([ 2,  8, 14, 20])"
            ]
          },
          "metadata": {},
          "execution_count": 147
        }
      ]
    },
    {
      "cell_type": "code",
      "source": [
        "a[[0,4,5], 3:] #filas y columnas"
      ],
      "metadata": {
        "id": "ZoyxluVp96KQ",
        "colab": {
          "base_uri": "https://localhost:8080/"
        },
        "outputId": "8065333c-9755-47a5-d0cc-d7f321a9aeeb"
      },
      "execution_count": null,
      "outputs": [
        {
          "output_type": "execute_result",
          "data": {
            "text/plain": [
              "array([[ 4,  5],\n",
              "       [24, 25],\n",
              "       [29, 30]])"
            ]
          },
          "metadata": {},
          "execution_count": 148
        }
      ]
    },
    {
      "cell_type": "code",
      "source": [
        "#EJERCICIOS SIN SOLUCION\n",
        "#calcula los indices de 1, 5, 26, 30\n",
        "#calcula los indices de 5, 10, 15, 20, 25, 30\n",
        "#calcula los indices de 1, 7, 13, 19, 25\n",
        "#calcula los indices de 26, 21, 16, 11, 6, 1\n",
        "#calcula los indices de 11, 12, 13, 14, 15\n",
        "\n"
      ],
      "metadata": {
        "id": "tp5d9G5X_mqw"
      },
      "execution_count": null,
      "outputs": []
    },
    {
      "cell_type": "code",
      "source": [
        "a[[0,0,5,5], [0,4,0,4]]"
      ],
      "metadata": {
        "id": "pEeJKn1NY-Cl",
        "colab": {
          "base_uri": "https://localhost:8080/"
        },
        "outputId": "e0f875a0-e220-461e-aff1-9707dd78cdf7"
      },
      "execution_count": null,
      "outputs": [
        {
          "output_type": "execute_result",
          "data": {
            "text/plain": [
              "array([ 1,  5, 26, 30])"
            ]
          },
          "metadata": {},
          "execution_count": 149
        }
      ]
    },
    {
      "cell_type": "code",
      "source": [
        "a[[0,1,2,3,4,5], 4]"
      ],
      "metadata": {
        "id": "Hi4hHTtxWbvm",
        "colab": {
          "base_uri": "https://localhost:8080/"
        },
        "outputId": "55d9f2c0-6cff-4dc2-939b-f9ca002ce00d"
      },
      "execution_count": null,
      "outputs": [
        {
          "output_type": "execute_result",
          "data": {
            "text/plain": [
              "array([ 5, 10, 15, 20, 25, 30])"
            ]
          },
          "metadata": {},
          "execution_count": 150
        }
      ]
    },
    {
      "cell_type": "code",
      "source": [
        "a[[0,1,2,3,4], [0,1,2,3,4]]"
      ],
      "metadata": {
        "id": "56Mr2Uf2YHOP",
        "colab": {
          "base_uri": "https://localhost:8080/"
        },
        "outputId": "16133525-44c2-4d59-9edc-bd71cb24341a"
      },
      "execution_count": null,
      "outputs": [
        {
          "output_type": "execute_result",
          "data": {
            "text/plain": [
              "array([ 1,  7, 13, 19, 25])"
            ]
          },
          "metadata": {},
          "execution_count": 145
        }
      ]
    }
  ]
}